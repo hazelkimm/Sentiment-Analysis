{
  "nbformat": 4,
  "nbformat_minor": 0,
  "metadata": {
    "colab": {
      "provenance": [],
      "include_colab_link": true
    },
    "kernelspec": {
      "name": "python3",
      "display_name": "Python 3"
    },
    "language_info": {
      "name": "python"
    }
  },
  "cells": [
    {
      "cell_type": "markdown",
      "metadata": {
        "id": "view-in-github",
        "colab_type": "text"
      },
      "source": [
        "<a href=\"https://colab.research.google.com/github/hazelkimm/Sentiment-Analysis/blob/main/Hazel_Lab_1_Intro_to_NumPy_and_Pandas_2022.ipynb\" target=\"_parent\"><img src=\"https://colab.research.google.com/assets/colab-badge.svg\" alt=\"Open In Colab\"/></a>"
      ]
    },
    {
      "cell_type": "markdown",
      "metadata": {
        "id": "Vca8zvQnRBhI"
      },
      "source": [
        "# **Introduction to Python**\n",
        "\n",
        "<img src='https://drive.google.com/uc?id=17eYO8zCyArTrt81izCWXCg5JvaaCLO46'>\n",
        "\n",
        "Python is one of the most popular programming languages in the world. It is a general-purpose programming language, which means that it has a wide variety of applications including software development, web development and data science. We are interested in the application of Python in data science.\n",
        "\n",
        "Python is extremely useful for data science as it makes it easy to read, clean, manipulate, and analyze data. You can also visualize your data using graphs and maps, create a classifier (e.g. for classifying patients based on whether or not they have heart disease), build a reommendation system (e.g. for recommending a new song based on your favorite songs) and more. Therefore, knowing how to do data science in Python is a powerful skill.\n",
        "\n",
        "## **Terminology**\n",
        "\n",
        "Let's start by learning some basic Python terminology.\n",
        "\n",
        "- **Syntax**: Syntax refers to the format of the code you are writing. You must format your code in a specific way to make sure that it's error free.\n",
        "\n",
        "- **Function**: Functions are commands that take in some input and give you some output. For example, sum() is a function that takes in a set of numbers as the input and give you the sum of those numbers as the output. Note that not all functions take in an input (you'll learn more about this later).\n",
        "\n",
        "- **Argument**: Arguments are the inputs of your function. For instance, in sum([13, 20]), the list [13, 20] is the argument of the function sum().\n",
        "\n",
        "- **Library**: You can think of libraries as a collection of functions for a specific purpose.\n",
        "\n",
        "## **Writing Code**\n",
        "\n",
        "For our project, we'll be using Google Colab to write code so you don't have to download the Python software to write and run code. Google Colab allows you to do this on your browser. All you have to do is create a code cell, write and press Shift + Enter to run it.\n"
      ]
    },
    {
      "cell_type": "markdown",
      "metadata": {
        "id": "bgCan3Q7Dvdw"
      },
      "source": [
        "# **Introduction to NumPy**\n",
        "\n",
        "<img src='https://drive.google.com/uc?id=1yvRF_75z5FbfUWsZwy4QaLhI-Q32oJgH'>\n",
        "\n",
        "Numpy is a Python library used for managing arrays and performing mathematical operations. We start by importing the NumPy library."
      ]
    },
    {
      "cell_type": "code",
      "metadata": {
        "id": "PE_w5kzxDwLE"
      },
      "source": [
        "import numpy as np"
      ],
      "execution_count": null,
      "outputs": []
    },
    {
      "cell_type": "markdown",
      "source": [
        "In the above line of code, we imported the NumPy library. The 'as np' expression in the import statement allows us to name the library so that it's easier to use. To use a function in the library, you have to include 'np.' as the prefix (e.g. np.mean).\n",
        "\n",
        "However, if you want to use the functions in the library without having to include the prefix, use this import statement:"
      ],
      "metadata": {
        "id": "0R_zyHf6SXJp"
      }
    },
    {
      "cell_type": "code",
      "source": [
        "from numpy import *"
      ],
      "metadata": {
        "id": "KUdx1EZKSm8-"
      },
      "execution_count": null,
      "outputs": []
    },
    {
      "cell_type": "markdown",
      "source": [
        "In the above line, we are basically saying that we want to import all the functions from the numpy module. This saves us the need to use the 'np.' prefix before the NumPy functions.\n",
        "\n"
      ],
      "metadata": {
        "id": "l29bZDteSnz8"
      }
    },
    {
      "cell_type": "markdown",
      "metadata": {
        "id": "mvEntWDB3JSw"
      },
      "source": [
        "## **Functions**\n",
        "\n",
        "Recall that functions are commands that take in certain inputs to generate an output. Here's a diagram that summarizes functions:\n",
        "\n",
        "<img src='https://drive.google.com/uc?id=1ZNWEGYbdnnUT1aCnqkvUuWytALbBQvC1'>\n",
        "\n",
        "A special type of functions are methods. Methods are functions that must be used on a particular object (e.g. tables).\n",
        "\n",
        "Some functions are built-in while others must be imported. Built-in functions are functions that are always available in Python. You don't have to import any libraries in order to use them. An example is sum().\n",
        "\n",
        "On the other hand, some functions can only be used after you import certain libraries. An example is NumPy, which contains various data science functions such as np.mean and np.array. You cannot use these functions without first importing the NumPy library as they are not built-in.\n",
        "\n"
      ]
    },
    {
      "cell_type": "markdown",
      "metadata": {
        "id": "j3eeNmuOw5IL"
      },
      "source": [
        "## **Defining Functions**\n",
        "\n",
        "Python has tons of functions but sometimes, you might want to create your own function to perform a specific task. Python also allows you to define your own functions using the def function.\n",
        "\n",
        "This is the syntax for defining a function:\n",
        "\n",
        "```\n",
        "def *function_name(arguments)*:\n",
        "  '''description'''\n",
        "  *expression*\n",
        "  return *output*\n",
        "```\n",
        "\n",
        "Note that the description is optional but you can include it to let other people know what your function does.\n",
        "\n",
        "The print() function is used for displaying output. However, when we are defining a function, we use the return function to display the output. The return function is specifically used at the end of a function you defined to make sure that your function provides an output. If you are printing anything in your function, you don't have to use the return command (see the following example).\n"
      ]
    },
    {
      "cell_type": "markdown",
      "metadata": {
        "id": "4A7UjhZd1vQy"
      },
      "source": [
        "Say you have a list of grades and you want to know the percentage of each grade (A, B and C) in the list. You make this process simple by defining a function that takes a list of grades as its input and gives you the percentages of each of the 3 grades as the output."
      ]
    },
    {
      "cell_type": "code",
      "source": [
        "#Defining the function\n",
        "\n",
        "def grade_percentages(grades_list):\n",
        "  '''Function that calculates the percentage of each grade in a list of grades.'''\n",
        "  \n",
        "  counter_a = 0\n",
        "  counter_b = 0\n",
        "  counter_c = 0\n",
        "  other = 0\n",
        "\n",
        "  for grade in grades_list:\n",
        "    if grade == 'a':\n",
        "      counter_a = counter_a + 1\n",
        "    elif grade == 'b':\n",
        "      counter_b = counter_b + 1\n",
        "    elif grade == 'c':\n",
        "      counter_c = counter_c + 1\n",
        "    else:\n",
        "      other = other + 1\n",
        "\n",
        "  #The len() function is used for finding the total number of items in a list.\n",
        "  list_len = len(grades_list)\n",
        "  prop_a = 100*(counter_a/list_len)\n",
        "  prop_b = 100*(counter_b/list_len)\n",
        "  prop_c = 100*(counter_c/list_len)\n",
        "  prop_other = 100*(other/list_len)\n",
        "\n",
        "  print(\"% of As:\", prop_a)\n",
        "  print(\"% of Bs:\", prop_b)\n",
        "  print(\"% of Cs:\", prop_c)\n",
        "  print(\"% of other grades:\", prop_other)\n",
        "\n",
        "#Trying out our function\n",
        "grades_list = ['a', 'a', 'b', 'b', 'b', 'a', 'a', 'c', 'b', 'c', 'c', 'f']\n",
        "grade_percentages(grades_list)"
      ],
      "metadata": {
        "id": "4n2fvZb3XGQr",
        "colab": {
          "base_uri": "https://localhost:8080/"
        },
        "outputId": "4018257c-4ef4-4d28-d172-dc9989c072d0"
      },
      "execution_count": null,
      "outputs": [
        {
          "output_type": "stream",
          "name": "stdout",
          "text": [
            "% of As: 33.33333333333333\n",
            "% of Bs: 33.33333333333333\n",
            "% of Cs: 25.0\n",
            "% of other grades: 8.333333333333332\n"
          ]
        }
      ]
    },
    {
      "cell_type": "markdown",
      "metadata": {
        "id": "KTBgWtERs6Yz"
      },
      "source": [
        "## **Storing Data**\n",
        "\n",
        "Storing data is important as it allows you to use the data later. The most basic way to store data in Python is to assign it to a variable. There are also more complex way of storing and organizing data, such as:\n",
        "\n",
        "- Lists: A list in Python is just a sequence of values. These values can be of any data type (strings, integers, etc.).\n",
        "\n",
        "- Arrays: An array is also a sequence of values of any data type. However, there are important differences between lists and arrays, which we will be discussing below.\n",
        "\n",
        "- Tables: You can think of tables as a collection of lists or arrays. They are organized in columns and rows. Columns give you information about one aspect of all your entries (for example, names of all students). Rows give you information about all aspects of one entry (for example, all the information – such as name, student ID, email, etc. – of one student). In Python, tables can be created using the DataFrame object.\n",
        "\n",
        "Let's start by talking about lists.\n",
        "\n",
        "### **Lists**\n",
        "\n",
        "Creating a list in Python is very easy – just put your values within square brackets ([])."
      ]
    },
    {
      "cell_type": "code",
      "source": [
        "[3, 4, 6, 100] "
      ],
      "metadata": {
        "id": "o7M-jgKjT5ye",
        "colab": {
          "base_uri": "https://localhost:8080/"
        },
        "outputId": "12f22353-d7ce-4808-da00-df4bc26888a6"
      },
      "execution_count": null,
      "outputs": [
        {
          "output_type": "execute_result",
          "data": {
            "text/plain": [
              "[3, 4, 6, 100]"
            ]
          },
          "metadata": {},
          "execution_count": 69
        }
      ]
    },
    {
      "cell_type": "markdown",
      "metadata": {
        "id": "tZvLwSmWqwwH"
      },
      "source": [
        "#### **Lists vs. Arrays**\n",
        "\n",
        "Lists store a set of values, similar to arrays but they are both very different objects. The following are the main differences between lists and arrays (don't worry about how to create arrays just yet).\n",
        "\n",
        "- A particular list can contain items of different data types. For example, a list can have a string, integer, float and Boolean value. However, a particular array can only have items of one data type. "
      ]
    },
    {
      "cell_type": "code",
      "source": [
        "#Example 1\n",
        "np.array([1, 2.2, 'hello'])"
      ],
      "metadata": {
        "colab": {
          "base_uri": "https://localhost:8080/"
        },
        "id": "8oc7ioILUcOv",
        "outputId": "f289a79a-d565-415b-ce71-b453096505a3"
      },
      "execution_count": null,
      "outputs": [
        {
          "output_type": "execute_result",
          "data": {
            "text/plain": [
              "array(['1', '2.2', 'hello'], dtype='<U32')"
            ]
          },
          "metadata": {},
          "execution_count": 70
        }
      ]
    },
    {
      "cell_type": "markdown",
      "source": [
        "Above, when we tried to create arrays with items of different data types, Python automatically converted all the items to the same data type based on what makes the most sense. In examples 1 and 3, because there was a string in the array, Python converted all the other items to strings as well. In example 2, because there was a float in the array, Python converted all the remaining items to floats as well (the Boolean value True is encoded as 1 and False is encoded as 0)"
      ],
      "metadata": {
        "id": "D6oab8crUuZf"
      }
    },
    {
      "cell_type": "markdown",
      "metadata": {
        "id": "hN-09Fnrq-zu"
      },
      "source": [
        "### **List Comprehensions**\n",
        "\n",
        "A list comprehension is a simple way to create a new list based on an existing list. It involves using conditional statements and loops.\n",
        "\n",
        "Say you have a list of numbers and you want to create a new list by doubling all numbers greater than 5 in the existing list."
      ]
    },
    {
      "cell_type": "code",
      "source": [
        "numbers = [4, 13, 18, 3, 25, -2, 31]"
      ],
      "metadata": {
        "id": "LcPz1MlAVeRR"
      },
      "execution_count": null,
      "outputs": []
    },
    {
      "cell_type": "markdown",
      "source": [
        "Using list comprehensions, you can perform this task much more efficiently, using just one line of code.\n",
        "\n",
        "This is the syntax for creating a list comprehension:\n",
        "\n",
        "[*expression* for *item* in *list* if *condition*]"
      ],
      "metadata": {
        "id": "nJwkDqjgVmcr"
      }
    },
    {
      "cell_type": "code",
      "source": [
        "numbers = [4, 13, 18, 3, 25, -2, 31]\n",
        "new_numbers = []\n",
        "\n",
        "[num * 2 for num in numbers if num > 5]"
      ],
      "metadata": {
        "colab": {
          "base_uri": "https://localhost:8080/"
        },
        "id": "hRRg_7G9V2HU",
        "outputId": "9fe1f069-ed01-482c-b66f-a9b42cbb32a6"
      },
      "execution_count": null,
      "outputs": [
        {
          "output_type": "execute_result",
          "data": {
            "text/plain": [
              "[26, 36, 50, 62]"
            ]
          },
          "metadata": {},
          "execution_count": 72
        }
      ]
    },
    {
      "cell_type": "markdown",
      "metadata": {
        "id": "DsU6hNJPFr8v"
      },
      "source": [
        "## **Arrays**\n",
        "\n",
        "An array, like a list, is a collections of values (see [lab 0](https://https://colab.research.google.com/drive/1_u1YSTi8YX93XctMZwJfYgDST4Ofbyqn#scrollTo=59g2n6VzP4IW) for the difference between arrays and lists). One of the most important things that NumPy is used for is creating and managing arrays.\n",
        "\n",
        "### **Creating Arrays**\n",
        "\n",
        "We use the np.array() function to create arrays using NumPy. It takes values within square brackets as its argument."
      ]
    },
    {
      "cell_type": "code",
      "metadata": {
        "colab": {
          "base_uri": "https://localhost:8080/"
        },
        "id": "tkIC2Cu8FzuR",
        "outputId": "dba5778a-2a8f-4773-aebc-74dd0e5f02bc"
      },
      "source": [
        "num = np.array([7, 5, 9, 2, 5, 21, 13, 3])\n",
        "num"
      ],
      "execution_count": null,
      "outputs": [
        {
          "output_type": "execute_result",
          "data": {
            "text/plain": [
              "array([ 7,  5,  9,  2,  5, 21, 13,  3])"
            ]
          },
          "metadata": {},
          "execution_count": 73
        }
      ]
    },
    {
      "cell_type": "markdown",
      "metadata": {
        "id": "z8AbBQ3Lrmss"
      },
      "source": [
        "Another way to create arrays is using the np.arange() function. This function can only be used to create arrays of numbers (integers and floats). You have to specify the initial and last values, and the interval and the function creates an array of values for you. The last value is not included."
      ]
    },
    {
      "cell_type": "code",
      "metadata": {
        "colab": {
          "base_uri": "https://localhost:8080/"
        },
        "id": "YirFHakRrl94",
        "outputId": "1460e09f-dca1-4ca1-cc40-4664d9080af1"
      },
      "source": [
        "np.arange(1, 20, 3)"
      ],
      "execution_count": null,
      "outputs": [
        {
          "output_type": "execute_result",
          "data": {
            "text/plain": [
              "array([ 1,  4,  7, 10, 13, 16, 19])"
            ]
          },
          "metadata": {},
          "execution_count": 74
        }
      ]
    },
    {
      "cell_type": "markdown",
      "metadata": {
        "id": "eQPiJkwYv3iz"
      },
      "source": [
        "**Question 1:** Use np.arange to create an array of all the multiples of 5 between 0 and 100 (inclusive)."
      ]
    },
    {
      "cell_type": "code",
      "source": [
        "np.arange(0,101,5)"
      ],
      "metadata": {
        "colab": {
          "base_uri": "https://localhost:8080/"
        },
        "id": "5ujygTsPR-8Q",
        "outputId": "759da519-18f0-4c5c-8b5c-270c6d43187a"
      },
      "execution_count": null,
      "outputs": [
        {
          "output_type": "execute_result",
          "data": {
            "text/plain": [
              "array([  0,   5,  10,  15,  20,  25,  30,  35,  40,  45,  50,  55,  60,\n",
              "        65,  70,  75,  80,  85,  90,  95, 100])"
            ]
          },
          "metadata": {},
          "execution_count": 75
        }
      ]
    },
    {
      "cell_type": "markdown",
      "metadata": {
        "id": "ckGxtlPMJMRa"
      },
      "source": [
        "### **Array Dimensions**\n",
        "\n",
        "Arrays can be of different dimensions depending on the number of elements they have. A zero-dimensional array has only one element. They are also called scalars. Since there is only one element, you don't have to use square brackets."
      ]
    },
    {
      "cell_type": "code",
      "metadata": {
        "colab": {
          "base_uri": "https://localhost:8080/"
        },
        "id": "PVhgnZ2eJx0V",
        "outputId": "d06b08f6-aed0-448e-a523-a859898f9397"
      },
      "source": [
        "#0D array\n",
        "np.array(67)"
      ],
      "execution_count": null,
      "outputs": [
        {
          "output_type": "execute_result",
          "data": {
            "text/plain": [
              "array(67)"
            ]
          },
          "metadata": {},
          "execution_count": 76
        }
      ]
    },
    {
      "cell_type": "markdown",
      "metadata": {
        "id": "eWGWDoPAJ027"
      },
      "source": [
        "One-dimensional arrays contain a single collection of multiple elements. The num array is an example of a 1D array."
      ]
    },
    {
      "cell_type": "code",
      "metadata": {
        "colab": {
          "base_uri": "https://localhost:8080/"
        },
        "id": "F-C842C0J0AK",
        "outputId": "43913f0a-5f04-4430-b57f-be5b0be470ff"
      },
      "source": [
        "#1D array\n",
        "num"
      ],
      "execution_count": null,
      "outputs": [
        {
          "output_type": "execute_result",
          "data": {
            "text/plain": [
              "array([ 7,  5,  9,  2,  5, 21, 13,  3])"
            ]
          },
          "metadata": {},
          "execution_count": 77
        }
      ]
    },
    {
      "cell_type": "markdown",
      "metadata": {
        "id": "vtu_YEGiKkqw"
      },
      "source": [
        "Two-dimensional arrays contain two collections of multiple elements. These two collections must be enclosed within square brackets.\n",
        "\n",
        "2D arrays are especially useful for storing x and y values of data points. Arrays with 2 dimensions or more are also useful for vector algebra.\n",
        "\n",
        "In our labs, we will mainly be using 1D arrays as examples."
      ]
    },
    {
      "cell_type": "code",
      "metadata": {
        "colab": {
          "base_uri": "https://localhost:8080/"
        },
        "id": "DfgegKk-Kj3q",
        "outputId": "ba1ab66b-bae5-4db1-bccb-0d329552ffb0"
      },
      "source": [
        "#2D array\n",
        "num_2d = np.array([[1, 4, 5], [5, 2, 0]])\n",
        "num_2d"
      ],
      "execution_count": null,
      "outputs": [
        {
          "output_type": "execute_result",
          "data": {
            "text/plain": [
              "array([[1, 4, 5],\n",
              "       [5, 2, 0]])"
            ]
          },
          "metadata": {},
          "execution_count": 78
        }
      ]
    },
    {
      "cell_type": "markdown",
      "metadata": {
        "id": "ubdYDGK6K8my"
      },
      "source": [
        "To check the number of dimensions an array has, you can use the .ndim function."
      ]
    },
    {
      "cell_type": "code",
      "metadata": {
        "colab": {
          "base_uri": "https://localhost:8080/"
        },
        "id": "RPSr7w5KLxIt",
        "outputId": "e5773704-b58a-4106-8002-358174c72c9b"
      },
      "source": [
        "num_2d.ndim"
      ],
      "execution_count": null,
      "outputs": [
        {
          "output_type": "execute_result",
          "data": {
            "text/plain": [
              "2"
            ]
          },
          "metadata": {},
          "execution_count": 79
        }
      ]
    },
    {
      "cell_type": "markdown",
      "metadata": {
        "id": "9fNZ8RZmxpHp"
      },
      "source": [
        "**Question 2:** Say you want to know if TV shows with fewer seasons have higher overall ratings. You record the number of seasons and overall rating for 7 TV shows you randomly selected. \n",
        "\n",
        "  - Number of seasons: 4, 2, 7, 7, 6, 16, 10\n",
        "  - Overall rating (out of 10): 6.7, 8.1, 7.8, 9.2, 9.5, 3.5, 6.3\n",
        "\n",
        "Create **a single** array to store this information (store the array in a variable).\n",
        "\n",
        "*Hint: Think about how many dimensions the array should have.*"
      ]
    },
    {
      "cell_type": "code",
      "source": [
        "Number_of_seasons= [4, 2, 7, 7, 6, 16, 10]\n",
        "Overall_rating = [6.7, 8.1, 7.8, 9.2, 9.5, 3.5, 6.3]\n",
        "\n",
        "number = np.array([Number_of_seasons])\n",
        "rate = np.array([Overall_rating])"
      ],
      "metadata": {
        "id": "kf3R3CQDSMHe"
      },
      "execution_count": null,
      "outputs": []
    },
    {
      "cell_type": "markdown",
      "metadata": {
        "id": "18w9j08tMBym"
      },
      "source": [
        "### **Indexing and Slicing**\n",
        "\n",
        "Indexing refers to extracting items in an array based on their index. You can do this using sqaure brackets at the end of the array. Recall that Python uses 0-indexing, so the index of the first element in your array is 0, the index of the second element is 1 and so on."
      ]
    },
    {
      "cell_type": "code",
      "metadata": {
        "colab": {
          "base_uri": "https://localhost:8080/"
        },
        "id": "1xKpUQjJMskb",
        "outputId": "8b43e57b-8949-473e-d450-117b2a38774c"
      },
      "source": [
        "#This will give you the 1st element in the num array.\n",
        "num[0]"
      ],
      "execution_count": null,
      "outputs": [
        {
          "output_type": "execute_result",
          "data": {
            "text/plain": [
              "7"
            ]
          },
          "metadata": {},
          "execution_count": 81
        }
      ]
    },
    {
      "cell_type": "code",
      "metadata": {
        "colab": {
          "base_uri": "https://localhost:8080/"
        },
        "id": "Ljil_HAFMtWA",
        "outputId": "0386b26e-59e5-4de5-a01c-7d831dafbf89"
      },
      "source": [
        "#This will give you the 3rd element in the num array.\n",
        "num[2]"
      ],
      "execution_count": null,
      "outputs": [
        {
          "output_type": "execute_result",
          "data": {
            "text/plain": [
              "9"
            ]
          },
          "metadata": {},
          "execution_count": 82
        }
      ]
    },
    {
      "cell_type": "markdown",
      "metadata": {
        "id": "AQRjKjr3NMB1"
      },
      "source": [
        "To index arrays of multiple dimensions, we can just use multiple square brackets."
      ]
    },
    {
      "cell_type": "code",
      "metadata": {
        "colab": {
          "base_uri": "https://localhost:8080/"
        },
        "id": "tWO8EY5QNG4V",
        "outputId": "d4f0df45-ebb7-49e6-b6bd-f60d85c6e8ff"
      },
      "source": [
        "#This will give you the 2nd element in the 1st collection.\n",
        "num_2d[0][2]"
      ],
      "execution_count": null,
      "outputs": [
        {
          "output_type": "execute_result",
          "data": {
            "text/plain": [
              "5"
            ]
          },
          "metadata": {},
          "execution_count": 83
        }
      ]
    },
    {
      "cell_type": "markdown",
      "metadata": {
        "id": "r4D3zoSoN0Xx"
      },
      "source": [
        "We use negative indexing to access elements from the end of the array."
      ]
    },
    {
      "cell_type": "code",
      "metadata": {
        "colab": {
          "base_uri": "https://localhost:8080/"
        },
        "id": "JPrncrSCNtV9",
        "outputId": "4b032aa8-551d-42f9-eb8c-83d0abaf7639"
      },
      "source": [
        "#This will give you the last element in your array.\n",
        "num[-1]"
      ],
      "execution_count": null,
      "outputs": [
        {
          "output_type": "execute_result",
          "data": {
            "text/plain": [
              "3"
            ]
          },
          "metadata": {},
          "execution_count": 84
        }
      ]
    },
    {
      "cell_type": "code",
      "metadata": {
        "colab": {
          "base_uri": "https://localhost:8080/"
        },
        "id": "hDwAU7iYN7Ee",
        "outputId": "3d9d2f8f-fa62-48ef-ae0b-6c529ffaea20"
      },
      "source": [
        "#This will give you 3rd to last element in your array.\n",
        "num[-3]"
      ],
      "execution_count": null,
      "outputs": [
        {
          "output_type": "execute_result",
          "data": {
            "text/plain": [
              "21"
            ]
          },
          "metadata": {},
          "execution_count": 85
        }
      ]
    },
    {
      "cell_type": "markdown",
      "metadata": {
        "id": "dnAWGUWDOPiS"
      },
      "source": [
        "Slicing refers to extracting a portion of your array using its index."
      ]
    },
    {
      "cell_type": "code",
      "metadata": {
        "colab": {
          "base_uri": "https://localhost:8080/"
        },
        "id": "gp-LW8YuO1OH",
        "outputId": "e23549fc-f298-4c42-f7f0-57ad60072b2d"
      },
      "source": [
        "#This gives you the first 3 elements in your array.\n",
        "num[0:3]"
      ],
      "execution_count": null,
      "outputs": [
        {
          "output_type": "execute_result",
          "data": {
            "text/plain": [
              "array([7, 5, 9])"
            ]
          },
          "metadata": {},
          "execution_count": 86
        }
      ]
    },
    {
      "cell_type": "markdown",
      "metadata": {
        "id": "o5w1j6-4O9Fw"
      },
      "source": [
        "Keep in mind that the element in the last index is not included. In this case, the element with index 3 (so the 4th element) is not included."
      ]
    },
    {
      "cell_type": "code",
      "metadata": {
        "colab": {
          "base_uri": "https://localhost:8080/"
        },
        "id": "C1BDksV5VjDb",
        "outputId": "810a11d5-8858-4b8c-a56a-b460b040bf92"
      },
      "source": [
        "#This gives you every 2nd element in the array starting from the 1st element.\n",
        "num[::2]"
      ],
      "execution_count": null,
      "outputs": [
        {
          "output_type": "execute_result",
          "data": {
            "text/plain": [
              "array([ 7,  9,  5, 13])"
            ]
          },
          "metadata": {},
          "execution_count": 87
        }
      ]
    },
    {
      "cell_type": "code",
      "metadata": {
        "colab": {
          "base_uri": "https://localhost:8080/"
        },
        "id": "25iw9R3eVeRC",
        "outputId": "24987fac-ec03-4108-f3c8-4f00488186f9"
      },
      "source": [
        "#This gives you all the elements in the array.\n",
        "num[::]"
      ],
      "execution_count": null,
      "outputs": [
        {
          "output_type": "execute_result",
          "data": {
            "text/plain": [
              "array([ 7,  5,  9,  2,  5, 21, 13,  3])"
            ]
          },
          "metadata": {},
          "execution_count": 88
        }
      ]
    },
    {
      "cell_type": "code",
      "metadata": {
        "colab": {
          "base_uri": "https://localhost:8080/"
        },
        "id": "hiee8kLFVfw2",
        "outputId": "9d18584e-010f-403c-c400-726d2620f09a"
      },
      "source": [
        "#This gives you every 3rd element in the array between the 2nd and 5th items.\n",
        "num[1:5:3]"
      ],
      "execution_count": null,
      "outputs": [
        {
          "output_type": "execute_result",
          "data": {
            "text/plain": [
              "array([5, 5])"
            ]
          },
          "metadata": {},
          "execution_count": 89
        }
      ]
    },
    {
      "cell_type": "markdown",
      "metadata": {
        "id": "Pg-ifs81Wqk4"
      },
      "source": [
        "Lists and arrays are indexed and sliced in the same way so you can check out [lab 0](https://https://colab.research.google.com/drive/1_u1YSTi8YX93XctMZwJfYgDST4Ofbyqn#scrollTo=mczvTogmbvOj) for more information on indexing and slicing. You can also experiment to discover different ways of slicing and indexing lists.\n",
        "\n",
        "To slice arrays of different dimensions, you can use multiple square brackets."
      ]
    },
    {
      "cell_type": "code",
      "metadata": {
        "colab": {
          "base_uri": "https://localhost:8080/"
        },
        "id": "R-pwRP24XXG_",
        "outputId": "c1cae41e-e6b3-41b6-d596-1bc1c09207b6"
      },
      "source": [
        "num_2d[0][0:2:1]"
      ],
      "execution_count": null,
      "outputs": [
        {
          "output_type": "execute_result",
          "data": {
            "text/plain": [
              "array([1, 4])"
            ]
          },
          "metadata": {},
          "execution_count": 90
        }
      ]
    },
    {
      "cell_type": "markdown",
      "metadata": {
        "id": "CQ2oVwcta8MM"
      },
      "source": [
        "Another way of slicing arrays is by creating an array of indices."
      ]
    },
    {
      "cell_type": "code",
      "metadata": {
        "colab": {
          "base_uri": "https://localhost:8080/"
        },
        "id": "hDOVbsh7YLxS",
        "outputId": "1081728a-0dec-4f00-851c-270211ac08ba"
      },
      "source": [
        "#This will give you the 2nd, 5th and 6th elements in the array.\n",
        "index = np.array([1, 4, 5])\n",
        "num[index]"
      ],
      "execution_count": null,
      "outputs": [
        {
          "output_type": "execute_result",
          "data": {
            "text/plain": [
              "array([ 5,  5, 21])"
            ]
          },
          "metadata": {},
          "execution_count": 91
        }
      ]
    },
    {
      "cell_type": "markdown",
      "metadata": {
        "id": "Z-WerOQZyao_"
      },
      "source": [
        "**Question 3:** Now, you want to use the array you created in question 2 to create two separate arrays: one that stores the number of seasons and another that stores the overall rating. Use indexing to create these two arrays."
      ]
    },
    {
      "cell_type": "code",
      "source": [
        "print(number[::])\n",
        "rate[::]"
      ],
      "metadata": {
        "colab": {
          "base_uri": "https://localhost:8080/"
        },
        "id": "4OjshLWPUcYz",
        "outputId": "0d2f95f7-a534-415d-e327-d08c3bb8ddd6"
      },
      "execution_count": null,
      "outputs": [
        {
          "output_type": "stream",
          "name": "stdout",
          "text": [
            "[[ 4  2  7  7  6 16 10]]\n"
          ]
        },
        {
          "output_type": "execute_result",
          "data": {
            "text/plain": [
              "array([[6.7, 8.1, 7.8, 9.2, 9.5, 3.5, 6.3]])"
            ]
          },
          "metadata": {},
          "execution_count": 92
        }
      ]
    },
    {
      "cell_type": "markdown",
      "metadata": {
        "id": "bt8I7pVpbL6g"
      },
      "source": [
        "## **Math in NumPy**\n",
        "\n",
        "NumPy is also really useful for math. It contains various function for performing math operations. Here are some important examples."
      ]
    },
    {
      "cell_type": "code",
      "metadata": {
        "colab": {
          "base_uri": "https://localhost:8080/"
        },
        "id": "RP22FmZnsd6j",
        "outputId": "055174a4-96f2-46ef-9159-5b72602f168e"
      },
      "source": [
        "#Sum\n",
        "np.sum(num)"
      ],
      "execution_count": null,
      "outputs": [
        {
          "output_type": "execute_result",
          "data": {
            "text/plain": [
              "65"
            ]
          },
          "metadata": {},
          "execution_count": 93
        }
      ]
    },
    {
      "cell_type": "code",
      "metadata": {
        "colab": {
          "base_uri": "https://localhost:8080/"
        },
        "id": "XcrfPDZ-bDYM",
        "outputId": "206295c1-a3ea-40d1-ebda-39926477ac02"
      },
      "source": [
        "#Average\n",
        "np.mean(num)"
      ],
      "execution_count": null,
      "outputs": [
        {
          "output_type": "execute_result",
          "data": {
            "text/plain": [
              "8.125"
            ]
          },
          "metadata": {},
          "execution_count": 94
        }
      ]
    },
    {
      "cell_type": "code",
      "metadata": {
        "colab": {
          "base_uri": "https://localhost:8080/"
        },
        "id": "FXiRn6AUsX6D",
        "outputId": "7f20f4f1-5633-4e82-8f16-2fa1e1ca1912"
      },
      "source": [
        "#Another function to find the average\n",
        "np.average(num)"
      ],
      "execution_count": null,
      "outputs": [
        {
          "output_type": "execute_result",
          "data": {
            "text/plain": [
              "8.125"
            ]
          },
          "metadata": {},
          "execution_count": 95
        }
      ]
    },
    {
      "cell_type": "markdown",
      "metadata": {
        "id": "FqCagXbat8Sn"
      },
      "source": [
        "The np.round function is used to round values. The first argument in the np.round function is the number you would like to round and the second argument is the number of decimal places to round to.\n"
      ]
    },
    {
      "cell_type": "code",
      "metadata": {
        "colab": {
          "base_uri": "https://localhost:8080/"
        },
        "id": "SWoHDYYZsazR",
        "outputId": "911aaf1f-1258-44de-9b78-8534d9819ad1"
      },
      "source": [
        "#Rounding\n",
        "np.round(4.5234, 2)"
      ],
      "execution_count": null,
      "outputs": [
        {
          "output_type": "execute_result",
          "data": {
            "text/plain": [
              "4.52"
            ]
          },
          "metadata": {},
          "execution_count": 96
        }
      ]
    },
    {
      "cell_type": "markdown",
      "metadata": {
        "id": "vQ3XAKEYuBo7"
      },
      "source": [
        "You can also input an array. The function will perform an elementwise operation – that is, it will round each of the values in the array."
      ]
    },
    {
      "cell_type": "code",
      "metadata": {
        "colab": {
          "base_uri": "https://localhost:8080/"
        },
        "id": "AkVKgMXdtfCZ",
        "outputId": "f2ada707-1c46-4312-b98f-4d1e8d2ea87a"
      },
      "source": [
        "np.round(num)"
      ],
      "execution_count": null,
      "outputs": [
        {
          "output_type": "execute_result",
          "data": {
            "text/plain": [
              "array([ 7,  5,  9,  2,  5, 21, 13,  3])"
            ]
          },
          "metadata": {},
          "execution_count": 97
        }
      ]
    },
    {
      "cell_type": "markdown",
      "metadata": {
        "id": "59scP_3OuO2A"
      },
      "source": [
        "Another useful NumPy function is np.diff(), which takes the difference between consecutive elements. A given element is subtracted from the one to its right."
      ]
    },
    {
      "cell_type": "code",
      "metadata": {
        "colab": {
          "base_uri": "https://localhost:8080/"
        },
        "id": "pYB_gAIhCO3N",
        "outputId": "b478e98b-81c7-460f-c5aa-e5f55c4c128d"
      },
      "source": [
        "np.diff(num)"
      ],
      "execution_count": null,
      "outputs": [
        {
          "output_type": "execute_result",
          "data": {
            "text/plain": [
              "array([ -2,   4,  -7,   3,  16,  -8, -10])"
            ]
          },
          "metadata": {},
          "execution_count": 98
        }
      ]
    },
    {
      "cell_type": "markdown",
      "metadata": {
        "id": "59aI6tTiyxfU"
      },
      "source": [
        "**Question 4:** Find the average overall rating for the TV shows in the sample (use the array in question 3)."
      ]
    },
    {
      "cell_type": "code",
      "source": [
        "np.mean(rate)"
      ],
      "metadata": {
        "colab": {
          "base_uri": "https://localhost:8080/"
        },
        "id": "LPksTOtyj4YH",
        "outputId": "e69a8f42-d1d7-4ac7-8b9f-9628a992ac16"
      },
      "execution_count": null,
      "outputs": [
        {
          "output_type": "execute_result",
          "data": {
            "text/plain": [
              "7.299999999999999"
            ]
          },
          "metadata": {},
          "execution_count": 99
        }
      ]
    },
    {
      "cell_type": "markdown",
      "metadata": {
        "id": "IPxKJIc7CpXT"
      },
      "source": [
        "# **Introduction to Pandas**\n",
        "\n",
        "<img src='https://drive.google.com/uc?id=1Elaps1FSXJGcuLEdl9xiBTV9WRAWkDoy'>\n",
        "\n",
        "Pandas is another Python library used for data science. It is especially useful for creating and managing dataframes (which are basically tables).\n",
        "\n",
        "To use the functions in the Pandas library, we first need to import it. We will be importing it as pd (similar to how we import NumPy as np)."
      ]
    },
    {
      "cell_type": "code",
      "metadata": {
        "id": "4ltlYoccIwhD"
      },
      "source": [
        "import pandas as pd"
      ],
      "execution_count": null,
      "outputs": []
    },
    {
      "cell_type": "markdown",
      "metadata": {
        "id": "IyyN5WjnI2cN"
      },
      "source": [
        "## **Importing Datasets**\n",
        "\n",
        "One of the most important Pandas functions is pd.read_csv(). It is used for upolading .csv files (.csv is a file extension, similar to .docx). This is one of the most common file extensions for datasets. The function automatically converts your .csv file to a dataframe object.\n",
        "\n",
        "Below, we are importing a dataset on different college majors and salaries. We will be using this dataset throughout this lab.\n",
        "\n",
        "Importing a dataset into Google Colab requires a few more steps. One way of doing this is by connecting your Google account to the notebook using this code:"
      ]
    },
    {
      "cell_type": "code",
      "metadata": {
        "colab": {
          "base_uri": "https://localhost:8080/"
        },
        "id": "A1r_VmHAI11Q",
        "outputId": "1a5bb706-d984-4a8d-9fdd-9647b3f0c9a3"
      },
      "source": [
        "from google.colab import drive\n",
        "drive.mount('/content/drive')"
      ],
      "execution_count": null,
      "outputs": [
        {
          "output_type": "stream",
          "name": "stdout",
          "text": [
            "Drive already mounted at /content/drive; to attempt to forcibly remount, call drive.mount(\"/content/drive\", force_remount=True).\n"
          ]
        }
      ]
    },
    {
      "cell_type": "markdown",
      "metadata": {
        "id": "GP1OoztYM-9B"
      },
      "source": [
        "When you run the above cell, you will be asked to authenticate your account. Once you've chosen your Google account and copied the verification code, go to the Files section (it is the last icon in the sidebar at the left) then open your Drive. Upload your dataset to the Drive of the account you just connected, click on the 3 vertical dots and select 'Copy path.'\n",
        "\n",
        "Assign the path to a variable (as we have done below, in the first line). Then, use the pd.read_csv() function to upload your dataset."
      ]
    },
    {
      "cell_type": "code",
      "metadata": {
        "colab": {
          "base_uri": "https://localhost:8080/",
          "height": 359
        },
        "id": "iYBi8mSRKlzG",
        "outputId": "8e486a1f-e67d-400f-906f-2a81c3eb20ca"
      },
      "source": [
        "path = \"/content/drive/MyDrive/Copy of salary_information.csv\"\n",
        "salary_df = pd.read_csv(path)\n",
        "salary_df.head(5)"
      ],
      "execution_count": null,
      "outputs": [
        {
          "output_type": "error",
          "ename": "FileNotFoundError",
          "evalue": "ignored",
          "traceback": [
            "\u001b[0;31m---------------------------------------------------------------------------\u001b[0m",
            "\u001b[0;31mFileNotFoundError\u001b[0m                         Traceback (most recent call last)",
            "\u001b[0;32m<ipython-input-102-bac2b5da1506>\u001b[0m in \u001b[0;36m<module>\u001b[0;34m\u001b[0m\n\u001b[1;32m      1\u001b[0m \u001b[0mpath\u001b[0m \u001b[0;34m=\u001b[0m \u001b[0;34m\"/content/drive/MyDrive/Copy of salary_information.csv\"\u001b[0m\u001b[0;34m\u001b[0m\u001b[0;34m\u001b[0m\u001b[0m\n\u001b[0;32m----> 2\u001b[0;31m \u001b[0msalary_df\u001b[0m \u001b[0;34m=\u001b[0m \u001b[0mpd\u001b[0m\u001b[0;34m.\u001b[0m\u001b[0mread_csv\u001b[0m\u001b[0;34m(\u001b[0m\u001b[0mpath\u001b[0m\u001b[0;34m)\u001b[0m\u001b[0;34m\u001b[0m\u001b[0;34m\u001b[0m\u001b[0m\n\u001b[0m\u001b[1;32m      3\u001b[0m \u001b[0msalary_df\u001b[0m\u001b[0;34m.\u001b[0m\u001b[0mhead\u001b[0m\u001b[0;34m(\u001b[0m\u001b[0;36m5\u001b[0m\u001b[0;34m)\u001b[0m\u001b[0;34m\u001b[0m\u001b[0;34m\u001b[0m\u001b[0m\n",
            "\u001b[0;32m/usr/local/lib/python3.7/dist-packages/pandas/util/_decorators.py\u001b[0m in \u001b[0;36mwrapper\u001b[0;34m(*args, **kwargs)\u001b[0m\n\u001b[1;32m    309\u001b[0m                     \u001b[0mstacklevel\u001b[0m\u001b[0;34m=\u001b[0m\u001b[0mstacklevel\u001b[0m\u001b[0;34m,\u001b[0m\u001b[0;34m\u001b[0m\u001b[0;34m\u001b[0m\u001b[0m\n\u001b[1;32m    310\u001b[0m                 )\n\u001b[0;32m--> 311\u001b[0;31m             \u001b[0;32mreturn\u001b[0m \u001b[0mfunc\u001b[0m\u001b[0;34m(\u001b[0m\u001b[0;34m*\u001b[0m\u001b[0margs\u001b[0m\u001b[0;34m,\u001b[0m \u001b[0;34m**\u001b[0m\u001b[0mkwargs\u001b[0m\u001b[0;34m)\u001b[0m\u001b[0;34m\u001b[0m\u001b[0;34m\u001b[0m\u001b[0m\n\u001b[0m\u001b[1;32m    312\u001b[0m \u001b[0;34m\u001b[0m\u001b[0m\n\u001b[1;32m    313\u001b[0m         \u001b[0;32mreturn\u001b[0m \u001b[0mwrapper\u001b[0m\u001b[0;34m\u001b[0m\u001b[0;34m\u001b[0m\u001b[0m\n",
            "\u001b[0;32m/usr/local/lib/python3.7/dist-packages/pandas/io/parsers/readers.py\u001b[0m in \u001b[0;36mread_csv\u001b[0;34m(filepath_or_buffer, sep, delimiter, header, names, index_col, usecols, squeeze, prefix, mangle_dupe_cols, dtype, engine, converters, true_values, false_values, skipinitialspace, skiprows, skipfooter, nrows, na_values, keep_default_na, na_filter, verbose, skip_blank_lines, parse_dates, infer_datetime_format, keep_date_col, date_parser, dayfirst, cache_dates, iterator, chunksize, compression, thousands, decimal, lineterminator, quotechar, quoting, doublequote, escapechar, comment, encoding, encoding_errors, dialect, error_bad_lines, warn_bad_lines, on_bad_lines, delim_whitespace, low_memory, memory_map, float_precision, storage_options)\u001b[0m\n\u001b[1;32m    584\u001b[0m     \u001b[0mkwds\u001b[0m\u001b[0;34m.\u001b[0m\u001b[0mupdate\u001b[0m\u001b[0;34m(\u001b[0m\u001b[0mkwds_defaults\u001b[0m\u001b[0;34m)\u001b[0m\u001b[0;34m\u001b[0m\u001b[0;34m\u001b[0m\u001b[0m\n\u001b[1;32m    585\u001b[0m \u001b[0;34m\u001b[0m\u001b[0m\n\u001b[0;32m--> 586\u001b[0;31m     \u001b[0;32mreturn\u001b[0m \u001b[0m_read\u001b[0m\u001b[0;34m(\u001b[0m\u001b[0mfilepath_or_buffer\u001b[0m\u001b[0;34m,\u001b[0m \u001b[0mkwds\u001b[0m\u001b[0;34m)\u001b[0m\u001b[0;34m\u001b[0m\u001b[0;34m\u001b[0m\u001b[0m\n\u001b[0m\u001b[1;32m    587\u001b[0m \u001b[0;34m\u001b[0m\u001b[0m\n\u001b[1;32m    588\u001b[0m \u001b[0;34m\u001b[0m\u001b[0m\n",
            "\u001b[0;32m/usr/local/lib/python3.7/dist-packages/pandas/io/parsers/readers.py\u001b[0m in \u001b[0;36m_read\u001b[0;34m(filepath_or_buffer, kwds)\u001b[0m\n\u001b[1;32m    480\u001b[0m \u001b[0;34m\u001b[0m\u001b[0m\n\u001b[1;32m    481\u001b[0m     \u001b[0;31m# Create the parser.\u001b[0m\u001b[0;34m\u001b[0m\u001b[0;34m\u001b[0m\u001b[0;34m\u001b[0m\u001b[0m\n\u001b[0;32m--> 482\u001b[0;31m     \u001b[0mparser\u001b[0m \u001b[0;34m=\u001b[0m \u001b[0mTextFileReader\u001b[0m\u001b[0;34m(\u001b[0m\u001b[0mfilepath_or_buffer\u001b[0m\u001b[0;34m,\u001b[0m \u001b[0;34m**\u001b[0m\u001b[0mkwds\u001b[0m\u001b[0;34m)\u001b[0m\u001b[0;34m\u001b[0m\u001b[0;34m\u001b[0m\u001b[0m\n\u001b[0m\u001b[1;32m    483\u001b[0m \u001b[0;34m\u001b[0m\u001b[0m\n\u001b[1;32m    484\u001b[0m     \u001b[0;32mif\u001b[0m \u001b[0mchunksize\u001b[0m \u001b[0;32mor\u001b[0m \u001b[0miterator\u001b[0m\u001b[0;34m:\u001b[0m\u001b[0;34m\u001b[0m\u001b[0;34m\u001b[0m\u001b[0m\n",
            "\u001b[0;32m/usr/local/lib/python3.7/dist-packages/pandas/io/parsers/readers.py\u001b[0m in \u001b[0;36m__init__\u001b[0;34m(self, f, engine, **kwds)\u001b[0m\n\u001b[1;32m    809\u001b[0m             \u001b[0mself\u001b[0m\u001b[0;34m.\u001b[0m\u001b[0moptions\u001b[0m\u001b[0;34m[\u001b[0m\u001b[0;34m\"has_index_names\"\u001b[0m\u001b[0;34m]\u001b[0m \u001b[0;34m=\u001b[0m \u001b[0mkwds\u001b[0m\u001b[0;34m[\u001b[0m\u001b[0;34m\"has_index_names\"\u001b[0m\u001b[0;34m]\u001b[0m\u001b[0;34m\u001b[0m\u001b[0;34m\u001b[0m\u001b[0m\n\u001b[1;32m    810\u001b[0m \u001b[0;34m\u001b[0m\u001b[0m\n\u001b[0;32m--> 811\u001b[0;31m         \u001b[0mself\u001b[0m\u001b[0;34m.\u001b[0m\u001b[0m_engine\u001b[0m \u001b[0;34m=\u001b[0m \u001b[0mself\u001b[0m\u001b[0;34m.\u001b[0m\u001b[0m_make_engine\u001b[0m\u001b[0;34m(\u001b[0m\u001b[0mself\u001b[0m\u001b[0;34m.\u001b[0m\u001b[0mengine\u001b[0m\u001b[0;34m)\u001b[0m\u001b[0;34m\u001b[0m\u001b[0;34m\u001b[0m\u001b[0m\n\u001b[0m\u001b[1;32m    812\u001b[0m \u001b[0;34m\u001b[0m\u001b[0m\n\u001b[1;32m    813\u001b[0m     \u001b[0;32mdef\u001b[0m \u001b[0mclose\u001b[0m\u001b[0;34m(\u001b[0m\u001b[0mself\u001b[0m\u001b[0;34m)\u001b[0m\u001b[0;34m:\u001b[0m\u001b[0;34m\u001b[0m\u001b[0;34m\u001b[0m\u001b[0m\n",
            "\u001b[0;32m/usr/local/lib/python3.7/dist-packages/pandas/io/parsers/readers.py\u001b[0m in \u001b[0;36m_make_engine\u001b[0;34m(self, engine)\u001b[0m\n\u001b[1;32m   1038\u001b[0m             )\n\u001b[1;32m   1039\u001b[0m         \u001b[0;31m# error: Too many arguments for \"ParserBase\"\u001b[0m\u001b[0;34m\u001b[0m\u001b[0;34m\u001b[0m\u001b[0;34m\u001b[0m\u001b[0m\n\u001b[0;32m-> 1040\u001b[0;31m         \u001b[0;32mreturn\u001b[0m \u001b[0mmapping\u001b[0m\u001b[0;34m[\u001b[0m\u001b[0mengine\u001b[0m\u001b[0;34m]\u001b[0m\u001b[0;34m(\u001b[0m\u001b[0mself\u001b[0m\u001b[0;34m.\u001b[0m\u001b[0mf\u001b[0m\u001b[0;34m,\u001b[0m \u001b[0;34m**\u001b[0m\u001b[0mself\u001b[0m\u001b[0;34m.\u001b[0m\u001b[0moptions\u001b[0m\u001b[0;34m)\u001b[0m  \u001b[0;31m# type: ignore[call-arg]\u001b[0m\u001b[0;34m\u001b[0m\u001b[0;34m\u001b[0m\u001b[0m\n\u001b[0m\u001b[1;32m   1041\u001b[0m \u001b[0;34m\u001b[0m\u001b[0m\n\u001b[1;32m   1042\u001b[0m     \u001b[0;32mdef\u001b[0m \u001b[0m_failover_to_python\u001b[0m\u001b[0;34m(\u001b[0m\u001b[0mself\u001b[0m\u001b[0;34m)\u001b[0m\u001b[0;34m:\u001b[0m\u001b[0;34m\u001b[0m\u001b[0;34m\u001b[0m\u001b[0m\n",
            "\u001b[0;32m/usr/local/lib/python3.7/dist-packages/pandas/io/parsers/c_parser_wrapper.py\u001b[0m in \u001b[0;36m__init__\u001b[0;34m(self, src, **kwds)\u001b[0m\n\u001b[1;32m     49\u001b[0m \u001b[0;34m\u001b[0m\u001b[0m\n\u001b[1;32m     50\u001b[0m         \u001b[0;31m# open handles\u001b[0m\u001b[0;34m\u001b[0m\u001b[0;34m\u001b[0m\u001b[0;34m\u001b[0m\u001b[0m\n\u001b[0;32m---> 51\u001b[0;31m         \u001b[0mself\u001b[0m\u001b[0;34m.\u001b[0m\u001b[0m_open_handles\u001b[0m\u001b[0;34m(\u001b[0m\u001b[0msrc\u001b[0m\u001b[0;34m,\u001b[0m \u001b[0mkwds\u001b[0m\u001b[0;34m)\u001b[0m\u001b[0;34m\u001b[0m\u001b[0;34m\u001b[0m\u001b[0m\n\u001b[0m\u001b[1;32m     52\u001b[0m         \u001b[0;32massert\u001b[0m \u001b[0mself\u001b[0m\u001b[0;34m.\u001b[0m\u001b[0mhandles\u001b[0m \u001b[0;32mis\u001b[0m \u001b[0;32mnot\u001b[0m \u001b[0;32mNone\u001b[0m\u001b[0;34m\u001b[0m\u001b[0;34m\u001b[0m\u001b[0m\n\u001b[1;32m     53\u001b[0m \u001b[0;34m\u001b[0m\u001b[0m\n",
            "\u001b[0;32m/usr/local/lib/python3.7/dist-packages/pandas/io/parsers/base_parser.py\u001b[0m in \u001b[0;36m_open_handles\u001b[0;34m(self, src, kwds)\u001b[0m\n\u001b[1;32m    227\u001b[0m             \u001b[0mmemory_map\u001b[0m\u001b[0;34m=\u001b[0m\u001b[0mkwds\u001b[0m\u001b[0;34m.\u001b[0m\u001b[0mget\u001b[0m\u001b[0;34m(\u001b[0m\u001b[0;34m\"memory_map\"\u001b[0m\u001b[0;34m,\u001b[0m \u001b[0;32mFalse\u001b[0m\u001b[0;34m)\u001b[0m\u001b[0;34m,\u001b[0m\u001b[0;34m\u001b[0m\u001b[0;34m\u001b[0m\u001b[0m\n\u001b[1;32m    228\u001b[0m             \u001b[0mstorage_options\u001b[0m\u001b[0;34m=\u001b[0m\u001b[0mkwds\u001b[0m\u001b[0;34m.\u001b[0m\u001b[0mget\u001b[0m\u001b[0;34m(\u001b[0m\u001b[0;34m\"storage_options\"\u001b[0m\u001b[0;34m,\u001b[0m \u001b[0;32mNone\u001b[0m\u001b[0;34m)\u001b[0m\u001b[0;34m,\u001b[0m\u001b[0;34m\u001b[0m\u001b[0;34m\u001b[0m\u001b[0m\n\u001b[0;32m--> 229\u001b[0;31m             \u001b[0merrors\u001b[0m\u001b[0;34m=\u001b[0m\u001b[0mkwds\u001b[0m\u001b[0;34m.\u001b[0m\u001b[0mget\u001b[0m\u001b[0;34m(\u001b[0m\u001b[0;34m\"encoding_errors\"\u001b[0m\u001b[0;34m,\u001b[0m \u001b[0;34m\"strict\"\u001b[0m\u001b[0;34m)\u001b[0m\u001b[0;34m,\u001b[0m\u001b[0;34m\u001b[0m\u001b[0;34m\u001b[0m\u001b[0m\n\u001b[0m\u001b[1;32m    230\u001b[0m         )\n\u001b[1;32m    231\u001b[0m \u001b[0;34m\u001b[0m\u001b[0m\n",
            "\u001b[0;32m/usr/local/lib/python3.7/dist-packages/pandas/io/common.py\u001b[0m in \u001b[0;36mget_handle\u001b[0;34m(path_or_buf, mode, encoding, compression, memory_map, is_text, errors, storage_options)\u001b[0m\n\u001b[1;32m    705\u001b[0m                 \u001b[0mencoding\u001b[0m\u001b[0;34m=\u001b[0m\u001b[0mioargs\u001b[0m\u001b[0;34m.\u001b[0m\u001b[0mencoding\u001b[0m\u001b[0;34m,\u001b[0m\u001b[0;34m\u001b[0m\u001b[0;34m\u001b[0m\u001b[0m\n\u001b[1;32m    706\u001b[0m                 \u001b[0merrors\u001b[0m\u001b[0;34m=\u001b[0m\u001b[0merrors\u001b[0m\u001b[0;34m,\u001b[0m\u001b[0;34m\u001b[0m\u001b[0;34m\u001b[0m\u001b[0m\n\u001b[0;32m--> 707\u001b[0;31m                 \u001b[0mnewline\u001b[0m\u001b[0;34m=\u001b[0m\u001b[0;34m\"\"\u001b[0m\u001b[0;34m,\u001b[0m\u001b[0;34m\u001b[0m\u001b[0;34m\u001b[0m\u001b[0m\n\u001b[0m\u001b[1;32m    708\u001b[0m             )\n\u001b[1;32m    709\u001b[0m         \u001b[0;32melse\u001b[0m\u001b[0;34m:\u001b[0m\u001b[0;34m\u001b[0m\u001b[0;34m\u001b[0m\u001b[0m\n",
            "\u001b[0;31mFileNotFoundError\u001b[0m: [Errno 2] No such file or directory: '/content/drive/MyDrive/Copy of salary_information.csv'"
          ]
        }
      ]
    },
    {
      "cell_type": "markdown",
      "metadata": {
        "id": "M0NrcVFHNxu5"
      },
      "source": [
        "The .head() method is used for displaying the first few rows of your dataframe. The argument is the number of rows you'd like to see (in this case, 5). You can use the .tail() method to display the last rows of your dataframe.\n",
        "\n",
        "## **Series**\n",
        "\n",
        "Series, similar to arrays and lists, are used for storing a collection of elements. Series are different from arrays and lists in one important way: you can create your own index for the elements in a series. However, you cannot change the indices of the elements in an array or list: you have to access them using their integer index.\n",
        "\n",
        "Series are similar to lists as they are heterogenous, which means that a single series or list can hold data of different types (integers, floats, etc.). Arrays, on the other hand, are homogenous, so a particular array can only hold data of a single type.\n",
        "\n",
        "### **Creating Series**\n",
        "\n",
        "The pd.Series() function is used for creating series (note that the series has to be capitalized as Python is case-sensitive). There are 2 ways of creating series:\n",
        "\n",
        "- Convert arrays to series\n",
        "- Create a new series\n",
        "\n",
        "The first argument in the pd.Series() function is the collection of elements within squarebrackets. If you want to convert an array to series, you can just enter the name of the array as the first argument. The second argument is optional and allows you to change the indices of the elements in your series. If you don't specify this argument, the default indices will be used, as in the example below:"
      ]
    },
    {
      "cell_type": "code",
      "metadata": {
        "id": "JaCClIvUSLmI"
      },
      "source": [
        "#Converting arrays to series\n",
        "num_series = pd.Series(num)\n",
        "num_series"
      ],
      "execution_count": null,
      "outputs": []
    },
    {
      "cell_type": "markdown",
      "metadata": {
        "id": "VcpSBgHFXiPx"
      },
      "source": [
        "You can specify the indices within square brackets, as shown below. Note that the number of indices you specify should be the same as the number of elements in your series."
      ]
    },
    {
      "cell_type": "code",
      "metadata": {
        "id": "F0QqQumsWK0_"
      },
      "source": [
        "#Create a new series\n",
        "series = pd.Series([90, 50, 73, 81], index = [1, 2, 3, 4])\n",
        "series"
      ],
      "execution_count": null,
      "outputs": []
    },
    {
      "cell_type": "markdown",
      "metadata": {
        "id": "5mCxpziHW0gI"
      },
      "source": [
        "You can specify anything as the indices of your series, even strings."
      ]
    },
    {
      "cell_type": "code",
      "metadata": {
        "id": "bi9njEz_WkCk"
      },
      "source": [
        "series_str = pd.Series([90, 50, 73, 81], index = [\"one\", \"two\", \"three\", \"four\"])\n",
        "series_str"
      ],
      "execution_count": null,
      "outputs": []
    },
    {
      "cell_type": "markdown",
      "metadata": {
        "id": "s_AVfvxQX9dY"
      },
      "source": [
        "## **Dictionaries**\n",
        "\n",
        "Dictionaries in Python are a collections of elements in which each element is given a unique key to identify it. You can use these keys to access your items. It's up to you to decide the keys of your dictionary.\n",
        "\n",
        "Here's an example of a dictionary. Say you keep track of the classes you're taking on 3 days of the week. You can create a dictionary to store this information."
      ]
    },
    {
      "cell_type": "code",
      "metadata": {
        "id": "Gw6DTCcggN9E"
      },
      "source": [
        "class_tracker = {\n",
        "    'monday': [\"data 8\", \"econ 100\", \"stat 135\"],\n",
        "    'tuesday': [\"econ 100\", \"math 53\"],\n",
        "    'wednesday': [\"philos 12a\", \"data 8\", \"stat 135\"]\n",
        "}\n",
        "class_tracker"
      ],
      "execution_count": null,
      "outputs": []
    },
    {
      "cell_type": "markdown",
      "metadata": {
        "id": "ZT8QXASCheDX"
      },
      "source": [
        "To add items to your dictionary, you can just do dict[key]: value. Suppose you want to add your schedule of classes for Thursday:"
      ]
    },
    {
      "cell_type": "code",
      "metadata": {
        "id": "0JjzZFX5hXOI"
      },
      "source": [
        "class_tracker[\"thursday\"] = [\"math 53\", \"philos 12a\"]\n",
        "class_tracker"
      ],
      "execution_count": null,
      "outputs": []
    },
    {
      "cell_type": "markdown",
      "metadata": {
        "id": "sJHWbKkWiCEv"
      },
      "source": [
        "You can use keys to access elements from your dictionaries. For example, to print out the classes you have on Tuesday, you can just do this:"
      ]
    },
    {
      "cell_type": "code",
      "metadata": {
        "id": "GZ2wFNOxh8yo"
      },
      "source": [
        "class_tracker[\"tuesday\"]"
      ],
      "execution_count": null,
      "outputs": []
    },
    {
      "cell_type": "markdown",
      "metadata": {
        "id": "28WBC4ul04xE"
      },
      "source": [
        "**Question 5:** Issac wants to track information about the classes he's taking next semester. He's taking 4 classes (in brackets is the class code): \n",
        "\n",
        "  - Introduction to Microeconomics (ECON 100)\n",
        "  - Computer Science (COMPSCI 110)\n",
        "  - 3D Printing (ART 10)\n",
        "  - Probability and Statistics (STAT 130)\n",
        "\n",
        "He's enrolled in the economics and statistics classes, but is waitlisted in the other classes. He's happy that the computer science and 3D printnig classes have a maximum class size of 20 but is worried that the other classes are bigger, with a maximum size of 50.\n",
        "\n",
        "- He wants to create a dictionary to store the class name, class code, whether he's enrolled or waitlisted and maximum class size of each class. Create this dictionary.\n",
        "-  Issac wants to know the codes of the classes he's taking. Use the dictionary you just created to retrieve the class codes."
      ]
    },
    {
      "cell_type": "code",
      "source": [
        "Isaacclass = {\n",
        "    'class name': [\"Introduction to Microeconomics\", \"Computer Science\", \"3D Printing\", \"Probability and Statistics\"],\n",
        "    'class code': [\"econ 100\", \"compsci 110\", \"art 10\", \"stat 130\"],\n",
        "    'class size': [\"50\", \"20\", \"20\", \"50\"],\n",
        "    'enrollment status' : [\"enrolled\", \"waitlist\", \"waitlist\", \"enrolled\"]\n",
        "}\n",
        "Isaacclass['class code']"
      ],
      "metadata": {
        "id": "nLEdQXSvm3ni"
      },
      "execution_count": null,
      "outputs": []
    },
    {
      "cell_type": "markdown",
      "metadata": {
        "id": "d2jWqMwWIGG9"
      },
      "source": [
        "## **Dataframes**\n",
        "\n",
        "A dataframe is an object in Python that allows you to create tables. You can think of the rows and columns in a dataframe as a collection of series. \n",
        "\n",
        "### **Creating DataFrames**\n",
        "\n",
        "You can either import a dataset using the pd.read_csv() function (which automatically converts your .csv file to a dataframe) or you can create a dataframe from scratch. The pd.DataFrame() function is used to create a dataframe. There are different ways of creating a dataframe using this function:\n",
        "\n",
        "- Creating a dataframe from lists\n",
        "- Creating a dataframe from arrays\n",
        "- Creating a dataframe from series\n",
        "- Creating a dataframe from dictionaries\n",
        "\n",
        "Let's look at each option."
      ]
    },
    {
      "cell_type": "markdown",
      "metadata": {
        "id": "GgGv6JqGLnqp"
      },
      "source": [
        "The first way to create a dataframe is by creating a nested list (that is, lists within a list). Each list in the nested list represents a row. Below, student_info is an example of a nested list.\n",
        "\n",
        "Then, pass this list as the first argument in the pd.DataFrame function. The second argument, which is optional, is the names of your columns. If you don't specify anything, Python will just set integers starting from 0 as the column names."
      ]
    },
    {
      "cell_type": "code",
      "metadata": {
        "id": "es6rHRJFKdZA"
      },
      "source": [
        "student_info = [[1011, \"Andy\", \"9th\", True], [1012, \"Isabel\", \"10th\", False]]\n",
        "student_df = pd.DataFrame(student_info, columns = [\"Student ID\", \"First Name\", \"Grade\", \"Enrolled?\"])\n",
        "student_df"
      ],
      "execution_count": null,
      "outputs": []
    },
    {
      "cell_type": "markdown",
      "metadata": {
        "id": "ewXMg3G_MKcV"
      },
      "source": [
        "Every row in a dataframe has an index, as you can see above. You can set your own custom index. "
      ]
    },
    {
      "cell_type": "code",
      "metadata": {
        "id": "UvBCnlTJLgjO"
      },
      "source": [
        "student_df = pd.DataFrame(student_info, columns = [\"Student ID\", \"First Name\", \"Grade\", \"Enrolled?\"], index = [\"Student 1\", \"Student 2\"])\n",
        "student_df"
      ],
      "execution_count": null,
      "outputs": []
    },
    {
      "cell_type": "markdown",
      "metadata": {
        "id": "aIvzPaDAMvea"
      },
      "source": [
        "You can also create a dataframe using arrays. Since a particular array can only hold data of a single type, you can use it as a column for your dataframe."
      ]
    },
    {
      "cell_type": "code",
      "metadata": {
        "id": "tgEdjfTLOIu7"
      },
      "source": [
        "#Arrays of columns – each array is a column in your dataframe\n",
        "student_id = np.array([1011, 1012])\n",
        "names = np.array([\"Andy\", \"Isabel\"])\n",
        "grade = np.array([\"9th\", \"10th\"])\n",
        "enrolled = np.array([True, False])\n",
        "\n",
        "#Creating the dataframe\n",
        "student_df_2 = pd.DataFrame({\"Student ID\": student_id, \"First Name\": names, \"Grade\": grade, \"Enrolled?\": enrolled}, index = [\"Student 1\", \"Student 2\"])\n",
        "student_df_2"
      ],
      "execution_count": null,
      "outputs": []
    },
    {
      "cell_type": "markdown",
      "metadata": {
        "id": "cAYIyQs5Pwt7"
      },
      "source": [
        "You can also create series and pass them as columns in your dataframe. This process is similar to using arrays to create a dataframe. Note: don't specify the index in the pd.DataFrame function as your values won't be shown if you do. If you want to change the index, change it in the series."
      ]
    },
    {
      "cell_type": "code",
      "metadata": {
        "id": "9EqVhm3XQfy4"
      },
      "source": [
        "#Series of columns – each series is a column in your dataframe\n",
        "student_id_series = pd.Series([1011, 1012])\n",
        "names_series = pd.Series([\"Andy\", \"Lana\"])\n",
        "grade_series = pd.Series([\"9th\", \"10th\"])\n",
        "enrolled_series = pd.Series([True, False])\n",
        "\n",
        "#Creating the dataframe\n",
        "student_df_3 = pd.DataFrame({\"Student ID\": student_id_series, \"First Name\": names_series, \"Grade\": grade_series, \"Enrolled?\": enrolled_series})\n",
        "student_df_3"
      ],
      "execution_count": null,
      "outputs": []
    },
    {
      "cell_type": "markdown",
      "metadata": {
        "id": "7Z7aV8QuSdlP"
      },
      "source": [
        "The final way to create a dataframe is using a dictionary. You don't have to specify column names when you use this method as your dictionary keys will be the column names."
      ]
    },
    {
      "cell_type": "code",
      "metadata": {
        "id": "4-8pC7m_Sk1P"
      },
      "source": [
        "student_dict = {\n",
        "    \"Student ID\": [1011, 1012],\n",
        "    \"First Name\": [\"Andy\", \"Lana\"],\n",
        "    \"Grade\": [\"9th\", \"10th\"],\n",
        "    \"Enrolled?\": [True, False]\n",
        "}\n",
        "\n",
        "student_df_4 = pd.DataFrame(student_dict, index = [\"Student 1\", \"Student 2\"])\n",
        "student_df_4"
      ],
      "execution_count": null,
      "outputs": []
    },
    {
      "cell_type": "markdown",
      "metadata": {
        "id": "u5gEFA5s1exs"
      },
      "source": [
        "**Question 6:** Issac decides that it's better to store this information as a dataframe. Convert the dictionary to a dataframe."
      ]
    },
    {
      "cell_type": "code",
      "source": [
        "pd.DataFrame(Isaacclass)"
      ],
      "metadata": {
        "id": "NCBpUB0zoE6f"
      },
      "execution_count": null,
      "outputs": []
    },
    {
      "cell_type": "markdown",
      "metadata": {
        "id": "z32qPKwcNQPB"
      },
      "source": [
        "### **Data Cleaning**\n",
        "\n",
        "Generally, you cannot immediately start using a dataset right after you uploaded it to Python as there may be a lot of things that are wrong with it. Therefore, we have to first clean the dataset before we start using it.\n",
        "\n",
        "In our salaries dataset, we have to fix the following things:\n",
        "\n",
        "1. Converting the values in each column from strings to floats \n",
        "2. Removing NaN values\n",
        "\n",
        "**Converting Strings to Floats**\n",
        "\n",
        "If you check the data type of a value in one of the numeric columns, you will see that it is actually a string rather than a number."
      ]
    },
    {
      "cell_type": "code",
      "metadata": {
        "id": "R4qEPF2PPOj6"
      },
      "source": [
        "type(salary_df[\"starting_salary\"][0])"
      ],
      "execution_count": null,
      "outputs": []
    },
    {
      "cell_type": "markdown",
      "metadata": {
        "id": "l-HDQtbwS2BJ"
      },
      "source": [
        "Note: `df[\"column_name\"]` allows you to select a column in your dataframe. You can then use indexing to select a particular value in this column."
      ]
    },
    {
      "cell_type": "markdown",
      "metadata": {
        "id": "W35wZUdvPcKZ"
      },
      "source": [
        "This means that we cannot perform mathematical operations on our data (such as taking the mean). Hence, we have to convert the values to numbers.\n",
        "\n",
        "To do this, we first want to remove any symbols (such as commas and dollar signs) using the .replace() function then convert the string to float using the float() function. Since we have to do this repeatedly on multiple values, we can define a function to make things easier."
      ]
    },
    {
      "cell_type": "code",
      "metadata": {
        "id": "D_fSEMj-QE-q"
      },
      "source": [
        "#String conversion function\n",
        "def string_convert(string):\n",
        "  remove_comma = string.replace(\",\", \"\")\n",
        "  remove_dollar = remove_comma.replace(\"$\", \"\")\n",
        "  to_float = float(remove_dollar)\n",
        "  return to_float\n",
        "\n",
        "#Checking if our function works\n",
        "salary_df[\"starting_salary\"] = salary_df[\"starting_salary\"].apply(string_convert)\n",
        "type(salary_df[\"starting_salary\"][0])"
      ],
      "execution_count": null,
      "outputs": []
    },
    {
      "cell_type": "markdown",
      "metadata": {
        "id": "OsdGxl44RfNd"
      },
      "source": [
        "We have successfully converted the strings in the starting_salary column to numbers! Let's do the asme for all the other columns."
      ]
    },
    {
      "cell_type": "code",
      "metadata": {
        "id": "f_CMsJWkRsxM"
      },
      "source": [
        "#Finding all the columns in the dataset\n",
        "salary_df.columns"
      ],
      "execution_count": null,
      "outputs": []
    },
    {
      "cell_type": "code",
      "metadata": {
        "id": "bgHUCx2eR6av"
      },
      "source": [
        "salary_df[\"midcareer_salary\"] = salary_df[\"midcareer_salary\"].apply(string_convert)\n",
        "salary_df[\"percent_change_starting\"] = salary_df[\"percent_change_starting\"].apply(string_convert)\n",
        "salary_df[\"midcareer_tenth_percentile\"] = salary_df[\"midcareer_tenth_percentile\"].apply(string_convert)\n",
        "salary_df[\"midcareer_twentyfifth_percentile\"] = salary_df[\"midcareer_twentyfifth_percentile\"].apply(string_convert)\n",
        "salary_df[\"midcareer_seventyfifth_percentile\"] = salary_df[\"midcareer_seventyfifth_percentile\"].apply(string_convert)\n",
        "salary_df[\"midcareer_nintieth_percentile\"] = salary_df[\"midcareer_nintieth_percentile\"].apply(string_convert)"
      ],
      "execution_count": null,
      "outputs": []
    },
    {
      "cell_type": "markdown",
      "metadata": {
        "id": "lLGkqjfrSnQl"
      },
      "source": [
        "Note: we have to specify `salary_df[\"column_name\"] = salary_df[\"column_name\"].apply(string_convert)` to make sure that the changes we made are saved and reflectd in our dataframe. Otherwise, the conversion from string to float will not be shown in the dataframe.\n",
        "\n",
        "We're done with the first part of our data cleaning!\n",
        "\n",
        "**Removing NaN Values**\n",
        "\n",
        "You can drop all the NaN values in your dataset using the .dropna() function. However, we will be removing the last column, which only contains NaN values, rather than just dropping NaN values. To remove a column in a dataframe, we use the .drop() function."
      ]
    },
    {
      "cell_type": "code",
      "metadata": {
        "id": "O10n3oAwT6dV"
      },
      "source": [
        "salary_df.head(4)"
      ],
      "execution_count": null,
      "outputs": []
    },
    {
      "cell_type": "code",
      "metadata": {
        "id": "Gwogqp_3TnSG"
      },
      "source": [
        "salary_df = salary_df.drop(columns = [\"Unnamed: 8\"])\n",
        "salary_df.columns"
      ],
      "execution_count": null,
      "outputs": []
    },
    {
      "cell_type": "markdown",
      "metadata": {
        "id": "PVMuwHVkTWOF"
      },
      "source": [
        "### **Dataframe Functions**\n",
        "\n",
        "There are a ton of important dataframe functions but in this section, we'll just talk about a few important ones. \n",
        "\n",
        "**Summary Functions**\n",
        "\n",
        "First, we'll be talking about the functions we can use for extracting information from our dataset. \n",
        "\n",
        "- df.info() - This function gives you a summary of your dataset, including the column names, data types, etc. \n",
        "- df.shape - This gives you the dimensions of your dataframe in this format: (rows, columns).\n",
        "- df.columns - This gives you the names of the columns in your dataset in the order in which they appear.\n",
        "\n",
        "Let's apply these functions on the salary dataset."
      ]
    },
    {
      "cell_type": "code",
      "metadata": {
        "id": "Rwn6yYmmVMvp"
      },
      "source": [
        "salary_df.info()"
      ],
      "execution_count": null,
      "outputs": []
    },
    {
      "cell_type": "code",
      "metadata": {
        "id": "9diLBSFgVXfL"
      },
      "source": [
        "salary_df.shape"
      ],
      "execution_count": null,
      "outputs": []
    },
    {
      "cell_type": "code",
      "metadata": {
        "id": "60acN_c-Vg9K"
      },
      "source": [
        "salary_df.columns"
      ],
      "execution_count": null,
      "outputs": []
    },
    {
      "cell_type": "markdown",
      "metadata": {
        "id": "G28AzTdbVjY8"
      },
      "source": [
        "**Other Functions**\n",
        "\n",
        "Here, we'll be talking about other important dataframe functions that you'll likely use for your project.\n",
        "\n",
        "- df.describe() - This gives you a statistical summary of the numerical columns (that is, columns whose data type is integer or float) in your dataset. For each of the numerical columns, you will get mean, standard deviation, etc. \n",
        "\n",
        "- df.groupby() - This function allows you to group yoru data into different categories and perform operations on those categories.\n",
        "\n",
        "- df.sort_values() - This is used for sorting columns in ascending or descending order."
      ]
    },
    {
      "cell_type": "code",
      "metadata": {
        "id": "QrTcYWPBXBTV"
      },
      "source": [
        "salary_df.describe()"
      ],
      "execution_count": null,
      "outputs": []
    },
    {
      "cell_type": "markdown",
      "metadata": {
        "id": "-gl5dAXdWcoK"
      },
      "source": [
        "We can't use the groupby() function on the `salary_df` dataframe as the majors column already has only unique values. So, we can load a new dataset."
      ]
    },
    {
      "cell_type": "code",
      "metadata": {
        "id": "TY4zb2cuWLzR"
      },
      "source": [
        "import seaborn as sns\n",
        "df = sns.load_dataset('iris')\n",
        "df.head(5)"
      ],
      "execution_count": null,
      "outputs": []
    },
    {
      "cell_type": "code",
      "metadata": {
        "id": "5_OXJ25EW5HO"
      },
      "source": [
        "#This gives the mean for each species.\n",
        "df.groupby(\"species\").mean()"
      ],
      "execution_count": null,
      "outputs": []
    },
    {
      "cell_type": "code",
      "metadata": {
        "id": "7ovBvgYMXzDL"
      },
      "source": [
        "#This sorts the entire dataset in descending order of midcareer salary.\n",
        "salary_df.sort_values(by = \"midcareer_salary\", ascending = False).head(10)"
      ],
      "execution_count": null,
      "outputs": []
    },
    {
      "cell_type": "markdown",
      "metadata": {
        "id": "tuoD4VSRYMUD"
      },
      "source": [
        "### **Indexing, Slicing and Subsetting Dataframes**\n",
        "\n",
        "You can access values in your dataset using indexing, slicing and subsetting.\n",
        "\n",
        "This is how you can select one column in your dataset."
      ]
    },
    {
      "cell_type": "code",
      "metadata": {
        "id": "4DLOtPONY3U4"
      },
      "source": [
        "salary_df[\"undergrad_major\"]"
      ],
      "execution_count": null,
      "outputs": []
    },
    {
      "cell_type": "markdown",
      "metadata": {
        "id": "PK2Etqx6Y6Ge"
      },
      "source": [
        "This is how you can select multiple columns in your dataset."
      ]
    },
    {
      "cell_type": "code",
      "metadata": {
        "id": "FvHgCy3PY5DL"
      },
      "source": [
        "salary_df[[\"undergrad_major\", \"starting_salary\"]]"
      ],
      "execution_count": null,
      "outputs": []
    },
    {
      "cell_type": "markdown",
      "metadata": {
        "id": "X8K4pCQkamXL"
      },
      "source": [
        "You can use indexing to select rows. This is the format:\n",
        "\n",
        "```\n",
        "df[start_value: end_value]\n",
        "```\n",
        "\n",
        "Note that row indices start from 0 (similar to indices fo arrays and lists). The row in the end value is not included. "
      ]
    },
    {
      "cell_type": "code",
      "metadata": {
        "id": "Y0YdLjGwas8v"
      },
      "source": [
        "#This will give you the first row in your dataframe.\n",
        "salary_df[0:1]"
      ],
      "execution_count": null,
      "outputs": []
    },
    {
      "cell_type": "code",
      "metadata": {
        "id": "KVI4M2oOavoT"
      },
      "source": [
        "#This will give you the first 4 rows in your dataframe.\n",
        "salary_df[0:4]"
      ],
      "execution_count": null,
      "outputs": []
    },
    {
      "cell_type": "markdown",
      "metadata": {
        "id": "AA_Zy8ZKbN59"
      },
      "source": [
        "You can also include a step value."
      ]
    },
    {
      "cell_type": "code",
      "metadata": {
        "id": "ul03_W9PbIaO"
      },
      "source": [
        "#This will give you every 2nd row between the 1st and 10th rows.\n",
        "salary_df[0:10:2]"
      ],
      "execution_count": null,
      "outputs": []
    },
    {
      "cell_type": "markdown",
      "metadata": {
        "id": "dsuQunyUbTrP"
      },
      "source": [
        "Negative indexing allows you to select rows from the end of your dataframe."
      ]
    },
    {
      "cell_type": "code",
      "metadata": {
        "id": "VIIxUVdnbMAu"
      },
      "source": [
        "#This will give you the last row in your dataframe.\n",
        "salary_df[-2:-1]"
      ],
      "execution_count": null,
      "outputs": []
    },
    {
      "cell_type": "markdown",
      "metadata": {
        "id": "whIYs0LSbmce"
      },
      "source": [
        "Two functions that are useful for indexing and slicing are .loc() and .iloc(). The first argument is the row(s) you would like to select and the second argument is the column(s) you would like to select. The .loc() function is mainly used for slicing based on labels (row and column names). The .iloc() function is mainly used for slicing based on indices."
      ]
    },
    {
      "cell_type": "code",
      "metadata": {
        "id": "BF5oYh-QcwMK"
      },
      "source": [
        "#This allows you to select the first column.\n",
        "salary_df.loc[:, \"undergrad_major\"]"
      ],
      "execution_count": null,
      "outputs": []
    },
    {
      "cell_type": "code",
      "metadata": {
        "id": "7ID0ukt6c2gL"
      },
      "source": [
        "#This will give you the first 5 columns for the 2 specified columns.\n",
        "salary_df.loc[0:4, [\"undergrad_major\", \"starting_salary\"]]"
      ],
      "execution_count": null,
      "outputs": []
    },
    {
      "cell_type": "code",
      "metadata": {
        "id": "1Y_EkebIdj8G"
      },
      "source": [
        "#This will give you the first 4 rows of the first 3 columns.\n",
        "salary_df.iloc[0:4, 0:3]"
      ],
      "execution_count": null,
      "outputs": []
    },
    {
      "cell_type": "markdown",
      "metadata": {
        "id": "UNBYjLUeeYP8"
      },
      "source": [
        "You can also subset dataframes using comparison operators like > and =. This allows you to select values in a column that match a particular condition."
      ]
    },
    {
      "cell_type": "code",
      "metadata": {
        "id": "V33e1LcBeiNF"
      },
      "source": [
        "#This will show values in your dataframe for which the midcareer salary is greater than $30,000.\n",
        "salary_df[salary_df[\"midcareer_salary\"] > 30000].head(5)"
      ],
      "execution_count": null,
      "outputs": []
    },
    {
      "cell_type": "markdown",
      "metadata": {
        "id": "zzkVhp8yfRIM"
      },
      "source": [
        "Another way of doing this:"
      ]
    },
    {
      "cell_type": "code",
      "metadata": {
        "id": "J4QysCJMfFVD"
      },
      "source": [
        "#This will show values in your dataframe for which the starting salary is greater than $50,000.\n",
        "salary_df[salary_df.starting_salary > 50000].head(5)"
      ],
      "execution_count": null,
      "outputs": []
    },
    {
      "cell_type": "markdown",
      "metadata": {
        "id": "Q8COSnBBfnt8"
      },
      "source": [
        "You can also use logical operators to filter based on multiple conditions."
      ]
    },
    {
      "cell_type": "code",
      "metadata": {
        "id": "bE29sRGqfsCp"
      },
      "source": [
        "#This will show values in your dataframe for which the starting salary is greater than $50,000 and midcareer salary is greater than $100,000.\n",
        "salary_df[(salary_df.starting_salary > 50000) & (salary_df.midcareer_salary > 100000)].head(5)"
      ],
      "execution_count": null,
      "outputs": []
    },
    {
      "cell_type": "markdown",
      "metadata": {
        "id": "1c_kGnt6gHc6"
      },
      "source": [
        "# **Resources**\n",
        "\n",
        "1. [NumPy Official Website](https://numpy.org/)\n",
        "2. [List of NumPy Math Functions](https://numpy.org/doc/stable/reference/routines.math.html)\n",
        "3. [Official Pandas Website](https://pandas.pydata.org/)"
      ]
    },
    {
      "cell_type": "markdown",
      "metadata": {
        "id": "2iN4anqImRJd"
      },
      "source": [
        "# **Project Tasks**\n",
        "\n",
        "We will mainly be working with 2 datasets for the final project. The first one is a dataset with information on tweets about the COVID-19 vaccination across the world. The second one is a dataset tracking the progress different countries made towards vaccinating people.\n",
        "\n",
        "1. Open these links and download the 2 datasets.\n",
        "\n",
        "  - [COVID-19 All Vaccines Tweets](https://www.kaggle.com/gpreda/all-covid19-vaccines-tweets)\n",
        "  - [COVID-19 World Vaccination Progress](https://www.kaggle.com/gpreda/covid-world-vaccination-progress)\n",
        "\n",
        "2. Upload these datasets on Python as dataframes (either using the method we discussed in this lab or some other method you find easier).\n",
        "\n",
        "3. Explore the dataset using dataframe summary functions: .info(), .shape, .columns. You could also look at the data types of the values of different columns to see if they make sense.\n",
        "\n",
        "4. Although these datasets are already cleaned, can you think of more ways of cleaning the dataset?\n",
        "\n",
        "5. Your final project will be focused on one idea/topic you want to explore. It's useful to start thinking about what you would like to work on! \n",
        "\n",
        "  Look at the datasets and come up with 2-3 ideas you would like to work on for your final project. For example, one potentially interesting project idea is to see if there's any correlation between sentiments and vaccination rate. This is just for brainstorming – you don't have to finalize any ideas yet. \n",
        "\n",
        "  You can also do some background research on the topic to come up with ideas. Some useful links to check out if you're interested:\n",
        "\n",
        "    - [Sentiment Analysis of COVID-19 Vaccine Tweets Using Machine Learning](https://papers.ssrn.com/sol3/papers.cfm?abstract_id=3869531)\n",
        "    - [Tweet Topics and Sentiments Relating to COVID-19 Vaccination Among Australian Twitter Users](https://pubmed.ncbi.nlm.nih.gov/33886492/)\n",
        "    - [Insight from NLP Analysis](https://arxiv.org/pdf/2106.04081.pdf)\n",
        "    - [An analysis of COVID-19 vaccine sentiments and opinions on Twitter](https://www.ijidonline.com/article/S1201-9712(21)00462-8/fulltext)\n",
        "\n",
        "  "
      ]
    },
    {
      "cell_type": "markdown",
      "metadata": {
        "id": "HieR7oPW7JQ_"
      },
      "source": [
        "## Written by Vaidehi Bulusu (edited by Akira and Ramisha)\n",
        "\n",
        "---"
      ]
    },
    {
      "cell_type": "code",
      "source": [],
      "metadata": {
        "id": "jCp1n6c6HpHK"
      },
      "execution_count": null,
      "outputs": []
    }
  ]
}