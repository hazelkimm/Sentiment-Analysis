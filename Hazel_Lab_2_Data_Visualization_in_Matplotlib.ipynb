{
  "nbformat": 4,
  "nbformat_minor": 0,
  "metadata": {
    "colab": {
      "provenance": [],
      "include_colab_link": true
    },
    "kernelspec": {
      "name": "python3",
      "display_name": "Python 3"
    },
    "language_info": {
      "name": "python"
    }
  },
  "cells": [
    {
      "cell_type": "markdown",
      "metadata": {
        "id": "view-in-github",
        "colab_type": "text"
      },
      "source": [
        "<a href=\"https://colab.research.google.com/github/hazelkimm/Sentiment-Analysis/blob/main/Hazel_Lab_2_Data_Visualization_in_Matplotlib.ipynb\" target=\"_parent\"><img src=\"https://colab.research.google.com/assets/colab-badge.svg\" alt=\"Open In Colab\"/></a>"
      ]
    },
    {
      "cell_type": "markdown",
      "metadata": {
        "id": "xDiY_CWvPwQC"
      },
      "source": [
        "# **Data Visualization**\n",
        "\n",
        "Data visualization refers to representing data using graphics such as charts and maps. It is a really important part of data analysis as it allows you to identify patterns in your data and draw conclusions. It also makes it easier to communicate your data.\n",
        "\n",
        "For this project, we will learn 2 popular Python libraries for data visualization: Matplotlib and Seaborn.\n"
      ]
    },
    {
      "cell_type": "markdown",
      "metadata": {
        "id": "yLaNq_flGz4v"
      },
      "source": [
        "# **Matplotlib**\n",
        "\n",
        "<img src='https://machinelearningapplied.com/wp-content/uploads/2019/10/matplotlib_logo.png'>\n",
        "\n",
        "Matplotlib is a library in Python used for data visualization. It allows you to create different types of plots and also gives you various options for customizing your graphics. You can use it to create both static and interactive visualizations (though in this lab we will be focusing on creating static visualizations). If you have any questions or run into any issues, you can refer to the extensive documentation on the Matplotlib website.\n",
        "\n",
        "Note that there are various sub-libraries within the Matplotlib library. The one we will be using is called Pyplot. Hence, when we are importing Matplotlib, we have to specify which sub-library we want to import:\n",
        "\n"
      ]
    },
    {
      "cell_type": "code",
      "metadata": {
        "id": "0Z5YYdNuKKVg"
      },
      "source": [
        "#Importing Pyplot from Matplotlib\n",
        "import matplotlib.pyplot as plt"
      ],
      "execution_count": null,
      "outputs": []
    },
    {
      "cell_type": "markdown",
      "metadata": {
        "id": "nU4NDMZVKR-T"
      },
      "source": [
        "We also have to make sure to import other necessary libraries before we start coding:"
      ]
    },
    {
      "cell_type": "code",
      "metadata": {
        "id": "-PSB3AZvKV6Z"
      },
      "source": [
        "import numpy as np\n",
        "import pandas as pd\n",
        "import seaborn as sns"
      ],
      "execution_count": null,
      "outputs": []
    },
    {
      "cell_type": "markdown",
      "metadata": {
        "id": "KkpLh8hMKcpN"
      },
      "source": [
        "**Question 1:** Can you think of another way of importing Pyplot? (Hint: It saves you the need to name the library.)"
      ]
    },
    {
      "cell_type": "code",
      "source": [
        "import matplotlib.pyplot as plt"
      ],
      "metadata": {
        "id": "gbl8gvebfsnj"
      },
      "execution_count": null,
      "outputs": []
    },
    {
      "cell_type": "markdown",
      "metadata": {
        "id": "uUyaN5skLaay"
      },
      "source": [
        "## **Creating Visualizations**\n",
        "\n",
        "There are so many plots and types of visualizations you can create in Matplotlib but today, we'll focus on 6 visualizations:\n",
        "\n",
        "- Bar chart\n",
        "- Pie chart\n",
        "- Line chart\n",
        "- Histogram\n",
        "- Scatter plot\n",
        "- Boxplot\n"
      ]
    },
    {
      "cell_type": "markdown",
      "metadata": {
        "id": "_jjlkHjwNZFZ"
      },
      "source": [
        "### **Bar Chart**\n",
        "\n",
        "A bar chart is used for visualizing the distribution of a categorical variable. It can either be vertical or horizontal. In a vertical bar chart, the categories (e.g. freshman, sophomore, junior, senior) is on the x-axis and the measure of frequency (e.g. number, frequency density, percentage) is on the y-axis. This is reversed in a horizontal bar chart. The type of bar chart you should use is a matter of convenience.\n",
        "\n",
        "This is how you can create a bar chart using Matplotlib. Seaborn is a library in Python used for data visualization but it also has various built-in datasets (see the list of all built-in datasets [here](https://github.com/mwaskom/seaborn-data)). We start by importing one of these built-in datasets, a dataset named `tips`."
      ]
    },
    {
      "cell_type": "code",
      "metadata": {
        "colab": {
          "base_uri": "https://localhost:8080/",
          "height": 206
        },
        "id": "Za2pRmqrQUv3",
        "outputId": "454ea168-ee4b-4f01-cf36-4ed1e23364d9"
      },
      "source": [
        "#Importing a built-in dataset\n",
        "tips_df = sns.load_dataset('tips')\n",
        "tips_df.head(5)"
      ],
      "execution_count": null,
      "outputs": [
        {
          "output_type": "execute_result",
          "data": {
            "text/plain": [
              "   total_bill   tip     sex smoker  day    time  size\n",
              "0       16.99  1.01  Female     No  Sun  Dinner     2\n",
              "1       10.34  1.66    Male     No  Sun  Dinner     3\n",
              "2       21.01  3.50    Male     No  Sun  Dinner     3\n",
              "3       23.68  3.31    Male     No  Sun  Dinner     2\n",
              "4       24.59  3.61  Female     No  Sun  Dinner     4"
            ],
            "text/html": [
              "\n",
              "  <div id=\"df-5e808b4e-1bfd-40a5-9a59-7f93731ddc59\">\n",
              "    <div class=\"colab-df-container\">\n",
              "      <div>\n",
              "<style scoped>\n",
              "    .dataframe tbody tr th:only-of-type {\n",
              "        vertical-align: middle;\n",
              "    }\n",
              "\n",
              "    .dataframe tbody tr th {\n",
              "        vertical-align: top;\n",
              "    }\n",
              "\n",
              "    .dataframe thead th {\n",
              "        text-align: right;\n",
              "    }\n",
              "</style>\n",
              "<table border=\"1\" class=\"dataframe\">\n",
              "  <thead>\n",
              "    <tr style=\"text-align: right;\">\n",
              "      <th></th>\n",
              "      <th>total_bill</th>\n",
              "      <th>tip</th>\n",
              "      <th>sex</th>\n",
              "      <th>smoker</th>\n",
              "      <th>day</th>\n",
              "      <th>time</th>\n",
              "      <th>size</th>\n",
              "    </tr>\n",
              "  </thead>\n",
              "  <tbody>\n",
              "    <tr>\n",
              "      <th>0</th>\n",
              "      <td>16.99</td>\n",
              "      <td>1.01</td>\n",
              "      <td>Female</td>\n",
              "      <td>No</td>\n",
              "      <td>Sun</td>\n",
              "      <td>Dinner</td>\n",
              "      <td>2</td>\n",
              "    </tr>\n",
              "    <tr>\n",
              "      <th>1</th>\n",
              "      <td>10.34</td>\n",
              "      <td>1.66</td>\n",
              "      <td>Male</td>\n",
              "      <td>No</td>\n",
              "      <td>Sun</td>\n",
              "      <td>Dinner</td>\n",
              "      <td>3</td>\n",
              "    </tr>\n",
              "    <tr>\n",
              "      <th>2</th>\n",
              "      <td>21.01</td>\n",
              "      <td>3.50</td>\n",
              "      <td>Male</td>\n",
              "      <td>No</td>\n",
              "      <td>Sun</td>\n",
              "      <td>Dinner</td>\n",
              "      <td>3</td>\n",
              "    </tr>\n",
              "    <tr>\n",
              "      <th>3</th>\n",
              "      <td>23.68</td>\n",
              "      <td>3.31</td>\n",
              "      <td>Male</td>\n",
              "      <td>No</td>\n",
              "      <td>Sun</td>\n",
              "      <td>Dinner</td>\n",
              "      <td>2</td>\n",
              "    </tr>\n",
              "    <tr>\n",
              "      <th>4</th>\n",
              "      <td>24.59</td>\n",
              "      <td>3.61</td>\n",
              "      <td>Female</td>\n",
              "      <td>No</td>\n",
              "      <td>Sun</td>\n",
              "      <td>Dinner</td>\n",
              "      <td>4</td>\n",
              "    </tr>\n",
              "  </tbody>\n",
              "</table>\n",
              "</div>\n",
              "      <button class=\"colab-df-convert\" onclick=\"convertToInteractive('df-5e808b4e-1bfd-40a5-9a59-7f93731ddc59')\"\n",
              "              title=\"Convert this dataframe to an interactive table.\"\n",
              "              style=\"display:none;\">\n",
              "        \n",
              "  <svg xmlns=\"http://www.w3.org/2000/svg\" height=\"24px\"viewBox=\"0 0 24 24\"\n",
              "       width=\"24px\">\n",
              "    <path d=\"M0 0h24v24H0V0z\" fill=\"none\"/>\n",
              "    <path d=\"M18.56 5.44l.94 2.06.94-2.06 2.06-.94-2.06-.94-.94-2.06-.94 2.06-2.06.94zm-11 1L8.5 8.5l.94-2.06 2.06-.94-2.06-.94L8.5 2.5l-.94 2.06-2.06.94zm10 10l.94 2.06.94-2.06 2.06-.94-2.06-.94-.94-2.06-.94 2.06-2.06.94z\"/><path d=\"M17.41 7.96l-1.37-1.37c-.4-.4-.92-.59-1.43-.59-.52 0-1.04.2-1.43.59L10.3 9.45l-7.72 7.72c-.78.78-.78 2.05 0 2.83L4 21.41c.39.39.9.59 1.41.59.51 0 1.02-.2 1.41-.59l7.78-7.78 2.81-2.81c.8-.78.8-2.07 0-2.86zM5.41 20L4 18.59l7.72-7.72 1.47 1.35L5.41 20z\"/>\n",
              "  </svg>\n",
              "      </button>\n",
              "      \n",
              "  <style>\n",
              "    .colab-df-container {\n",
              "      display:flex;\n",
              "      flex-wrap:wrap;\n",
              "      gap: 12px;\n",
              "    }\n",
              "\n",
              "    .colab-df-convert {\n",
              "      background-color: #E8F0FE;\n",
              "      border: none;\n",
              "      border-radius: 50%;\n",
              "      cursor: pointer;\n",
              "      display: none;\n",
              "      fill: #1967D2;\n",
              "      height: 32px;\n",
              "      padding: 0 0 0 0;\n",
              "      width: 32px;\n",
              "    }\n",
              "\n",
              "    .colab-df-convert:hover {\n",
              "      background-color: #E2EBFA;\n",
              "      box-shadow: 0px 1px 2px rgba(60, 64, 67, 0.3), 0px 1px 3px 1px rgba(60, 64, 67, 0.15);\n",
              "      fill: #174EA6;\n",
              "    }\n",
              "\n",
              "    [theme=dark] .colab-df-convert {\n",
              "      background-color: #3B4455;\n",
              "      fill: #D2E3FC;\n",
              "    }\n",
              "\n",
              "    [theme=dark] .colab-df-convert:hover {\n",
              "      background-color: #434B5C;\n",
              "      box-shadow: 0px 1px 3px 1px rgba(0, 0, 0, 0.15);\n",
              "      filter: drop-shadow(0px 1px 2px rgba(0, 0, 0, 0.3));\n",
              "      fill: #FFFFFF;\n",
              "    }\n",
              "  </style>\n",
              "\n",
              "      <script>\n",
              "        const buttonEl =\n",
              "          document.querySelector('#df-5e808b4e-1bfd-40a5-9a59-7f93731ddc59 button.colab-df-convert');\n",
              "        buttonEl.style.display =\n",
              "          google.colab.kernel.accessAllowed ? 'block' : 'none';\n",
              "\n",
              "        async function convertToInteractive(key) {\n",
              "          const element = document.querySelector('#df-5e808b4e-1bfd-40a5-9a59-7f93731ddc59');\n",
              "          const dataTable =\n",
              "            await google.colab.kernel.invokeFunction('convertToInteractive',\n",
              "                                                     [key], {});\n",
              "          if (!dataTable) return;\n",
              "\n",
              "          const docLinkHtml = 'Like what you see? Visit the ' +\n",
              "            '<a target=\"_blank\" href=https://colab.research.google.com/notebooks/data_table.ipynb>data table notebook</a>'\n",
              "            + ' to learn more about interactive tables.';\n",
              "          element.innerHTML = '';\n",
              "          dataTable['output_type'] = 'display_data';\n",
              "          await google.colab.output.renderOutput(dataTable, element);\n",
              "          const docLink = document.createElement('div');\n",
              "          docLink.innerHTML = docLinkHtml;\n",
              "          element.appendChild(docLink);\n",
              "        }\n",
              "      </script>\n",
              "    </div>\n",
              "  </div>\n",
              "  "
            ]
          },
          "metadata": {},
          "execution_count": 5
        }
      ]
    },
    {
      "cell_type": "markdown",
      "metadata": {
        "id": "cpSHdJzcRJe5"
      },
      "source": [
        "To create a bar chart, we need 2 arrays:\n",
        "\n",
        "- An array of the unique values of the categories\n",
        "- An array of the frequency measure of these categories\n",
        "\n",
        "Say we wanted to visualize the distribution of the `day` variable. The first step is to create the two arrays we need.\n"
      ]
    },
    {
      "cell_type": "code",
      "metadata": {
        "colab": {
          "base_uri": "https://localhost:8080/"
        },
        "id": "QtzhO_3XRwrC",
        "outputId": "c05a1ffa-45f8-4d96-b6bd-0302a3deacb7"
      },
      "source": [
        "day_value_counts = tips_df[\"day\"].value_counts()\n",
        "day_value_counts"
      ],
      "execution_count": null,
      "outputs": [
        {
          "output_type": "execute_result",
          "data": {
            "text/plain": [
              "Sat     87\n",
              "Sun     76\n",
              "Thur    62\n",
              "Fri     19\n",
              "Name: day, dtype: int64"
            ]
          },
          "metadata": {},
          "execution_count": 6
        }
      ]
    },
    {
      "cell_type": "code",
      "metadata": {
        "colab": {
          "base_uri": "https://localhost:8080/"
        },
        "id": "bAubmAVmSH5M",
        "outputId": "5c52eaec-a45a-45ce-c78f-c42a62ff3b8b"
      },
      "source": [
        "#Array of categories\n",
        "day_names = day_value_counts.index\n",
        "day_names"
      ],
      "execution_count": null,
      "outputs": [
        {
          "output_type": "execute_result",
          "data": {
            "text/plain": [
              "CategoricalIndex(['Sat', 'Sun', 'Thur', 'Fri'], categories=['Thur', 'Fri', 'Sat', 'Sun'], ordered=False, dtype='category')"
            ]
          },
          "metadata": {},
          "execution_count": 7
        }
      ]
    },
    {
      "cell_type": "code",
      "metadata": {
        "colab": {
          "base_uri": "https://localhost:8080/"
        },
        "id": "-Stcet_nSpiQ",
        "outputId": "90d6c98d-ba7a-4361-c817-b315b8222a89"
      },
      "source": [
        "#Array of values\n",
        "day_values = day_value_counts.values\n",
        "day_values"
      ],
      "execution_count": null,
      "outputs": [
        {
          "output_type": "execute_result",
          "data": {
            "text/plain": [
              "array([87, 76, 62, 19])"
            ]
          },
          "metadata": {},
          "execution_count": 8
        }
      ]
    },
    {
      "cell_type": "markdown",
      "metadata": {
        "id": "U3NVILWYS3TW"
      },
      "source": [
        "Now we can create the bar chart in Matplotlib:"
      ]
    },
    {
      "cell_type": "code",
      "metadata": {
        "colab": {
          "base_uri": "https://localhost:8080/",
          "height": 265
        },
        "id": "y3w1pvYnS6Mg",
        "outputId": "55a4a251-ed05-4e18-9d32-0a88a2352c23"
      },
      "source": [
        "#Vertical bar chart\n",
        "plt.bar(x = day_names, height = day_values)\n",
        "plt.show()\n",
        "#This removes unnecesary text – more on this later."
      ],
      "execution_count": null,
      "outputs": [
        {
          "output_type": "display_data",
          "data": {
            "text/plain": [
              "<Figure size 432x288 with 1 Axes>"
            ],
            "image/png": "[encoded data removed]"
          },
          "metadata": {
            "needs_background": "light"
          }
        }
      ]
    },
    {
      "cell_type": "code",
      "metadata": {
        "colab": {
          "base_uri": "https://localhost:8080/",
          "height": 265
        },
        "id": "ANhGOMFWS-B5",
        "outputId": "6a8f3381-3d70-44dc-fe4b-46b548f058ef"
      },
      "source": [
        "#Horizontal bar chart\n",
        "plt.barh(day_names, day_values)\n",
        "plt.show()"
      ],
      "execution_count": null,
      "outputs": [
        {
          "output_type": "display_data",
          "data": {
            "text/plain": [
              "<Figure size 432x288 with 1 Axes>"
            ],
            "image/png": "[encoded data removed]"
          },
          "metadata": {
            "needs_background": "light"
          }
        }
      ]
    },
    {
      "cell_type": "markdown",
      "metadata": {
        "id": "1UoUm2TkTAwi"
      },
      "source": [
        "You can customize your bar chart by changing its color, borders, etc. See the [documentation](https://matplotlib.org/stable/api/_as_gen/matplotlib.pyplot.bar.html) for the full list of customizations and [this link](https://matplotlib.org/stable/gallery/color/named_colors.html) for a list of all the colors you can use in Matplotlib."
      ]
    },
    {
      "cell_type": "code",
      "metadata": {
        "colab": {
          "base_uri": "https://localhost:8080/",
          "height": 265
        },
        "id": "ujzr32fzTZs0",
        "outputId": "fd9cc3d7-ff05-4b04-cb8a-b03398be0ae1"
      },
      "source": [
        "plt.bar(x = day_names, height = day_values, color = [\"darkseagreen\", \"lightblue\"], edgecolor = \"cadetblue\", linewidth = 2)\n",
        "plt.show()"
      ],
      "execution_count": null,
      "outputs": [
        {
          "output_type": "display_data",
          "data": {
            "text/plain": [
              "<Figure size 432x288 with 1 Axes>"
            ],
            "image/png": "[encoded data removed]"
          },
          "metadata": {
            "needs_background": "light"
          }
        }
      ]
    },
    {
      "cell_type": "code",
      "metadata": {
        "colab": {
          "base_uri": "https://localhost:8080/",
          "height": 265
        },
        "id": "gcY3OatRTbi4",
        "outputId": "be0387c6-4551-494c-d198-7505fd5ccf4b"
      },
      "source": [
        "plt.barh(y = day_names, width = day_values, color = [\"darkseagreen\", \"lightblue\"], edgecolor = \"cadetblue\", linewidth = 2)\n",
        "plt.show()"
      ],
      "execution_count": null,
      "outputs": [
        {
          "output_type": "display_data",
          "data": {
            "text/plain": [
              "<Figure size 432x288 with 1 Axes>"
            ],
            "image/png": "[encoded data removed]"
          },
          "metadata": {
            "needs_background": "light"
          }
        }
      ]
    },
    {
      "cell_type": "markdown",
      "metadata": {
        "id": "II_aUikkUHbR"
      },
      "source": [
        "**Question 2:** Pick another categorical variable from `tips_df` and create a bar chart to show its distribution."
      ]
    },
    {
      "cell_type": "code",
      "source": [
        "size_value_counts = tips_df[\"size\"].value_counts()\n",
        "size_names = size_value_counts.index\n",
        "size_values = size_value_counts.values\n",
        "plt.bar(x = size_names, height = size_values)"
      ],
      "metadata": {
        "colab": {
          "base_uri": "https://localhost:8080/",
          "height": 283
        },
        "id": "1MnCRHJTfyOJ",
        "outputId": "a92b5a56-9334-4dba-c729-ed57eb451688"
      },
      "execution_count": null,
      "outputs": [
        {
          "output_type": "execute_result",
          "data": {
            "text/plain": [
              "<BarContainer object of 6 artists>"
            ]
          },
          "metadata": {},
          "execution_count": 13
        },
        {
          "output_type": "display_data",
          "data": {
            "text/plain": [
              "<Figure size 432x288 with 1 Axes>"
            ],
            "image/png": "[encoded data removed]"
          },
          "metadata": {
            "needs_background": "light"
          }
        }
      ]
    },
    {
      "cell_type": "markdown",
      "metadata": {
        "id": "foiQ04WEY6q-"
      },
      "source": [
        "### **Pie Chart**\n",
        "\n",
        "A pie chart is similar to a bar chart in that it's used for visualizing the distribution of a categorical variable. It gives you a better visual sense of the relative proportions of each category. However, it's not very useful when there are a lot of categories.\n",
        "\n",
        "To create a pie chart, you only have to specify the array of categories."
      ]
    },
    {
      "cell_type": "code",
      "metadata": {
        "colab": {
          "base_uri": "https://localhost:8080/",
          "height": 248
        },
        "id": "rvjI3wb4aahH",
        "outputId": "38cc97dd-4ce8-4c56-d090-4680776c9d5a"
      },
      "source": [
        "plt.pie(x = day_values)\n",
        "plt.show()"
      ],
      "execution_count": null,
      "outputs": [
        {
          "output_type": "display_data",
          "data": {
            "text/plain": [
              "<Figure size 432x288 with 1 Axes>"
            ],
            "image/png": "[encoded data removed]"
          },
          "metadata": {}
        }
      ]
    },
    {
      "cell_type": "markdown",
      "metadata": {
        "id": "ij_4CeHlade0"
      },
      "source": [
        "You can customize your pie chart by adding labels, changing colors, etc. (full list [here](https://matplotlib.org/stable/api/_as_gen/matplotlib.pyplot.pie.html)):"
      ]
    },
    {
      "cell_type": "code",
      "metadata": {
        "colab": {
          "base_uri": "https://localhost:8080/",
          "height": 248
        },
        "id": "f8bMH5O1acDa",
        "outputId": "b59d8325-8df9-401c-c024-ef0b507274a1"
      },
      "source": [
        "plt.pie(x = day_values, labels = day_names, colors = [\"lightseagreen\", \"teal\"], shadow = True)\n",
        "plt.show()"
      ],
      "execution_count": null,
      "outputs": [
        {
          "output_type": "display_data",
          "data": {
            "text/plain": [
              "<Figure size 432x288 with 1 Axes>"
            ],
            "image/png": "[encoded data removed]"
          },
          "metadata": {}
        }
      ]
    },
    {
      "cell_type": "markdown",
      "metadata": {
        "id": "Oq43WPRiauu-"
      },
      "source": [
        "**Question 3:** Use a pie chart to visualize the categorical variable you chose in question 2."
      ]
    },
    {
      "cell_type": "code",
      "source": [
        "plt.pie(x = size_values, labels = size_names)"
      ],
      "metadata": {
        "colab": {
          "base_uri": "https://localhost:8080/",
          "height": 467
        },
        "id": "gsClh6x8hCH_",
        "outputId": "30245895-5e71-4585-b87b-e91952a55a51"
      },
      "execution_count": null,
      "outputs": [
        {
          "output_type": "execute_result",
          "data": {
            "text/plain": [
              "([<matplotlib.patches.Wedge at 0x7fd13434c3d0>,\n",
              "  <matplotlib.patches.Wedge at 0x7fd134094650>,\n",
              "  <matplotlib.patches.Wedge at 0x7fd134094c50>,\n",
              "  <matplotlib.patches.Wedge at 0x7fd1340231d0>,\n",
              "  <matplotlib.patches.Wedge at 0x7fd134023b10>,\n",
              "  <matplotlib.patches.Wedge at 0x7fd13402b210>],\n",
              " [Text(-0.46630586953858105, 0.9962724707798907, '2'),\n",
              "  Text(-0.22500720993803192, -1.0767412667284106, '3'),\n",
              "  Text(0.7575324352517332, -0.797586741076843, '4'),\n",
              "  Text(1.0600355488685091, -0.29381054292696657, '5'),\n",
              "  Text(1.0868966891428178, -0.16927961227029392, '1'),\n",
              "  Text(1.0985414996989988, -0.05662661422930992, '6')])"
            ]
          },
          "metadata": {},
          "execution_count": 16
        },
        {
          "output_type": "display_data",
          "data": {
            "text/plain": [
              "<Figure size 432x288 with 1 Axes>"
            ],
            "image/png": "[encoded data removed]"
          },
          "metadata": {}
        }
      ]
    },
    {
      "cell_type": "markdown",
      "metadata": {
        "id": "zcTZqcrcTu-5"
      },
      "source": [
        "### **Line Chart**\n",
        "\n",
        "A line chart is used for visualizing trends and patterns in a numerical variable (e.g. the number of people enrolled in a class). It's best used for showing how a numerical variable changes over time.\n",
        "\n",
        "To create a line chart, we need 2 arrays:\n",
        "\n",
        "- An array of the values of the numerical variable\n",
        "- An array of the categories (e.g. time periods)\n",
        "\n",
        "For this example, we will be using another built-in dataset called `flights`. Say we wanted to see how the total number of flight passengers changed across the years. The first step is to create these 2 arrays."
      ]
    },
    {
      "cell_type": "code",
      "metadata": {
        "colab": {
          "base_uri": "https://localhost:8080/",
          "height": 206
        },
        "id": "ulRjM8OOV7mY",
        "outputId": "70923414-193b-42be-88d0-c9f6e37d2b99"
      },
      "source": [
        "#Importing the dataset\n",
        "flights_df = sns.load_dataset('flights')\n",
        "flights_df.head(5)"
      ],
      "execution_count": null,
      "outputs": [
        {
          "output_type": "execute_result",
          "data": {
            "text/plain": [
              "   year month  passengers\n",
              "0  1949   Jan         112\n",
              "1  1949   Feb         118\n",
              "2  1949   Mar         132\n",
              "3  1949   Apr         129\n",
              "4  1949   May         121"
            ],
            "text/html": [
              "\n",
              "  <div id=\"df-962c308f-28f7-4ffa-803a-5bc379c87642\">\n",
              "    <div class=\"colab-df-container\">\n",
              "      <div>\n",
              "<style scoped>\n",
              "    .dataframe tbody tr th:only-of-type {\n",
              "        vertical-align: middle;\n",
              "    }\n",
              "\n",
              "    .dataframe tbody tr th {\n",
              "        vertical-align: top;\n",
              "    }\n",
              "\n",
              "    .dataframe thead th {\n",
              "        text-align: right;\n",
              "    }\n",
              "</style>\n",
              "<table border=\"1\" class=\"dataframe\">\n",
              "  <thead>\n",
              "    <tr style=\"text-align: right;\">\n",
              "      <th></th>\n",
              "      <th>year</th>\n",
              "      <th>month</th>\n",
              "      <th>passengers</th>\n",
              "    </tr>\n",
              "  </thead>\n",
              "  <tbody>\n",
              "    <tr>\n",
              "      <th>0</th>\n",
              "      <td>1949</td>\n",
              "      <td>Jan</td>\n",
              "      <td>112</td>\n",
              "    </tr>\n",
              "    <tr>\n",
              "      <th>1</th>\n",
              "      <td>1949</td>\n",
              "      <td>Feb</td>\n",
              "      <td>118</td>\n",
              "    </tr>\n",
              "    <tr>\n",
              "      <th>2</th>\n",
              "      <td>1949</td>\n",
              "      <td>Mar</td>\n",
              "      <td>132</td>\n",
              "    </tr>\n",
              "    <tr>\n",
              "      <th>3</th>\n",
              "      <td>1949</td>\n",
              "      <td>Apr</td>\n",
              "      <td>129</td>\n",
              "    </tr>\n",
              "    <tr>\n",
              "      <th>4</th>\n",
              "      <td>1949</td>\n",
              "      <td>May</td>\n",
              "      <td>121</td>\n",
              "    </tr>\n",
              "  </tbody>\n",
              "</table>\n",
              "</div>\n",
              "      <button class=\"colab-df-convert\" onclick=\"convertToInteractive('df-962c308f-28f7-4ffa-803a-5bc379c87642')\"\n",
              "              title=\"Convert this dataframe to an interactive table.\"\n",
              "              style=\"display:none;\">\n",
              "        \n",
              "  <svg xmlns=\"http://www.w3.org/2000/svg\" height=\"24px\"viewBox=\"0 0 24 24\"\n",
              "       width=\"24px\">\n",
              "    <path d=\"M0 0h24v24H0V0z\" fill=\"none\"/>\n",
              "    <path d=\"M18.56 5.44l.94 2.06.94-2.06 2.06-.94-2.06-.94-.94-2.06-.94 2.06-2.06.94zm-11 1L8.5 8.5l.94-2.06 2.06-.94-2.06-.94L8.5 2.5l-.94 2.06-2.06.94zm10 10l.94 2.06.94-2.06 2.06-.94-2.06-.94-.94-2.06-.94 2.06-2.06.94z\"/><path d=\"M17.41 7.96l-1.37-1.37c-.4-.4-.92-.59-1.43-.59-.52 0-1.04.2-1.43.59L10.3 9.45l-7.72 7.72c-.78.78-.78 2.05 0 2.83L4 21.41c.39.39.9.59 1.41.59.51 0 1.02-.2 1.41-.59l7.78-7.78 2.81-2.81c.8-.78.8-2.07 0-2.86zM5.41 20L4 18.59l7.72-7.72 1.47 1.35L5.41 20z\"/>\n",
              "  </svg>\n",
              "      </button>\n",
              "      \n",
              "  <style>\n",
              "    .colab-df-container {\n",
              "      display:flex;\n",
              "      flex-wrap:wrap;\n",
              "      gap: 12px;\n",
              "    }\n",
              "\n",
              "    .colab-df-convert {\n",
              "      background-color: #E8F0FE;\n",
              "      border: none;\n",
              "      border-radius: 50%;\n",
              "      cursor: pointer;\n",
              "      display: none;\n",
              "      fill: #1967D2;\n",
              "      height: 32px;\n",
              "      padding: 0 0 0 0;\n",
              "      width: 32px;\n",
              "    }\n",
              "\n",
              "    .colab-df-convert:hover {\n",
              "      background-color: #E2EBFA;\n",
              "      box-shadow: 0px 1px 2px rgba(60, 64, 67, 0.3), 0px 1px 3px 1px rgba(60, 64, 67, 0.15);\n",
              "      fill: #174EA6;\n",
              "    }\n",
              "\n",
              "    [theme=dark] .colab-df-convert {\n",
              "      background-color: #3B4455;\n",
              "      fill: #D2E3FC;\n",
              "    }\n",
              "\n",
              "    [theme=dark] .colab-df-convert:hover {\n",
              "      background-color: #434B5C;\n",
              "      box-shadow: 0px 1px 3px 1px rgba(0, 0, 0, 0.15);\n",
              "      filter: drop-shadow(0px 1px 2px rgba(0, 0, 0, 0.3));\n",
              "      fill: #FFFFFF;\n",
              "    }\n",
              "  </style>\n",
              "\n",
              "      <script>\n",
              "        const buttonEl =\n",
              "          document.querySelector('#df-962c308f-28f7-4ffa-803a-5bc379c87642 button.colab-df-convert');\n",
              "        buttonEl.style.display =\n",
              "          google.colab.kernel.accessAllowed ? 'block' : 'none';\n",
              "\n",
              "        async function convertToInteractive(key) {\n",
              "          const element = document.querySelector('#df-962c308f-28f7-4ffa-803a-5bc379c87642');\n",
              "          const dataTable =\n",
              "            await google.colab.kernel.invokeFunction('convertToInteractive',\n",
              "                                                     [key], {});\n",
              "          if (!dataTable) return;\n",
              "\n",
              "          const docLinkHtml = 'Like what you see? Visit the ' +\n",
              "            '<a target=\"_blank\" href=https://colab.research.google.com/notebooks/data_table.ipynb>data table notebook</a>'\n",
              "            + ' to learn more about interactive tables.';\n",
              "          element.innerHTML = '';\n",
              "          dataTable['output_type'] = 'display_data';\n",
              "          await google.colab.output.renderOutput(dataTable, element);\n",
              "          const docLink = document.createElement('div');\n",
              "          docLink.innerHTML = docLinkHtml;\n",
              "          element.appendChild(docLink);\n",
              "        }\n",
              "      </script>\n",
              "    </div>\n",
              "  </div>\n",
              "  "
            ]
          },
          "metadata": {},
          "execution_count": 17
        }
      ]
    },
    {
      "cell_type": "markdown",
      "metadata": {
        "id": "Fz9bJfS1WBgC"
      },
      "source": [
        "To get the information we want, we have to group the years based on the sum of passengers. If you've taken DATA 8, you may recognize that we can use the `group()` function to do this.\n",
        "\n",
        "```\n",
        "flights_df.group(\"year\", sum).select(\"year\", \"passengers sum\")\n",
        "```\n",
        "\n",
        "This is what we're doing below, except using built-in Python functions rather than functions from the datascience library:"
      ]
    },
    {
      "cell_type": "code",
      "metadata": {
        "colab": {
          "base_uri": "https://localhost:8080/",
          "height": 457
        },
        "id": "dxgt3jvtWAEh",
        "outputId": "4dd027de-122d-4b93-974a-4ad854a3c078"
      },
      "source": [
        "flights_grouped = flights_df.groupby(\"year\").sum()\n",
        "flights_grouped"
      ],
      "execution_count": null,
      "outputs": [
        {
          "output_type": "execute_result",
          "data": {
            "text/plain": [
              "      passengers\n",
              "year            \n",
              "1949        1520\n",
              "1950        1676\n",
              "1951        2042\n",
              "1952        2364\n",
              "1953        2700\n",
              "1954        2867\n",
              "1955        3408\n",
              "1956        3939\n",
              "1957        4421\n",
              "1958        4572\n",
              "1959        5140\n",
              "1960        5714"
            ],
            "text/html": [
              "\n",
              "  <div id=\"df-f45f5eb1-3c18-4a92-b983-f1f35102fc26\">\n",
              "    <div class=\"colab-df-container\">\n",
              "      <div>\n",
              "<style scoped>\n",
              "    .dataframe tbody tr th:only-of-type {\n",
              "        vertical-align: middle;\n",
              "    }\n",
              "\n",
              "    .dataframe tbody tr th {\n",
              "        vertical-align: top;\n",
              "    }\n",
              "\n",
              "    .dataframe thead th {\n",
              "        text-align: right;\n",
              "    }\n",
              "</style>\n",
              "<table border=\"1\" class=\"dataframe\">\n",
              "  <thead>\n",
              "    <tr style=\"text-align: right;\">\n",
              "      <th></th>\n",
              "      <th>passengers</th>\n",
              "    </tr>\n",
              "    <tr>\n",
              "      <th>year</th>\n",
              "      <th></th>\n",
              "    </tr>\n",
              "  </thead>\n",
              "  <tbody>\n",
              "    <tr>\n",
              "      <th>1949</th>\n",
              "      <td>1520</td>\n",
              "    </tr>\n",
              "    <tr>\n",
              "      <th>1950</th>\n",
              "      <td>1676</td>\n",
              "    </tr>\n",
              "    <tr>\n",
              "      <th>1951</th>\n",
              "      <td>2042</td>\n",
              "    </tr>\n",
              "    <tr>\n",
              "      <th>1952</th>\n",
              "      <td>2364</td>\n",
              "    </tr>\n",
              "    <tr>\n",
              "      <th>1953</th>\n",
              "      <td>2700</td>\n",
              "    </tr>\n",
              "    <tr>\n",
              "      <th>1954</th>\n",
              "      <td>2867</td>\n",
              "    </tr>\n",
              "    <tr>\n",
              "      <th>1955</th>\n",
              "      <td>3408</td>\n",
              "    </tr>\n",
              "    <tr>\n",
              "      <th>1956</th>\n",
              "      <td>3939</td>\n",
              "    </tr>\n",
              "    <tr>\n",
              "      <th>1957</th>\n",
              "      <td>4421</td>\n",
              "    </tr>\n",
              "    <tr>\n",
              "      <th>1958</th>\n",
              "      <td>4572</td>\n",
              "    </tr>\n",
              "    <tr>\n",
              "      <th>1959</th>\n",
              "      <td>5140</td>\n",
              "    </tr>\n",
              "    <tr>\n",
              "      <th>1960</th>\n",
              "      <td>5714</td>\n",
              "    </tr>\n",
              "  </tbody>\n",
              "</table>\n",
              "</div>\n",
              "      <button class=\"colab-df-convert\" onclick=\"convertToInteractive('df-f45f5eb1-3c18-4a92-b983-f1f35102fc26')\"\n",
              "              title=\"Convert this dataframe to an interactive table.\"\n",
              "              style=\"display:none;\">\n",
              "        \n",
              "  <svg xmlns=\"http://www.w3.org/2000/svg\" height=\"24px\"viewBox=\"0 0 24 24\"\n",
              "       width=\"24px\">\n",
              "    <path d=\"M0 0h24v24H0V0z\" fill=\"none\"/>\n",
              "    <path d=\"M18.56 5.44l.94 2.06.94-2.06 2.06-.94-2.06-.94-.94-2.06-.94 2.06-2.06.94zm-11 1L8.5 8.5l.94-2.06 2.06-.94-2.06-.94L8.5 2.5l-.94 2.06-2.06.94zm10 10l.94 2.06.94-2.06 2.06-.94-2.06-.94-.94-2.06-.94 2.06-2.06.94z\"/><path d=\"M17.41 7.96l-1.37-1.37c-.4-.4-.92-.59-1.43-.59-.52 0-1.04.2-1.43.59L10.3 9.45l-7.72 7.72c-.78.78-.78 2.05 0 2.83L4 21.41c.39.39.9.59 1.41.59.51 0 1.02-.2 1.41-.59l7.78-7.78 2.81-2.81c.8-.78.8-2.07 0-2.86zM5.41 20L4 18.59l7.72-7.72 1.47 1.35L5.41 20z\"/>\n",
              "  </svg>\n",
              "      </button>\n",
              "      \n",
              "  <style>\n",
              "    .colab-df-container {\n",
              "      display:flex;\n",
              "      flex-wrap:wrap;\n",
              "      gap: 12px;\n",
              "    }\n",
              "\n",
              "    .colab-df-convert {\n",
              "      background-color: #E8F0FE;\n",
              "      border: none;\n",
              "      border-radius: 50%;\n",
              "      cursor: pointer;\n",
              "      display: none;\n",
              "      fill: #1967D2;\n",
              "      height: 32px;\n",
              "      padding: 0 0 0 0;\n",
              "      width: 32px;\n",
              "    }\n",
              "\n",
              "    .colab-df-convert:hover {\n",
              "      background-color: #E2EBFA;\n",
              "      box-shadow: 0px 1px 2px rgba(60, 64, 67, 0.3), 0px 1px 3px 1px rgba(60, 64, 67, 0.15);\n",
              "      fill: #174EA6;\n",
              "    }\n",
              "\n",
              "    [theme=dark] .colab-df-convert {\n",
              "      background-color: #3B4455;\n",
              "      fill: #D2E3FC;\n",
              "    }\n",
              "\n",
              "    [theme=dark] .colab-df-convert:hover {\n",
              "      background-color: #434B5C;\n",
              "      box-shadow: 0px 1px 3px 1px rgba(0, 0, 0, 0.15);\n",
              "      filter: drop-shadow(0px 1px 2px rgba(0, 0, 0, 0.3));\n",
              "      fill: #FFFFFF;\n",
              "    }\n",
              "  </style>\n",
              "\n",
              "      <script>\n",
              "        const buttonEl =\n",
              "          document.querySelector('#df-f45f5eb1-3c18-4a92-b983-f1f35102fc26 button.colab-df-convert');\n",
              "        buttonEl.style.display =\n",
              "          google.colab.kernel.accessAllowed ? 'block' : 'none';\n",
              "\n",
              "        async function convertToInteractive(key) {\n",
              "          const element = document.querySelector('#df-f45f5eb1-3c18-4a92-b983-f1f35102fc26');\n",
              "          const dataTable =\n",
              "            await google.colab.kernel.invokeFunction('convertToInteractive',\n",
              "                                                     [key], {});\n",
              "          if (!dataTable) return;\n",
              "\n",
              "          const docLinkHtml = 'Like what you see? Visit the ' +\n",
              "            '<a target=\"_blank\" href=https://colab.research.google.com/notebooks/data_table.ipynb>data table notebook</a>'\n",
              "            + ' to learn more about interactive tables.';\n",
              "          element.innerHTML = '';\n",
              "          dataTable['output_type'] = 'display_data';\n",
              "          await google.colab.output.renderOutput(dataTable, element);\n",
              "          const docLink = document.createElement('div');\n",
              "          docLink.innerHTML = docLinkHtml;\n",
              "          element.appendChild(docLink);\n",
              "        }\n",
              "      </script>\n",
              "    </div>\n",
              "  </div>\n",
              "  "
            ]
          },
          "metadata": {},
          "execution_count": 18
        }
      ]
    },
    {
      "cell_type": "markdown",
      "metadata": {
        "id": "onu6VkZfXzVE"
      },
      "source": [
        "Now we can just select these two columns to create arrays. Note that the first column is the index column."
      ]
    },
    {
      "cell_type": "code",
      "metadata": {
        "colab": {
          "base_uri": "https://localhost:8080/"
        },
        "id": "SugLh-OGX5-O",
        "outputId": "b2c0dc84-8a55-40f6-ef56-293474d56f2d"
      },
      "source": [
        "years = flights_grouped.index\n",
        "years"
      ],
      "execution_count": null,
      "outputs": [
        {
          "output_type": "execute_result",
          "data": {
            "text/plain": [
              "Int64Index([1949, 1950, 1951, 1952, 1953, 1954, 1955, 1956, 1957, 1958, 1959,\n",
              "            1960],\n",
              "           dtype='int64', name='year')"
            ]
          },
          "metadata": {},
          "execution_count": 19
        }
      ]
    },
    {
      "cell_type": "code",
      "metadata": {
        "colab": {
          "base_uri": "https://localhost:8080/"
        },
        "id": "ptlMYhx-X8cU",
        "outputId": "f1f1b55e-9727-4d5b-917e-ab890dfcc359"
      },
      "source": [
        "passengers = flights_grouped[\"passengers\"]\n",
        "passengers"
      ],
      "execution_count": null,
      "outputs": [
        {
          "output_type": "execute_result",
          "data": {
            "text/plain": [
              "year\n",
              "1949    1520\n",
              "1950    1676\n",
              "1951    2042\n",
              "1952    2364\n",
              "1953    2700\n",
              "1954    2867\n",
              "1955    3408\n",
              "1956    3939\n",
              "1957    4421\n",
              "1958    4572\n",
              "1959    5140\n",
              "1960    5714\n",
              "Name: passengers, dtype: int64"
            ]
          },
          "metadata": {},
          "execution_count": 20
        }
      ]
    },
    {
      "cell_type": "markdown",
      "metadata": {
        "id": "1W_uI3IzYCqp"
      },
      "source": [
        "We're ready to create the line chart in Matplotlib:"
      ]
    },
    {
      "cell_type": "code",
      "metadata": {
        "colab": {
          "base_uri": "https://localhost:8080/",
          "height": 265
        },
        "id": "_JPBbdLBYIgO",
        "outputId": "dc200dbc-701d-4162-ab6a-bb2132fbe675"
      },
      "source": [
        "plt.plot(years, passengers) \n",
        "plt.show()"
      ],
      "execution_count": null,
      "outputs": [
        {
          "output_type": "display_data",
          "data": {
            "text/plain": [
              "<Figure size 432x288 with 1 Axes>"
            ],
            "image/png": "[encoded data removed]"
          },
          "metadata": {
            "needs_background": "light"
          }
        }
      ]
    },
    {
      "cell_type": "markdown",
      "metadata": {
        "id": "A9CqUoIyYMsq"
      },
      "source": [
        "You can customize your line graph in [different ways](https://matplotlib.org/stable/api/_as_gen/matplotlib.pyplot.plot.html) of arguments):"
      ]
    },
    {
      "cell_type": "code",
      "metadata": {
        "colab": {
          "base_uri": "https://localhost:8080/",
          "height": 265
        },
        "id": "Ea0cn9mWYYKh",
        "outputId": "13a80bc3-51b6-4d01-87c5-58ea972c1019"
      },
      "source": [
        "plt.plot(years, passengers, color = \"maroon\", marker = \"x\", linestyle = \"dotted\")\n",
        "plt.show()"
      ],
      "execution_count": null,
      "outputs": [
        {
          "output_type": "display_data",
          "data": {
            "text/plain": [
              "<Figure size 432x288 with 1 Axes>"
            ],
            "image/png": "[encoded data removed]"
          },
          "metadata": {
            "needs_background": "light"
          }
        }
      ]
    },
    {
      "cell_type": "markdown",
      "metadata": {
        "id": "3cQ4ji56ZyTQ"
      },
      "source": [
        "Note that you could also use a bar chart to visualize this information but a line chart also shows you how the number of passengers changes over time."
      ]
    },
    {
      "cell_type": "markdown",
      "metadata": {
        "id": "u8Blm3IzYiZ0"
      },
      "source": [
        "**Question 4:** Think of another numerical variable from `flights_df` (e.g. the average number of passengers for each month) and create a line chart to visualize it."
      ]
    },
    {
      "cell_type": "code",
      "source": [
        "flights_month = flights_df.groupby(\"month\").mean()\n",
        "avgpass = flights_month[\"passengers\"]\n",
        "month = flights_month.index\n",
        "\n",
        "plt.plot(month, avgpass, color = \"blue\", marker = \"x\", linestyle = \"dotted\")\n",
        "plt.show()"
      ],
      "metadata": {
        "colab": {
          "base_uri": "https://localhost:8080/",
          "height": 265
        },
        "id": "9WvRjRUahWjv",
        "outputId": "14ae5dd0-dfad-4e9f-b8a7-7a7f31d9448a"
      },
      "execution_count": null,
      "outputs": [
        {
          "output_type": "display_data",
          "data": {
            "text/plain": [
              "<Figure size 432x288 with 1 Axes>"
            ],
            "image/png": "[encoded data removed]"
          },
          "metadata": {
            "needs_background": "light"
          }
        }
      ]
    },
    {
      "cell_type": "markdown",
      "metadata": {
        "id": "X8OvL67May02"
      },
      "source": [
        "### **Histogram**\n",
        "\n",
        "A histogram is used for visualizing the distribution of a numerical variable. It gives you a sense of the frequency of different values of the variable in your dataset. It is a very important visualization for statistics. The values of the numerical variable are on the x-axis and the measure of frequency (e.g. number, frequency density) is on the y-axis. You can also flip the axes, which is useful for some graphs (like a population pyramid) but it's not generally very convenient.\n",
        "\n",
        "Here's an example of visualizing the distribution of the total bill (from `tips_df`):"
      ]
    },
    {
      "cell_type": "code",
      "metadata": {
        "colab": {
          "base_uri": "https://localhost:8080/",
          "height": 265
        },
        "id": "eoAHUg5IbRwj",
        "outputId": "39cd82b6-04c5-4863-a6f8-366f6a0a9bed"
      },
      "source": [
        "plt.hist(x = tips_df[\"total_bill\"])\n",
        "plt.show()"
      ],
      "execution_count": null,
      "outputs": [
        {
          "output_type": "display_data",
          "data": {
            "text/plain": [
              "<Figure size 432x288 with 1 Axes>"
            ],
            "image/png": "[encoded data removed]"
          },
          "metadata": {
            "needs_background": "light"
          }
        }
      ]
    },
    {
      "cell_type": "markdown",
      "metadata": {
        "id": "t_letUUQeMb3"
      },
      "source": [
        "This histogram is right-skewed which basically means that smaller values of the numerical variable occur at a higher frequency than larger values. More technically, the median of the variable is lower than its mean, as extreme values are inflating the mean. This makes sense: it's rare for people to place really large orders at restaurants. It's useful to interpret the skew of the histogram as it gives you greater insight into your data."
      ]
    },
    {
      "cell_type": "markdown",
      "metadata": {
        "id": "dDdA835zbr_U"
      },
      "source": [
        "The default histogram is a frequency histogram which shows the number for each interval. You can create a density histogram by saying `density = True`. Also, it's generally a good idea to specify the bins.\n",
        "\n",
        "[Here's](https://matplotlib.org/stable/api/_as_gen/matplotlib.pyplot.hist.html) a full list of arguments for the plt.hist() function."
      ]
    },
    {
      "cell_type": "code",
      "metadata": {
        "colab": {
          "base_uri": "https://localhost:8080/",
          "height": 265
        },
        "id": "Nu-psd2ubw9l",
        "outputId": "2047796e-d587-46a1-c32e-ec7c2477d896"
      },
      "source": [
        "plt.hist(x = tips_df[\"total_bill\"], bins = np.arange(0, 55, 5), density = True, color = \"purple\")\n",
        "plt.show() "
      ],
      "execution_count": null,
      "outputs": [
        {
          "output_type": "display_data",
          "data": {
            "text/plain": [
              "<Figure size 432x288 with 1 Axes>"
            ],
            "image/png": "[encoded data removed]"
          },
          "metadata": {
            "needs_background": "light"
          }
        }
      ]
    },
    {
      "cell_type": "markdown",
      "metadata": {
        "id": "g_9mWbeVcXD4"
      },
      "source": [
        "**Question 5:** \n",
        "\n",
        "- Pick another numerical variable from `tips_df` and create a density histogram to visualize it (don't forget to specify the bins!).\n",
        "- How is your histogram skewed? Why do you think this is? Does it make sense?"
      ]
    },
    {
      "cell_type": "code",
      "source": [
        "plt.hist(x = tips_df[\"tip\"], bins = np.arange(0, 12, 1), density = True, color = \"purple\")\n",
        "plt.show()\n",
        "#This histogram is skewed to the right. It makes sense, as we pay tips proportional to the total amount of bill. As total bill is right skewed, the histogram of tip is skewed to the right as well."
      ],
      "metadata": {
        "colab": {
          "base_uri": "https://localhost:8080/",
          "height": 265
        },
        "id": "4nm7hqpVlDMh",
        "outputId": "6ff15d79-640e-4aaf-8fb3-a517a99e459e"
      },
      "execution_count": null,
      "outputs": [
        {
          "output_type": "display_data",
          "data": {
            "text/plain": [
              "<Figure size 432x288 with 1 Axes>"
            ],
            "image/png": "[encoded data removed]"
          },
          "metadata": {
            "needs_background": "light"
          }
        }
      ]
    },
    {
      "cell_type": "markdown",
      "metadata": {
        "id": "NVPFb9Axa4hd"
      },
      "source": [
        "### **Boxplot**\n",
        "\n",
        "A boxplot is similar to a histogram in that it allows you to visualize the distribution of a numerical variable. One difference between the two is that a boxplot gives you more specific statistics about the numerical varable (such as its maximum value, median, mean, etc.) whereas a histogram gives you a better visual sense of the spread of the variable."
      ]
    },
    {
      "cell_type": "markdown",
      "metadata": {
        "id": "8YZhpl50jpqq"
      },
      "source": [
        "This graphic shows how to interpret a boxplot:\n",
        "\n",
        "<img src='https://matplotlib.org/stable/_images/boxplot_explanation.png'>"
      ]
    },
    {
      "cell_type": "code",
      "metadata": {
        "colab": {
          "base_uri": "https://localhost:8080/",
          "height": 265
        },
        "id": "5R0-PF4qiX9g",
        "outputId": "16cabcec-e1ff-4813-8889-7e40b982fd35"
      },
      "source": [
        "plt.boxplot(x = tips_df[\"total_bill\"])\n",
        "plt.show()"
      ],
      "execution_count": null,
      "outputs": [
        {
          "output_type": "display_data",
          "data": {
            "text/plain": [
              "<Figure size 432x288 with 1 Axes>"
            ],
            "image/png": "[encoded data removed]"
          },
          "metadata": {
            "needs_background": "light"
          }
        }
      ]
    },
    {
      "cell_type": "markdown",
      "metadata": {
        "id": "sznyaD1Ni7W3"
      },
      "source": [
        "It may be more useful to create a horizontal boxplot:"
      ]
    },
    {
      "cell_type": "code",
      "metadata": {
        "colab": {
          "base_uri": "https://localhost:8080/",
          "height": 265
        },
        "id": "SYHZffd4jBWP",
        "outputId": "47113466-e4e0-4242-846d-028713b3c094"
      },
      "source": [
        "plt.boxplot(x = tips_df[\"total_bill\"], vert = False)\n",
        "plt.show()"
      ],
      "execution_count": null,
      "outputs": [
        {
          "output_type": "display_data",
          "data": {
            "text/plain": [
              "<Figure size 432x288 with 1 Axes>"
            ],
            "image/png": "[encoded data removed]"
          },
          "metadata": {
            "needs_background": "light"
          }
        }
      ]
    },
    {
      "cell_type": "markdown",
      "metadata": {
        "id": "qiM-M9Aqkx9t"
      },
      "source": [
        "The boxplot aligns with the previous histogram for total bill. It shows a right skew as the median is closer to the lower quartiler and there's a longer tail to the right."
      ]
    },
    {
      "cell_type": "markdown",
      "metadata": {
        "id": "TuJT6vE_jIfq"
      },
      "source": [
        "By default, the boxplot doesn't show the mean of your variable. You can choose to display the mean:"
      ]
    },
    {
      "cell_type": "code",
      "metadata": {
        "colab": {
          "base_uri": "https://localhost:8080/",
          "height": 265
        },
        "id": "CSLb89CLjfRe",
        "outputId": "8e7efef1-3a52-4b4d-d82c-cb2617fae61c"
      },
      "source": [
        "plt.boxplot(x = tips_df[\"total_bill\"], vert = False, showmeans = True)\n",
        "plt.show()"
      ],
      "execution_count": null,
      "outputs": [
        {
          "output_type": "display_data",
          "data": {
            "text/plain": [
              "<Figure size 432x288 with 1 Axes>"
            ],
            "image/png": "[encoded data removed]"
          },
          "metadata": {
            "needs_background": "light"
          }
        }
      ]
    },
    {
      "cell_type": "markdown",
      "metadata": {
        "id": "APKj8_ejlPYN"
      },
      "source": [
        "Displaying the mean makes it easier for you to interpret the skew of the variable. In this example, since the mean is higher than the median, it means that the variable is right skewed. If the mean is lower than the median, it means that the variable is left skewed. If they're equal, it means the variable doesn't have a skew (the histogram will be symmetric)."
      ]
    },
    {
      "cell_type": "markdown",
      "metadata": {
        "id": "EGtYhPm7kHMj"
      },
      "source": [
        "Check out [this website](https://matplotlib.org/stable/api/_as_gen/matplotlib.pyplot.boxplot.html) for a full list of arguments you can specify for the boxplot function."
      ]
    },
    {
      "cell_type": "markdown",
      "metadata": {
        "id": "rSL1SKNJkT5z"
      },
      "source": [
        "**Question 6:**\n",
        "\n",
        "- Create a boxplot for the variable you chose in question 5 (display the mean).\n",
        "- How is the variable skewed? How can you tell by looking at the boxplot?"
      ]
    },
    {
      "cell_type": "code",
      "source": [
        "plt.boxplot(x = tips_df[\"tip\"], showmeans = True)\n",
        "plt.show()\n",
        "\n",
        "#Since mean is higher than median, the variable tip is right skewed."
      ],
      "metadata": {
        "colab": {
          "base_uri": "https://localhost:8080/",
          "height": 265
        },
        "id": "PI7bZA4njChS",
        "outputId": "2c62afaf-1ce6-4808-8fe9-352464594d56"
      },
      "execution_count": null,
      "outputs": [
        {
          "output_type": "display_data",
          "data": {
            "text/plain": [
              "<Figure size 432x288 with 1 Axes>"
            ],
            "image/png": "[encoded data removed]"
          },
          "metadata": {
            "needs_background": "light"
          }
        }
      ]
    },
    {
      "cell_type": "markdown",
      "metadata": {
        "id": "FSWmKD6za3Gi"
      },
      "source": [
        "### **Scatter Plot**\n",
        "\n",
        "Scatter plots are used for visualizing the relationship between two numerical variables, another really important plot for statistics. More technically, scatter plots visualize the correlation between two numerical variables which gives you a sense of how one variable changes with respect to the other.\n",
        "\n",
        "Say we wanted to see how tips paid change with respect to the total bill. "
      ]
    },
    {
      "cell_type": "code",
      "metadata": {
        "colab": {
          "base_uri": "https://localhost:8080/",
          "height": 265
        },
        "id": "fVxJrON4eJyx",
        "outputId": "68da8564-65c4-4d82-902e-96c0ea559a5e"
      },
      "source": [
        "plt.scatter(x = tips_df[\"total_bill\"], y = tips_df[\"tip\"])\n",
        "plt.show()"
      ],
      "execution_count": null,
      "outputs": [
        {
          "output_type": "display_data",
          "data": {
            "text/plain": [
              "<Figure size 432x288 with 1 Axes>"
            ],
            "image/png": "[encoded data removed]"
          },
          "metadata": {
            "needs_background": "light"
          }
        }
      ]
    },
    {
      "cell_type": "markdown",
      "metadata": {
        "id": "bTnq3EYig0_-"
      },
      "source": [
        "This scatter plot shows a somewhat strong positive correlation between the total bill and tips paid. This makes sense as people generally tip as a percentage of the total bill (mainly for smaller values of the bill)."
      ]
    },
    {
      "cell_type": "markdown",
      "metadata": {
        "id": "pKzFxyyvgdQT"
      },
      "source": [
        "You can change the defaults of the scatter plot (full list of arguments [here](https://matplotlib.org/stable/api/_as_gen/matplotlib.pyplot.scatter.html)):"
      ]
    },
    {
      "cell_type": "code",
      "metadata": {
        "colab": {
          "base_uri": "https://localhost:8080/",
          "height": 265
        },
        "id": "tl9-Q0tJgrlv",
        "outputId": "09955a47-2212-43f0-a170-a2546863bf77"
      },
      "source": [
        "plt.scatter(x = tips_df[\"total_bill\"], y = tips_df[\"tip\"], s = 10, c = \"orange\", marker = \"s\", alpha = 0.4)\n",
        "plt.show() "
      ],
      "execution_count": null,
      "outputs": [
        {
          "output_type": "display_data",
          "data": {
            "text/plain": [
              "<Figure size 432x288 with 1 Axes>"
            ],
            "image/png": "[encoded data removed]"
          },
          "metadata": {
            "needs_background": "light"
          }
        }
      ]
    },
    {
      "cell_type": "markdown",
      "metadata": {
        "id": "3FJJ8t6ShKkG"
      },
      "source": [
        "**Question 7:**\n",
        "\n",
        "- Pick 2 other numerical variables whose relationship you're interested in. Create a scatter plot to visualize them.\n",
        "- What does the scatter plot tell you about the relationship between the variables? Does it make sense?"
      ]
    },
    {
      "cell_type": "code",
      "source": [
        "plt.scatter(x = tips_df[\"size\"], y = tips_df[\"tip\"], s = 10, c = \"pink\", marker = \"s\", alpha = 0.4)\n",
        "plt.show() "
      ],
      "metadata": {
        "colab": {
          "base_uri": "https://localhost:8080/",
          "height": 265
        },
        "id": "G9toLZBnk9yL",
        "outputId": "976f148d-a7ed-458f-ce2f-81cdac542935"
      },
      "execution_count": null,
      "outputs": [
        {
          "output_type": "display_data",
          "data": {
            "text/plain": [
              "<Figure size 432x288 with 1 Axes>"
            ],
            "image/png": "[encoded data removed]"
          },
          "metadata": {
            "needs_background": "light"
          }
        }
      ]
    },
    {
      "cell_type": "markdown",
      "metadata": {
        "id": "DguuRursnLkS"
      },
      "source": [
        "## **More Features**\n",
        "\n",
        "Matplotlib allows you to add more features to your graphs such as axis labels and titles. Here, we'll be talking about 6 functions but you can check out [this link](https://matplotlib.org/stable/api/pyplot_summary.html) for the full list of Pyplot functions:\n",
        "\n",
        "- `plt.xlabel(“name”)`: Adds a label to the x-axis\n",
        "- `plt.ylabel(“name”)`: Adds a label to the y-axis\n",
        "- `plt.title(“name”)`: Adds a title to your graph\n",
        "- `plt.grid(True)`: Adds a grid to your graph (Must be before the follow 2 functions)\n",
        "- `plt.figure(figsize = (8, 10))`: Specifies the length and width of your graph\n",
        "- `plt.show()`: Removes unnecessary text and only shows you the graph"
      ]
    },
    {
      "cell_type": "code",
      "metadata": {
        "colab": {
          "base_uri": "https://localhost:8080/",
          "height": 279
        },
        "id": "hGjlFzS6oxV9",
        "outputId": "456a640f-3241-4c56-fd5b-7040bba46c7b"
      },
      "source": [
        "plt.hist(x = tips_df[\"total_bill\"], bins = np.arange(0, 55, 5), density = True, color = \"purple\")\n",
        "#X-axis label\n",
        "plt.xlabel(\"Total Bill\")\n",
        "plt.show()"
      ],
      "execution_count": null,
      "outputs": [
        {
          "output_type": "display_data",
          "data": {
            "text/plain": [
              "<Figure size 432x288 with 1 Axes>"
            ],
            "image/png": "[encoded data removed]"
          },
          "metadata": {
            "needs_background": "light"
          }
        }
      ]
    },
    {
      "cell_type": "code",
      "metadata": {
        "colab": {
          "base_uri": "https://localhost:8080/",
          "height": 279
        },
        "id": "CKyMN83jo840",
        "outputId": "925ad511-0111-43a3-a127-bc64b2e4fcfd"
      },
      "source": [
        "plt.hist(x = tips_df[\"total_bill\"], bins = np.arange(0, 55, 5), density = True, color = \"purple\")\n",
        "plt.xlabel(\"Total Bill\")\n",
        "#Y-axis label\n",
        "plt.ylabel(\"Density\")\n",
        "plt.show()"
      ],
      "execution_count": null,
      "outputs": [
        {
          "output_type": "display_data",
          "data": {
            "text/plain": [
              "<Figure size 432x288 with 1 Axes>"
            ],
            "image/png": "[encoded data removed]"
          },
          "metadata": {
            "needs_background": "light"
          }
        }
      ]
    },
    {
      "cell_type": "code",
      "metadata": {
        "colab": {
          "base_uri": "https://localhost:8080/",
          "height": 295
        },
        "id": "_DpUhtIRpBte",
        "outputId": "5aeb3994-8cf4-4a3b-fb02-71886dff6de5"
      },
      "source": [
        "plt.hist(x = tips_df[\"total_bill\"], bins = np.arange(0, 55, 5), density = True, color = \"purple\")\n",
        "plt.xlabel(\"Total Bill\")\n",
        "plt.ylabel(\"Density\")\n",
        "#Title\n",
        "plt.title(\"Density Histogram for Total Bill\")\n",
        "plt.show()"
      ],
      "execution_count": null,
      "outputs": [
        {
          "output_type": "display_data",
          "data": {
            "text/plain": [
              "<Figure size 432x288 with 1 Axes>"
            ],
            "image/png": "[encoded data removed]"
          },
          "metadata": {
            "needs_background": "light"
          }
        }
      ]
    },
    {
      "cell_type": "code",
      "metadata": {
        "colab": {
          "base_uri": "https://localhost:8080/",
          "height": 313
        },
        "id": "lWBTAfzXpU_5",
        "outputId": "475ec149-6af8-48e2-9e4f-558e27c03c13"
      },
      "source": [
        "plt.hist(x = tips_df[\"total_bill\"], bins = np.arange(0, 55, 5), density = True, color = \"purple\")\n",
        "plt.xlabel(\"Total Bill\")\n",
        "plt.ylabel(\"Density\")\n",
        "plt.title(\"Density Histogram for Total Bill\")\n",
        "#Changing the dimensions of the graph - first one is height and second one is width\n",
        "plt.figure(figsize = (8, 11))\n",
        "plt.show()"
      ],
      "execution_count": null,
      "outputs": [
        {
          "output_type": "display_data",
          "data": {
            "text/plain": [
              "<Figure size 432x288 with 1 Axes>"
            ],
            "image/png": "[encoded data removed]"
          },
          "metadata": {
            "needs_background": "light"
          }
        },
        {
          "output_type": "display_data",
          "data": {
            "text/plain": [
              "<Figure size 576x792 with 0 Axes>"
            ]
          },
          "metadata": {}
        }
      ]
    },
    {
      "cell_type": "code",
      "metadata": {
        "colab": {
          "base_uri": "https://localhost:8080/",
          "height": 676
        },
        "id": "UlNn1L5DpmCK",
        "outputId": "93b33d49-1944-4065-f93b-361371e70c59"
      },
      "source": [
        "plt.figure(figsize = (8, 11))\n",
        "plt.hist(x = tips_df[\"total_bill\"], bins = np.arange(0, 55, 5), density = True, color = \"purple\")\n",
        "plt.xlabel(\"Total Bill\")\n",
        "plt.ylabel(\"Density\")\n",
        "plt.title(\"Density Histogram for Total Bill\")\n",
        "#Adding a grid\n",
        "plt.grid(True)\n",
        "plt.show()"
      ],
      "execution_count": null,
      "outputs": [
        {
          "output_type": "display_data",
          "data": {
            "text/plain": [
              "<Figure size 576x792 with 1 Axes>"
            ],
            "image/png": "[encoded data removed]"
          },
          "metadata": {
            "needs_background": "light"
          }
        }
      ]
    },
    {
      "cell_type": "markdown",
      "metadata": {
        "id": "sYZEMFJ6p6aG"
      },
      "source": [
        "Note that you must call the plt.grid() function before you call the plt.figure() function (try calling it after and see what happens)."
      ]
    },
    {
      "cell_type": "markdown",
      "metadata": {
        "id": "yZcnexR1qE0A"
      },
      "source": [
        "We have used the plt.show() function every graph to remove unnecessary text and avoid cluttering the graph. This is what happens when you don't use plt.show():"
      ]
    },
    {
      "cell_type": "code",
      "metadata": {
        "colab": {
          "base_uri": "https://localhost:8080/",
          "height": 338
        },
        "id": "9qmgWJUIp5HT",
        "outputId": "e6279e62-9c1d-408b-f8b1-a742c0911553"
      },
      "source": [
        "plt.hist(x = tips_df[\"total_bill\"], bins = np.arange(0, 55, 5), density = True, color = \"purple\")"
      ],
      "execution_count": null,
      "outputs": [
        {
          "output_type": "execute_result",
          "data": {
            "text/plain": [
              "(array([0.00082305, 0.01316872, 0.05185185, 0.05514403, 0.03374486,\n",
              "        0.01975309, 0.01316872, 0.00493827, 0.00411523, 0.00329218]),\n",
              " array([ 0,  5, 10, 15, 20, 25, 30, 35, 40, 45, 50]),\n",
              " <a list of 10 Patch objects>)"
            ]
          },
          "metadata": {},
          "execution_count": 39
        },
        {
          "output_type": "display_data",
          "data": {
            "text/plain": [
              "<Figure size 432x288 with 1 Axes>"
            ],
            "image/png": "[encoded data removed]"
          },
          "metadata": {
            "needs_background": "light"
          }
        }
      ]
    },
    {
      "cell_type": "markdown",
      "metadata": {
        "id": "GIDPfSM_qiwh"
      },
      "source": [
        "Python is giving you arrays of the intervals and their corresponding frequency densities. This may be useful to show in some situations but if you want to focus on the graph, you can remove it by calling plt.show(). It must always be called after all the other functions."
      ]
    },
    {
      "cell_type": "markdown",
      "metadata": {
        "id": "Aloh3w4j53W3"
      },
      "source": [
        "We've only scracthed the surface of data visualization using Matplotlib so I encourage you to check out the links to additional resources to learn more!"
      ]
    },
    {
      "cell_type": "markdown",
      "metadata": {
        "id": "CYBXktwxuluy"
      },
      "source": [
        "# **Resources**\n",
        "\n",
        "1. [Official Matplotlib Documentation](https://matplotlib.org/)\n",
        "2. [Sample Graphs in Matplotlib](https://matplotlib.org/stable/gallery/index.html)"
      ]
    },
    {
      "cell_type": "markdown",
      "metadata": {
        "id": "VDFujZ626Caz"
      },
      "source": [
        "# **Project Tasks**\n",
        "\n",
        "1. We can use data visualization to further explore the project datasets. Create the following visualizations and write up a brief analysis on each (2-3 sentences). Talk about what the visualization shows (any trends/patterns) and anything else you find interesting.\n",
        "\n",
        "  - From the COVID-19 All Vaccines Tweets dataset:\n",
        "\n",
        "    - Boxplot of user followers\n",
        "\n",
        "    - Bar chart of date (may have to do some additional research for this)\n",
        "\n",
        "    - Scatter plot of retweets and favorites\n",
        "\n",
        "  - From the COVID-19 World Vaccination Progress dataset:\n",
        "\n",
        "    - Bar chart of the top 10 countries with the highest average daily vaccinations (total daily vaccinations, not per million)\n",
        "\n",
        "    - Pick 2 countries and filter the dataset so that it only has data on these 2 countries. Create a histogram for the people_vaccinated column for each country and compare them. Bonus points if you create overlapping histograms (you have to do additional research for this)!\n",
        "\n",
        "    - Line chart to show how daily vaccinations per million changed over time for a country of your choice\n",
        "\n",
        "2. Come up with 3 more ideas for visualizations and create them. Like for the previous question, include a brief 2-3 sentence analysis. You can come up with any idea you like – you can even combine the 2 datasets."
      ]
    },
    {
      "cell_type": "markdown",
      "metadata": {
        "id": "fYfyM0R2upBz"
      },
      "source": [
        "# Written by Vaidehi Bulusu (Edited by Akira)\n",
        "\n",
        "---"
      ]
    },
    {
      "cell_type": "code",
      "source": [
        "tweets_df = pd.read_csv(\"vaccination_all_tweets.csv\")\n",
        "tweets_df.head(5)"
      ],
      "metadata": {
        "id": "-46DGBx78h3K",
        "colab": {
          "base_uri": "https://localhost:8080/",
          "height": 565
        },
        "outputId": "baba8201-f0f9-49d9-d388-df831c346e09"
      },
      "execution_count": null,
      "outputs": [
        {
          "output_type": "execute_result",
          "data": {
            "text/plain": [
              "                    id             user_name              user_location  \\\n",
              "0  1340539111971516416            Rachel Roh  La Crescenta-Montrose, CA   \n",
              "1  1338158543359250433           Albert Fong          San Francisco, CA   \n",
              "2  1337858199140118533              eli🇱🇹🇪🇺👌                   Your Bed   \n",
              "3  1337855739918835717         Charles Adler     Vancouver, BC - Canada   \n",
              "4  1337854064604966912  Citizen News Channel                        NaN   \n",
              "\n",
              "                                    user_description         user_created  \\\n",
              "0  Aggregator of Asian American news; scanning di...  2009-04-08 17:52:46   \n",
              "1  Marketing dude, tech geek, heavy metal & '80s ...  2009-09-21 15:27:30   \n",
              "2                                     heil, hydra 🖐☺  2020-06-25 23:30:28   \n",
              "3  Hosting \"CharlesAdlerTonight\" Global News Radi...  2008-09-10 11:28:53   \n",
              "4  Citizen News Channel bringing you an alternati...  2020-04-23 17:58:42   \n",
              "\n",
              "   user_followers  user_friends  user_favourites  user_verified  \\\n",
              "0             405          1692             3247          False   \n",
              "1             834           666              178          False   \n",
              "2              10            88              155          False   \n",
              "3           49165          3933            21853           True   \n",
              "4             152           580             1473          False   \n",
              "\n",
              "                  date                                               text  \\\n",
              "0  2020-12-20 06:06:44  Same folks said daikon paste could treat a cyt...   \n",
              "1  2020-12-13 16:27:13  While the world has been on the wrong side of ...   \n",
              "2  2020-12-12 20:33:45  #coronavirus #SputnikV #AstraZeneca #PfizerBio...   \n",
              "3  2020-12-12 20:23:59  Facts are immutable, Senator, even when you're...   \n",
              "4  2020-12-12 20:17:19  Explain to me again why we need a vaccine @Bor...   \n",
              "\n",
              "                                            hashtags               source  \\\n",
              "0                                 ['PfizerBioNTech']  Twitter for Android   \n",
              "1                                                NaN      Twitter Web App   \n",
              "2  ['coronavirus', 'SputnikV', 'AstraZeneca', 'Pf...  Twitter for Android   \n",
              "3                                                NaN      Twitter Web App   \n",
              "4     ['whereareallthesickpeople', 'PfizerBioNTech']   Twitter for iPhone   \n",
              "\n",
              "   retweets  favorites  is_retweet  \n",
              "0         0          0       False  \n",
              "1         1          1       False  \n",
              "2         0          0       False  \n",
              "3       446       2129       False  \n",
              "4         0          0       False  "
            ],
            "text/html": [
              "\n",
              "  <div id=\"df-9f76462c-95f2-4b2a-bc4f-c1b37e2cc569\">\n",
              "    <div class=\"colab-df-container\">\n",
              "      <div>\n",
              "<style scoped>\n",
              "    .dataframe tbody tr th:only-of-type {\n",
              "        vertical-align: middle;\n",
              "    }\n",
              "\n",
              "    .dataframe tbody tr th {\n",
              "        vertical-align: top;\n",
              "    }\n",
              "\n",
              "    .dataframe thead th {\n",
              "        text-align: right;\n",
              "    }\n",
              "</style>\n",
              "<table border=\"1\" class=\"dataframe\">\n",
              "  <thead>\n",
              "    <tr style=\"text-align: right;\">\n",
              "      <th></th>\n",
              "      <th>id</th>\n",
              "      <th>user_name</th>\n",
              "      <th>user_location</th>\n",
              "      <th>user_description</th>\n",
              "      <th>user_created</th>\n",
              "      <th>user_followers</th>\n",
              "      <th>user_friends</th>\n",
              "      <th>user_favourites</th>\n",
              "      <th>user_verified</th>\n",
              "      <th>date</th>\n",
              "      <th>text</th>\n",
              "      <th>hashtags</th>\n",
              "      <th>source</th>\n",
              "      <th>retweets</th>\n",
              "      <th>favorites</th>\n",
              "      <th>is_retweet</th>\n",
              "    </tr>\n",
              "  </thead>\n",
              "  <tbody>\n",
              "    <tr>\n",
              "      <th>0</th>\n",
              "      <td>1340539111971516416</td>\n",
              "      <td>Rachel Roh</td>\n",
              "      <td>La Crescenta-Montrose, CA</td>\n",
              "      <td>Aggregator of Asian American news; scanning di...</td>\n",
              "      <td>2009-04-08 17:52:46</td>\n",
              "      <td>405</td>\n",
              "      <td>1692</td>\n",
              "      <td>3247</td>\n",
              "      <td>False</td>\n",
              "      <td>2020-12-20 06:06:44</td>\n",
              "      <td>Same folks said daikon paste could treat a cyt...</td>\n",
              "      <td>['PfizerBioNTech']</td>\n",
              "      <td>Twitter for Android</td>\n",
              "      <td>0</td>\n",
              "      <td>0</td>\n",
              "      <td>False</td>\n",
              "    </tr>\n",
              "    <tr>\n",
              "      <th>1</th>\n",
              "      <td>1338158543359250433</td>\n",
              "      <td>Albert Fong</td>\n",
              "      <td>San Francisco, CA</td>\n",
              "      <td>Marketing dude, tech geek, heavy metal &amp; '80s ...</td>\n",
              "      <td>2009-09-21 15:27:30</td>\n",
              "      <td>834</td>\n",
              "      <td>666</td>\n",
              "      <td>178</td>\n",
              "      <td>False</td>\n",
              "      <td>2020-12-13 16:27:13</td>\n",
              "      <td>While the world has been on the wrong side of ...</td>\n",
              "      <td>NaN</td>\n",
              "      <td>Twitter Web App</td>\n",
              "      <td>1</td>\n",
              "      <td>1</td>\n",
              "      <td>False</td>\n",
              "    </tr>\n",
              "    <tr>\n",
              "      <th>2</th>\n",
              "      <td>1337858199140118533</td>\n",
              "      <td>eli🇱🇹🇪🇺👌</td>\n",
              "      <td>Your Bed</td>\n",
              "      <td>heil, hydra 🖐☺</td>\n",
              "      <td>2020-06-25 23:30:28</td>\n",
              "      <td>10</td>\n",
              "      <td>88</td>\n",
              "      <td>155</td>\n",
              "      <td>False</td>\n",
              "      <td>2020-12-12 20:33:45</td>\n",
              "      <td>#coronavirus #SputnikV #AstraZeneca #PfizerBio...</td>\n",
              "      <td>['coronavirus', 'SputnikV', 'AstraZeneca', 'Pf...</td>\n",
              "      <td>Twitter for Android</td>\n",
              "      <td>0</td>\n",
              "      <td>0</td>\n",
              "      <td>False</td>\n",
              "    </tr>\n",
              "    <tr>\n",
              "      <th>3</th>\n",
              "      <td>1337855739918835717</td>\n",
              "      <td>Charles Adler</td>\n",
              "      <td>Vancouver, BC - Canada</td>\n",
              "      <td>Hosting \"CharlesAdlerTonight\" Global News Radi...</td>\n",
              "      <td>2008-09-10 11:28:53</td>\n",
              "      <td>49165</td>\n",
              "      <td>3933</td>\n",
              "      <td>21853</td>\n",
              "      <td>True</td>\n",
              "      <td>2020-12-12 20:23:59</td>\n",
              "      <td>Facts are immutable, Senator, even when you're...</td>\n",
              "      <td>NaN</td>\n",
              "      <td>Twitter Web App</td>\n",
              "      <td>446</td>\n",
              "      <td>2129</td>\n",
              "      <td>False</td>\n",
              "    </tr>\n",
              "    <tr>\n",
              "      <th>4</th>\n",
              "      <td>1337854064604966912</td>\n",
              "      <td>Citizen News Channel</td>\n",
              "      <td>NaN</td>\n",
              "      <td>Citizen News Channel bringing you an alternati...</td>\n",
              "      <td>2020-04-23 17:58:42</td>\n",
              "      <td>152</td>\n",
              "      <td>580</td>\n",
              "      <td>1473</td>\n",
              "      <td>False</td>\n",
              "      <td>2020-12-12 20:17:19</td>\n",
              "      <td>Explain to me again why we need a vaccine @Bor...</td>\n",
              "      <td>['whereareallthesickpeople', 'PfizerBioNTech']</td>\n",
              "      <td>Twitter for iPhone</td>\n",
              "      <td>0</td>\n",
              "      <td>0</td>\n",
              "      <td>False</td>\n",
              "    </tr>\n",
              "  </tbody>\n",
              "</table>\n",
              "</div>\n",
              "      <button class=\"colab-df-convert\" onclick=\"convertToInteractive('df-9f76462c-95f2-4b2a-bc4f-c1b37e2cc569')\"\n",
              "              title=\"Convert this dataframe to an interactive table.\"\n",
              "              style=\"display:none;\">\n",
              "        \n",
              "  <svg xmlns=\"http://www.w3.org/2000/svg\" height=\"24px\"viewBox=\"0 0 24 24\"\n",
              "       width=\"24px\">\n",
              "    <path d=\"M0 0h24v24H0V0z\" fill=\"none\"/>\n",
              "    <path d=\"M18.56 5.44l.94 2.06.94-2.06 2.06-.94-2.06-.94-.94-2.06-.94 2.06-2.06.94zm-11 1L8.5 8.5l.94-2.06 2.06-.94-2.06-.94L8.5 2.5l-.94 2.06-2.06.94zm10 10l.94 2.06.94-2.06 2.06-.94-2.06-.94-.94-2.06-.94 2.06-2.06.94z\"/><path d=\"M17.41 7.96l-1.37-1.37c-.4-.4-.92-.59-1.43-.59-.52 0-1.04.2-1.43.59L10.3 9.45l-7.72 7.72c-.78.78-.78 2.05 0 2.83L4 21.41c.39.39.9.59 1.41.59.51 0 1.02-.2 1.41-.59l7.78-7.78 2.81-2.81c.8-.78.8-2.07 0-2.86zM5.41 20L4 18.59l7.72-7.72 1.47 1.35L5.41 20z\"/>\n",
              "  </svg>\n",
              "      </button>\n",
              "      \n",
              "  <style>\n",
              "    .colab-df-container {\n",
              "      display:flex;\n",
              "      flex-wrap:wrap;\n",
              "      gap: 12px;\n",
              "    }\n",
              "\n",
              "    .colab-df-convert {\n",
              "      background-color: #E8F0FE;\n",
              "      border: none;\n",
              "      border-radius: 50%;\n",
              "      cursor: pointer;\n",
              "      display: none;\n",
              "      fill: #1967D2;\n",
              "      height: 32px;\n",
              "      padding: 0 0 0 0;\n",
              "      width: 32px;\n",
              "    }\n",
              "\n",
              "    .colab-df-convert:hover {\n",
              "      background-color: #E2EBFA;\n",
              "      box-shadow: 0px 1px 2px rgba(60, 64, 67, 0.3), 0px 1px 3px 1px rgba(60, 64, 67, 0.15);\n",
              "      fill: #174EA6;\n",
              "    }\n",
              "\n",
              "    [theme=dark] .colab-df-convert {\n",
              "      background-color: #3B4455;\n",
              "      fill: #D2E3FC;\n",
              "    }\n",
              "\n",
              "    [theme=dark] .colab-df-convert:hover {\n",
              "      background-color: #434B5C;\n",
              "      box-shadow: 0px 1px 3px 1px rgba(0, 0, 0, 0.15);\n",
              "      filter: drop-shadow(0px 1px 2px rgba(0, 0, 0, 0.3));\n",
              "      fill: #FFFFFF;\n",
              "    }\n",
              "  </style>\n",
              "\n",
              "      <script>\n",
              "        const buttonEl =\n",
              "          document.querySelector('#df-9f76462c-95f2-4b2a-bc4f-c1b37e2cc569 button.colab-df-convert');\n",
              "        buttonEl.style.display =\n",
              "          google.colab.kernel.accessAllowed ? 'block' : 'none';\n",
              "\n",
              "        async function convertToInteractive(key) {\n",
              "          const element = document.querySelector('#df-9f76462c-95f2-4b2a-bc4f-c1b37e2cc569');\n",
              "          const dataTable =\n",
              "            await google.colab.kernel.invokeFunction('convertToInteractive',\n",
              "                                                     [key], {});\n",
              "          if (!dataTable) return;\n",
              "\n",
              "          const docLinkHtml = 'Like what you see? Visit the ' +\n",
              "            '<a target=\"_blank\" href=https://colab.research.google.com/notebooks/data_table.ipynb>data table notebook</a>'\n",
              "            + ' to learn more about interactive tables.';\n",
              "          element.innerHTML = '';\n",
              "          dataTable['output_type'] = 'display_data';\n",
              "          await google.colab.output.renderOutput(dataTable, element);\n",
              "          const docLink = document.createElement('div');\n",
              "          docLink.innerHTML = docLinkHtml;\n",
              "          element.appendChild(docLink);\n",
              "        }\n",
              "      </script>\n",
              "    </div>\n",
              "  </div>\n",
              "  "
            ]
          },
          "metadata": {},
          "execution_count": 40
        }
      ]
    },
    {
      "cell_type": "code",
      "source": [
        "plt.boxplot(x = tweets_df[\"user_followers\"], showmeans = True)\n",
        "plt.show()\n",
        "\n",
        "#As it has too many data, boxplot doesn't seem effective."
      ],
      "metadata": {
        "colab": {
          "base_uri": "https://localhost:8080/",
          "height": 276
        },
        "id": "DY2LRgXqrUae",
        "outputId": "488fc671-a0f6-4d99-9189-3ab991a4741e"
      },
      "execution_count": null,
      "outputs": [
        {
          "output_type": "display_data",
          "data": {
            "text/plain": [
              "<Figure size 432x288 with 1 Axes>"
            ],
            "image/png": "[encoded data removed]"
          },
          "metadata": {
            "needs_background": "light"
          }
        }
      ]
    },
    {
      "cell_type": "code",
      "source": [
        "plt.scatter(x = tweets_df[\"retweets\"], y = tweets_df[\"favorites\"], s = 20, c = \"orange\", marker = \"s\", alpha = 1)\n",
        "plt.ylim(0, 20000)\n",
        "plt.xlim(0,3000)\n",
        "plt.show() \n",
        "\n",
        "#It's quite interesting the graph is densed at the left. I expected likes would increase as retweets increase, since it means that user is active on twitter.\n",
        "#But the graph doesn't show a strong linear relationship. "
      ],
      "metadata": {
        "colab": {
          "base_uri": "https://localhost:8080/",
          "height": 269
        },
        "id": "CD_VL6e_d2E2",
        "outputId": "64a33af5-47ce-4115-c995-213c5bdc7eb8"
      },
      "execution_count": null,
      "outputs": [
        {
          "output_type": "display_data",
          "data": {
            "text/plain": [
              "<Figure size 432x288 with 1 Axes>"
            ],
            "image/png": "[encoded data removed]"
          },
          "metadata": {
            "needs_background": "light"
          }
        }
      ]
    },
    {
      "cell_type": "code",
      "source": [
        "vac_df = pd.read_csv(\"country_vaccinations.csv\")\n",
        "vac_df.head(5)\n",
        "\n",
        "#Line chart to show how daily vaccinations per million changed over time for a country of your choice"
      ],
      "metadata": {
        "colab": {
          "base_uri": "https://localhost:8080/",
          "height": 444
        },
        "id": "Rn3yW3T_VXhp",
        "outputId": "3a84e525-56f5-436b-c2c6-6dc89f06048f"
      },
      "execution_count": null,
      "outputs": [
        {
          "output_type": "execute_result",
          "data": {
            "text/plain": [
              "       country iso_code        date  total_vaccinations  people_vaccinated  \\\n",
              "0  Afghanistan      AFG  2021-02-22                 0.0                0.0   \n",
              "1  Afghanistan      AFG  2021-02-23                 NaN                NaN   \n",
              "2  Afghanistan      AFG  2021-02-24                 NaN                NaN   \n",
              "3  Afghanistan      AFG  2021-02-25                 NaN                NaN   \n",
              "4  Afghanistan      AFG  2021-02-26                 NaN                NaN   \n",
              "\n",
              "   people_fully_vaccinated  daily_vaccinations_raw  daily_vaccinations  \\\n",
              "0                      NaN                     NaN                 NaN   \n",
              "1                      NaN                     NaN              1367.0   \n",
              "2                      NaN                     NaN              1367.0   \n",
              "3                      NaN                     NaN              1367.0   \n",
              "4                      NaN                     NaN              1367.0   \n",
              "\n",
              "   total_vaccinations_per_hundred  people_vaccinated_per_hundred  \\\n",
              "0                             0.0                            0.0   \n",
              "1                             NaN                            NaN   \n",
              "2                             NaN                            NaN   \n",
              "3                             NaN                            NaN   \n",
              "4                             NaN                            NaN   \n",
              "\n",
              "   people_fully_vaccinated_per_hundred  daily_vaccinations_per_million  \\\n",
              "0                                  NaN                             NaN   \n",
              "1                                  NaN                            34.0   \n",
              "2                                  NaN                            34.0   \n",
              "3                                  NaN                            34.0   \n",
              "4                                  NaN                            34.0   \n",
              "\n",
              "                                            vaccines  \\\n",
              "0  Johnson&Johnson, Oxford/AstraZeneca, Pfizer/Bi...   \n",
              "1  Johnson&Johnson, Oxford/AstraZeneca, Pfizer/Bi...   \n",
              "2  Johnson&Johnson, Oxford/AstraZeneca, Pfizer/Bi...   \n",
              "3  Johnson&Johnson, Oxford/AstraZeneca, Pfizer/Bi...   \n",
              "4  Johnson&Johnson, Oxford/AstraZeneca, Pfizer/Bi...   \n",
              "\n",
              "                 source_name            source_website  \n",
              "0  World Health Organization  https://covid19.who.int/  \n",
              "1  World Health Organization  https://covid19.who.int/  \n",
              "2  World Health Organization  https://covid19.who.int/  \n",
              "3  World Health Organization  https://covid19.who.int/  \n",
              "4  World Health Organization  https://covid19.who.int/  "
            ],
            "text/html": [
              "\n",
              "  <div id=\"df-734f7618-17c6-4600-a6d8-7979d6cd1ac9\">\n",
              "    <div class=\"colab-df-container\">\n",
              "      <div>\n",
              "<style scoped>\n",
              "    .dataframe tbody tr th:only-of-type {\n",
              "        vertical-align: middle;\n",
              "    }\n",
              "\n",
              "    .dataframe tbody tr th {\n",
              "        vertical-align: top;\n",
              "    }\n",
              "\n",
              "    .dataframe thead th {\n",
              "        text-align: right;\n",
              "    }\n",
              "</style>\n",
              "<table border=\"1\" class=\"dataframe\">\n",
              "  <thead>\n",
              "    <tr style=\"text-align: right;\">\n",
              "      <th></th>\n",
              "      <th>country</th>\n",
              "      <th>iso_code</th>\n",
              "      <th>date</th>\n",
              "      <th>total_vaccinations</th>\n",
              "      <th>people_vaccinated</th>\n",
              "      <th>people_fully_vaccinated</th>\n",
              "      <th>daily_vaccinations_raw</th>\n",
              "      <th>daily_vaccinations</th>\n",
              "      <th>total_vaccinations_per_hundred</th>\n",
              "      <th>people_vaccinated_per_hundred</th>\n",
              "      <th>people_fully_vaccinated_per_hundred</th>\n",
              "      <th>daily_vaccinations_per_million</th>\n",
              "      <th>vaccines</th>\n",
              "      <th>source_name</th>\n",
              "      <th>source_website</th>\n",
              "    </tr>\n",
              "  </thead>\n",
              "  <tbody>\n",
              "    <tr>\n",
              "      <th>0</th>\n",
              "      <td>Afghanistan</td>\n",
              "      <td>AFG</td>\n",
              "      <td>2021-02-22</td>\n",
              "      <td>0.0</td>\n",
              "      <td>0.0</td>\n",
              "      <td>NaN</td>\n",
              "      <td>NaN</td>\n",
              "      <td>NaN</td>\n",
              "      <td>0.0</td>\n",
              "      <td>0.0</td>\n",
              "      <td>NaN</td>\n",
              "      <td>NaN</td>\n",
              "      <td>Johnson&amp;Johnson, Oxford/AstraZeneca, Pfizer/Bi...</td>\n",
              "      <td>World Health Organization</td>\n",
              "      <td>https://covid19.who.int/</td>\n",
              "    </tr>\n",
              "    <tr>\n",
              "      <th>1</th>\n",
              "      <td>Afghanistan</td>\n",
              "      <td>AFG</td>\n",
              "      <td>2021-02-23</td>\n",
              "      <td>NaN</td>\n",
              "      <td>NaN</td>\n",
              "      <td>NaN</td>\n",
              "      <td>NaN</td>\n",
              "      <td>1367.0</td>\n",
              "      <td>NaN</td>\n",
              "      <td>NaN</td>\n",
              "      <td>NaN</td>\n",
              "      <td>34.0</td>\n",
              "      <td>Johnson&amp;Johnson, Oxford/AstraZeneca, Pfizer/Bi...</td>\n",
              "      <td>World Health Organization</td>\n",
              "      <td>https://covid19.who.int/</td>\n",
              "    </tr>\n",
              "    <tr>\n",
              "      <th>2</th>\n",
              "      <td>Afghanistan</td>\n",
              "      <td>AFG</td>\n",
              "      <td>2021-02-24</td>\n",
              "      <td>NaN</td>\n",
              "      <td>NaN</td>\n",
              "      <td>NaN</td>\n",
              "      <td>NaN</td>\n",
              "      <td>1367.0</td>\n",
              "      <td>NaN</td>\n",
              "      <td>NaN</td>\n",
              "      <td>NaN</td>\n",
              "      <td>34.0</td>\n",
              "      <td>Johnson&amp;Johnson, Oxford/AstraZeneca, Pfizer/Bi...</td>\n",
              "      <td>World Health Organization</td>\n",
              "      <td>https://covid19.who.int/</td>\n",
              "    </tr>\n",
              "    <tr>\n",
              "      <th>3</th>\n",
              "      <td>Afghanistan</td>\n",
              "      <td>AFG</td>\n",
              "      <td>2021-02-25</td>\n",
              "      <td>NaN</td>\n",
              "      <td>NaN</td>\n",
              "      <td>NaN</td>\n",
              "      <td>NaN</td>\n",
              "      <td>1367.0</td>\n",
              "      <td>NaN</td>\n",
              "      <td>NaN</td>\n",
              "      <td>NaN</td>\n",
              "      <td>34.0</td>\n",
              "      <td>Johnson&amp;Johnson, Oxford/AstraZeneca, Pfizer/Bi...</td>\n",
              "      <td>World Health Organization</td>\n",
              "      <td>https://covid19.who.int/</td>\n",
              "    </tr>\n",
              "    <tr>\n",
              "      <th>4</th>\n",
              "      <td>Afghanistan</td>\n",
              "      <td>AFG</td>\n",
              "      <td>2021-02-26</td>\n",
              "      <td>NaN</td>\n",
              "      <td>NaN</td>\n",
              "      <td>NaN</td>\n",
              "      <td>NaN</td>\n",
              "      <td>1367.0</td>\n",
              "      <td>NaN</td>\n",
              "      <td>NaN</td>\n",
              "      <td>NaN</td>\n",
              "      <td>34.0</td>\n",
              "      <td>Johnson&amp;Johnson, Oxford/AstraZeneca, Pfizer/Bi...</td>\n",
              "      <td>World Health Organization</td>\n",
              "      <td>https://covid19.who.int/</td>\n",
              "    </tr>\n",
              "  </tbody>\n",
              "</table>\n",
              "</div>\n",
              "      <button class=\"colab-df-convert\" onclick=\"convertToInteractive('df-734f7618-17c6-4600-a6d8-7979d6cd1ac9')\"\n",
              "              title=\"Convert this dataframe to an interactive table.\"\n",
              "              style=\"display:none;\">\n",
              "        \n",
              "  <svg xmlns=\"http://www.w3.org/2000/svg\" height=\"24px\"viewBox=\"0 0 24 24\"\n",
              "       width=\"24px\">\n",
              "    <path d=\"M0 0h24v24H0V0z\" fill=\"none\"/>\n",
              "    <path d=\"M18.56 5.44l.94 2.06.94-2.06 2.06-.94-2.06-.94-.94-2.06-.94 2.06-2.06.94zm-11 1L8.5 8.5l.94-2.06 2.06-.94-2.06-.94L8.5 2.5l-.94 2.06-2.06.94zm10 10l.94 2.06.94-2.06 2.06-.94-2.06-.94-.94-2.06-.94 2.06-2.06.94z\"/><path d=\"M17.41 7.96l-1.37-1.37c-.4-.4-.92-.59-1.43-.59-.52 0-1.04.2-1.43.59L10.3 9.45l-7.72 7.72c-.78.78-.78 2.05 0 2.83L4 21.41c.39.39.9.59 1.41.59.51 0 1.02-.2 1.41-.59l7.78-7.78 2.81-2.81c.8-.78.8-2.07 0-2.86zM5.41 20L4 18.59l7.72-7.72 1.47 1.35L5.41 20z\"/>\n",
              "  </svg>\n",
              "      </button>\n",
              "      \n",
              "  <style>\n",
              "    .colab-df-container {\n",
              "      display:flex;\n",
              "      flex-wrap:wrap;\n",
              "      gap: 12px;\n",
              "    }\n",
              "\n",
              "    .colab-df-convert {\n",
              "      background-color: #E8F0FE;\n",
              "      border: none;\n",
              "      border-radius: 50%;\n",
              "      cursor: pointer;\n",
              "      display: none;\n",
              "      fill: #1967D2;\n",
              "      height: 32px;\n",
              "      padding: 0 0 0 0;\n",
              "      width: 32px;\n",
              "    }\n",
              "\n",
              "    .colab-df-convert:hover {\n",
              "      background-color: #E2EBFA;\n",
              "      box-shadow: 0px 1px 2px rgba(60, 64, 67, 0.3), 0px 1px 3px 1px rgba(60, 64, 67, 0.15);\n",
              "      fill: #174EA6;\n",
              "    }\n",
              "\n",
              "    [theme=dark] .colab-df-convert {\n",
              "      background-color: #3B4455;\n",
              "      fill: #D2E3FC;\n",
              "    }\n",
              "\n",
              "    [theme=dark] .colab-df-convert:hover {\n",
              "      background-color: #434B5C;\n",
              "      box-shadow: 0px 1px 3px 1px rgba(0, 0, 0, 0.15);\n",
              "      filter: drop-shadow(0px 1px 2px rgba(0, 0, 0, 0.3));\n",
              "      fill: #FFFFFF;\n",
              "    }\n",
              "  </style>\n",
              "\n",
              "      <script>\n",
              "        const buttonEl =\n",
              "          document.querySelector('#df-734f7618-17c6-4600-a6d8-7979d6cd1ac9 button.colab-df-convert');\n",
              "        buttonEl.style.display =\n",
              "          google.colab.kernel.accessAllowed ? 'block' : 'none';\n",
              "\n",
              "        async function convertToInteractive(key) {\n",
              "          const element = document.querySelector('#df-734f7618-17c6-4600-a6d8-7979d6cd1ac9');\n",
              "          const dataTable =\n",
              "            await google.colab.kernel.invokeFunction('convertToInteractive',\n",
              "                                                     [key], {});\n",
              "          if (!dataTable) return;\n",
              "\n",
              "          const docLinkHtml = 'Like what you see? Visit the ' +\n",
              "            '<a target=\"_blank\" href=https://colab.research.google.com/notebooks/data_table.ipynb>data table notebook</a>'\n",
              "            + ' to learn more about interactive tables.';\n",
              "          element.innerHTML = '';\n",
              "          dataTable['output_type'] = 'display_data';\n",
              "          await google.colab.output.renderOutput(dataTable, element);\n",
              "          const docLink = document.createElement('div');\n",
              "          docLink.innerHTML = docLinkHtml;\n",
              "          element.appendChild(docLink);\n",
              "        }\n",
              "      </script>\n",
              "    </div>\n",
              "  </div>\n",
              "  "
            ]
          },
          "metadata": {},
          "execution_count": 43
        }
      ]
    },
    {
      "cell_type": "code",
      "source": [
        "country = vac_df.groupby(\"country\").mean()\n",
        "avgvac = country[\"daily_vaccinations\"]\n",
        "avgten = avgvac.sort_values(ascending = False)[0:11]\n",
        "avgten_value = avgten.index\n",
        "\n",
        "print(avgten)\n",
        "plt.bar(height = avgten, x = avgten_value)\n",
        "\n",
        "# It seems reasonable, as the average number of daily vaccination highly relies on the population of the country.\n",
        "# It therefore shows high populated country has high number of daily vaccinations."
      ],
      "metadata": {
        "colab": {
          "base_uri": "https://localhost:8080/",
          "height": 531
        },
        "id": "T9Vt37oVYdaW",
        "outputId": "531c85a6-e042-46e1-9309-9ab1c4b17f61"
      },
      "execution_count": null,
      "outputs": [
        {
          "output_type": "stream",
          "name": "stdout",
          "text": [
            "country\n",
            "China            6.930368e+06\n",
            "India            4.175994e+06\n",
            "United States    1.191727e+06\n",
            "Brazil           9.435287e+05\n",
            "Indonesia        8.462893e+05\n",
            "Japan            6.215795e+05\n",
            "Bangladesh       5.453055e+05\n",
            "Pakistan         5.430051e+05\n",
            "Vietnam          5.310949e+05\n",
            "Mexico           4.134253e+05\n",
            "Germany          3.761575e+05\n",
            "Name: daily_vaccinations, dtype: float64\n"
          ]
        },
        {
          "output_type": "execute_result",
          "data": {
            "text/plain": [
              "<BarContainer object of 11 artists>"
            ]
          },
          "metadata": {},
          "execution_count": 44
        },
        {
          "output_type": "display_data",
          "data": {
            "text/plain": [
              "<Figure size 432x288 with 1 Axes>"
            ],
            "image/png": "[encoded data removed]"
          },
          "metadata": {
            "needs_background": "light"
          }
        }
      ]
    },
    {
      "cell_type": "code",
      "source": [
        "#Create a histogram for the people_vaccinated column for each country and compare them.\n",
        "newvac = vac_df.loc[vac_df[\"country\"].isin([\"China\", \"United States\"])]\n",
        "chinanewvac = newvac[newvac[\"country\"] == \"China\"]\n",
        "plt.hist(x = chinanewvac[\"people_vaccinated\"].dropna(), color = \"pink\")\n",
        "plt.show()\n",
        "\n",
        "usnewvac = newvac[newvac[\"country\"] == \"United States\"]\n",
        "plt.hist(x = usnewvac[\"people_vaccinated\"].dropna(), color = \"lightblue\")\n",
        "plt.show()\n",
        "\n",
        "#It's interesting that although China has #1 daily vaccination and the US is ranked on 3rd, their x and y axis show quite a large difference."
      ],
      "metadata": {
        "colab": {
          "base_uri": "https://localhost:8080/",
          "height": 539
        },
        "id": "rQgHiTnCaEM9",
        "outputId": "250545a8-953f-4fee-de8f-10dff227e0ea"
      },
      "execution_count": null,
      "outputs": [
        {
          "output_type": "display_data",
          "data": {
            "text/plain": [
              "<Figure size 432x288 with 1 Axes>"
            ],
            "image/png": "[encoded data removed]"
          },
          "metadata": {
            "needs_background": "light"
          }
        },
        {
          "output_type": "display_data",
          "data": {
            "text/plain": [
              "<Figure size 432x288 with 1 Axes>"
            ],
            "image/png": "[encoded data removed]"
          },
          "metadata": {
            "needs_background": "light"
          }
        }
      ]
    },
    {
      "cell_type": "code",
      "source": [
        "#Line chart to show how daily vaccinations per million changed over time for a country of your choice\n",
        "plt.plot(chinanewvac[\"people_vaccinated\"].dropna(), chinanewvac[\"people_vaccinated\"].dropna().index, color = \"red\", marker = \"x\", linestyle = \"dotted\")\n",
        "plt.show()\n",
        "\n",
        "plt.plot(usnewvac[\"people_vaccinated\"].dropna(), usnewvac[\"people_vaccinated\"].dropna().index, color = \"blue\", linestyle = \"dotted\")\n",
        "plt.show()\n",
        "\n",
        "#The graph itself has similar shape, rising sharply from the point of 2/3. But again, as they have different x and y axis, we can't simply compare only with the shape of the graph."
      ],
      "metadata": {
        "colab": {
          "base_uri": "https://localhost:8080/",
          "height": 539
        },
        "id": "DTsXYwfVfVe8",
        "outputId": "039cf146-32b6-4183-94bc-2330615c2a98"
      },
      "execution_count": null,
      "outputs": [
        {
          "output_type": "display_data",
          "data": {
            "text/plain": [
              "<Figure size 432x288 with 1 Axes>"
            ],
            "image/png": "[encoded data removed]"
          },
          "metadata": {
            "needs_background": "light"
          }
        },
        {
          "output_type": "display_data",
          "data": {
            "text/plain": [
              "<Figure size 432x288 with 1 Axes>"
            ],
            "image/png": "[encoded data removed]"
          },
          "metadata": {
            "needs_background": "light"
          }
        }
      ]
    },
    {
      "cell_type": "code",
      "source": [
        "vac_df_manu = pd.read_csv(\"country_vaccinations_by_manufacturer.csv\")\n",
        "vac_df_manu.head(5)"
      ],
      "metadata": {
        "colab": {
          "base_uri": "https://localhost:8080/",
          "height": 206
        },
        "id": "5zuVuBE4mizf",
        "outputId": "1ec491ce-8ea8-46bf-afda-412f09257e69"
      },
      "execution_count": null,
      "outputs": [
        {
          "output_type": "execute_result",
          "data": {
            "text/plain": [
              "    location        date             vaccine  total_vaccinations\n",
              "0  Argentina  2020-12-29             Moderna                   2\n",
              "1  Argentina  2020-12-29  Oxford/AstraZeneca                   3\n",
              "2  Argentina  2020-12-29   Sinopharm/Beijing                   1\n",
              "3  Argentina  2020-12-29           Sputnik V               20481\n",
              "4  Argentina  2020-12-30             Moderna                   2"
            ],
            "text/html": [
              "\n",
              "  <div id=\"df-4bf6097f-a9ca-467a-8801-89a135f15f5d\">\n",
              "    <div class=\"colab-df-container\">\n",
              "      <div>\n",
              "<style scoped>\n",
              "    .dataframe tbody tr th:only-of-type {\n",
              "        vertical-align: middle;\n",
              "    }\n",
              "\n",
              "    .dataframe tbody tr th {\n",
              "        vertical-align: top;\n",
              "    }\n",
              "\n",
              "    .dataframe thead th {\n",
              "        text-align: right;\n",
              "    }\n",
              "</style>\n",
              "<table border=\"1\" class=\"dataframe\">\n",
              "  <thead>\n",
              "    <tr style=\"text-align: right;\">\n",
              "      <th></th>\n",
              "      <th>location</th>\n",
              "      <th>date</th>\n",
              "      <th>vaccine</th>\n",
              "      <th>total_vaccinations</th>\n",
              "    </tr>\n",
              "  </thead>\n",
              "  <tbody>\n",
              "    <tr>\n",
              "      <th>0</th>\n",
              "      <td>Argentina</td>\n",
              "      <td>2020-12-29</td>\n",
              "      <td>Moderna</td>\n",
              "      <td>2</td>\n",
              "    </tr>\n",
              "    <tr>\n",
              "      <th>1</th>\n",
              "      <td>Argentina</td>\n",
              "      <td>2020-12-29</td>\n",
              "      <td>Oxford/AstraZeneca</td>\n",
              "      <td>3</td>\n",
              "    </tr>\n",
              "    <tr>\n",
              "      <th>2</th>\n",
              "      <td>Argentina</td>\n",
              "      <td>2020-12-29</td>\n",
              "      <td>Sinopharm/Beijing</td>\n",
              "      <td>1</td>\n",
              "    </tr>\n",
              "    <tr>\n",
              "      <th>3</th>\n",
              "      <td>Argentina</td>\n",
              "      <td>2020-12-29</td>\n",
              "      <td>Sputnik V</td>\n",
              "      <td>20481</td>\n",
              "    </tr>\n",
              "    <tr>\n",
              "      <th>4</th>\n",
              "      <td>Argentina</td>\n",
              "      <td>2020-12-30</td>\n",
              "      <td>Moderna</td>\n",
              "      <td>2</td>\n",
              "    </tr>\n",
              "  </tbody>\n",
              "</table>\n",
              "</div>\n",
              "      <button class=\"colab-df-convert\" onclick=\"convertToInteractive('df-4bf6097f-a9ca-467a-8801-89a135f15f5d')\"\n",
              "              title=\"Convert this dataframe to an interactive table.\"\n",
              "              style=\"display:none;\">\n",
              "        \n",
              "  <svg xmlns=\"http://www.w3.org/2000/svg\" height=\"24px\"viewBox=\"0 0 24 24\"\n",
              "       width=\"24px\">\n",
              "    <path d=\"M0 0h24v24H0V0z\" fill=\"none\"/>\n",
              "    <path d=\"M18.56 5.44l.94 2.06.94-2.06 2.06-.94-2.06-.94-.94-2.06-.94 2.06-2.06.94zm-11 1L8.5 8.5l.94-2.06 2.06-.94-2.06-.94L8.5 2.5l-.94 2.06-2.06.94zm10 10l.94 2.06.94-2.06 2.06-.94-2.06-.94-.94-2.06-.94 2.06-2.06.94z\"/><path d=\"M17.41 7.96l-1.37-1.37c-.4-.4-.92-.59-1.43-.59-.52 0-1.04.2-1.43.59L10.3 9.45l-7.72 7.72c-.78.78-.78 2.05 0 2.83L4 21.41c.39.39.9.59 1.41.59.51 0 1.02-.2 1.41-.59l7.78-7.78 2.81-2.81c.8-.78.8-2.07 0-2.86zM5.41 20L4 18.59l7.72-7.72 1.47 1.35L5.41 20z\"/>\n",
              "  </svg>\n",
              "      </button>\n",
              "      \n",
              "  <style>\n",
              "    .colab-df-container {\n",
              "      display:flex;\n",
              "      flex-wrap:wrap;\n",
              "      gap: 12px;\n",
              "    }\n",
              "\n",
              "    .colab-df-convert {\n",
              "      background-color: #E8F0FE;\n",
              "      border: none;\n",
              "      border-radius: 50%;\n",
              "      cursor: pointer;\n",
              "      display: none;\n",
              "      fill: #1967D2;\n",
              "      height: 32px;\n",
              "      padding: 0 0 0 0;\n",
              "      width: 32px;\n",
              "    }\n",
              "\n",
              "    .colab-df-convert:hover {\n",
              "      background-color: #E2EBFA;\n",
              "      box-shadow: 0px 1px 2px rgba(60, 64, 67, 0.3), 0px 1px 3px 1px rgba(60, 64, 67, 0.15);\n",
              "      fill: #174EA6;\n",
              "    }\n",
              "\n",
              "    [theme=dark] .colab-df-convert {\n",
              "      background-color: #3B4455;\n",
              "      fill: #D2E3FC;\n",
              "    }\n",
              "\n",
              "    [theme=dark] .colab-df-convert:hover {\n",
              "      background-color: #434B5C;\n",
              "      box-shadow: 0px 1px 3px 1px rgba(0, 0, 0, 0.15);\n",
              "      filter: drop-shadow(0px 1px 2px rgba(0, 0, 0, 0.3));\n",
              "      fill: #FFFFFF;\n",
              "    }\n",
              "  </style>\n",
              "\n",
              "      <script>\n",
              "        const buttonEl =\n",
              "          document.querySelector('#df-4bf6097f-a9ca-467a-8801-89a135f15f5d button.colab-df-convert');\n",
              "        buttonEl.style.display =\n",
              "          google.colab.kernel.accessAllowed ? 'block' : 'none';\n",
              "\n",
              "        async function convertToInteractive(key) {\n",
              "          const element = document.querySelector('#df-4bf6097f-a9ca-467a-8801-89a135f15f5d');\n",
              "          const dataTable =\n",
              "            await google.colab.kernel.invokeFunction('convertToInteractive',\n",
              "                                                     [key], {});\n",
              "          if (!dataTable) return;\n",
              "\n",
              "          const docLinkHtml = 'Like what you see? Visit the ' +\n",
              "            '<a target=\"_blank\" href=https://colab.research.google.com/notebooks/data_table.ipynb>data table notebook</a>'\n",
              "            + ' to learn more about interactive tables.';\n",
              "          element.innerHTML = '';\n",
              "          dataTable['output_type'] = 'display_data';\n",
              "          await google.colab.output.renderOutput(dataTable, element);\n",
              "          const docLink = document.createElement('div');\n",
              "          docLink.innerHTML = docLinkHtml;\n",
              "          element.appendChild(docLink);\n",
              "        }\n",
              "      </script>\n",
              "    </div>\n",
              "  </div>\n",
              "  "
            ]
          },
          "metadata": {},
          "execution_count": 47
        }
      ]
    },
    {
      "cell_type": "code",
      "source": [
        "#1. see top 10 countries having high daily vaccination per million. It therefore prevents the rank follow the world population rank. \n",
        "# But.... it doesn't seem useful to analyze.\n",
        "country = vac_df.groupby(\"country\").mean()\n",
        "avgvac_million = country[\"daily_vaccinations_per_million\"]\n",
        "topten = avgvac_million.sort_values(ascending = False)[0:11]\n",
        "topten_value = topten.index\n",
        "\n",
        "print(topten)\n",
        "plt.bar(height = topten, x = topten_value)"
      ],
      "metadata": {
        "colab": {
          "base_uri": "https://localhost:8080/",
          "height": 520
        },
        "id": "qDaHkiKYnSXA",
        "outputId": "91567655-492c-4bde-fd1f-21d82c73a64a"
      },
      "execution_count": null,
      "outputs": [
        {
          "output_type": "stream",
          "name": "stdout",
          "text": [
            "country\n",
            "Falkland Islands                   21185.393939\n",
            "Saint Helena                       13915.164835\n",
            "Tokelau                            12718.106195\n",
            "Pitcairn                           10891.797619\n",
            "Niue                               10109.509434\n",
            "Cuba                                9955.943333\n",
            "Gibraltar                           8000.463470\n",
            "Bonaire Sint Eustatius and Saba     7412.000000\n",
            "Bhutan                              7241.676880\n",
            "Brunei                              6906.782857\n",
            "Turkmenistan                        6618.888889\n",
            "Name: daily_vaccinations_per_million, dtype: float64\n"
          ]
        },
        {
          "output_type": "execute_result",
          "data": {
            "text/plain": [
              "<BarContainer object of 11 artists>"
            ]
          },
          "metadata": {},
          "execution_count": 48
        },
        {
          "output_type": "display_data",
          "data": {
            "text/plain": [
              "<Figure size 432x288 with 1 Axes>"
            ],
            "image/png": "[encoded data removed]"
          },
          "metadata": {
            "needs_background": "light"
          }
        }
      ]
    },
    {
      "cell_type": "code",
      "source": [
        "#2. Then, see the relationship between tatal vaccinations and people fully vaccinated by countries.\n",
        "plt.scatter(x = country[\"total_vaccinations\"].dropna(), y = country[\"people_fully_vaccinated\"].dropna(), s = 20, c = \"orange\", marker = \"s\", alpha = 1)\n",
        "plt.show() \n",
        "# I expected it to show a clear linear regression... hmm..."
      ],
      "metadata": {
        "colab": {
          "base_uri": "https://localhost:8080/",
          "height": 289
        },
        "id": "vDzCeryLnSdU",
        "outputId": "8ddbac17-0f22-4ef2-8ad6-a6efb20c6e09"
      },
      "execution_count": null,
      "outputs": [
        {
          "output_type": "display_data",
          "data": {
            "text/plain": [
              "<Figure size 432x288 with 1 Axes>"
            ],
            "image/png": "[encoded data removed]"
          },
          "metadata": {
            "needs_background": "light"
          }
        }
      ]
    },
    {
      "cell_type": "code",
      "source": [
        "#3. how does total vaccination changed based on the date\n",
        "datevac = vac_df.groupby(\"date\").sum()\n",
        "totalvac_date = datevac[\"total_vaccinations\"]\n",
        "sort_total = totalvac_date.sort_values(ascending = False)[0:11]\n",
        "value_total = sort_total.index\n",
        "print(sort_total)\n",
        "plt.plot(value_total, sort_total, color = \"blue\", linestyle = \"dotted\")\n",
        "plt.show()\n",
        "\n",
        "#By seeing top 10 values, we can find out that most of the vaccinations are adopted from February to March."
      ],
      "metadata": {
        "colab": {
          "base_uri": "https://localhost:8080/",
          "height": 513
        },
        "id": "iYTi-h5fqQSk",
        "outputId": "5aab088f-c74d-4c99-b0b2-93badf2d4ef5"
      },
      "execution_count": null,
      "outputs": [
        {
          "output_type": "stream",
          "name": "stdout",
          "text": [
            "date\n",
            "2022-03-09    9.922995e+09\n",
            "2022-03-10    9.797025e+09\n",
            "2022-02-13    9.762979e+09\n",
            "2022-02-28    9.761023e+09\n",
            "2022-03-08    9.743663e+09\n",
            "2022-02-21    9.736738e+09\n",
            "2022-03-23    9.698694e+09\n",
            "2022-03-22    9.681895e+09\n",
            "2022-03-07    9.649427e+09\n",
            "2022-03-21    9.562207e+09\n",
            "2022-02-09    9.561952e+09\n",
            "Name: total_vaccinations, dtype: float64\n"
          ]
        },
        {
          "output_type": "display_data",
          "data": {
            "text/plain": [
              "<Figure size 432x288 with 1 Axes>"
            ],
            "image/png": "[encoded data removed]"
          },
          "metadata": {
            "needs_background": "light"
          }
        }
      ]
    }
  ]
}