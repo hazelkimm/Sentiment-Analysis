{
  "nbformat": 4,
  "nbformat_minor": 0,
  "metadata": {
    "colab": {
      "provenance": [],
      "include_colab_link": true
    },
    "kernelspec": {
      "name": "python3",
      "display_name": "Python 3"
    },
    "language_info": {
      "name": "python"
    }
  },
  "cells": [
    {
      "cell_type": "markdown",
      "metadata": {
        "id": "view-in-github",
        "colab_type": "text"
      },
      "source": [
        "<a href=\"https://colab.research.google.com/github/hazelkimm/Sentiment-Analysis/blob/main/Hazel_Lab_3_Sentiment_Analysis_in_TextBlob.ipynb\" target=\"_parent\"><img src=\"https://colab.research.google.com/assets/colab-badge.svg\" alt=\"Open In Colab\"/></a>"
      ]
    },
    {
      "cell_type": "markdown",
      "metadata": {
        "id": "JZgHzpbw8Gj2"
      },
      "source": [
        "We're finally getting started with the sentiment analysis part of the project! In this lab, we'll be talk a little bit about natural language processing, focusing on sentiment analysis, and go over a tutorial on using TextBlob for performing sentiment analysis in Python.\n",
        "\n",
        "# **Natural Language Processing**\n",
        "\n",
        "Natural language processing is a subfield of artificial intelligence that deals with how machines process natural human language. The goal of NLP algorithms is to help computers understand and draw insights from human language.\n",
        "\n",
        "## **Applications of NLP Algorithms**\n",
        "\n",
        "NLP algorithms are incredibly useful as they can go through large amounts of information and extract insights from them. They have a variety of applications, including:\n",
        "\n",
        "- Fake news classifier\n",
        "\n",
        "- Autocorrect and autocomplete\n",
        "\n",
        "- Translation programs (like Google Translate)\n",
        "\n",
        "- Voice assistants\n",
        "\n",
        "- Spam filters\n",
        "\n",
        "- Diagnosing Alzheimer's by monitoring speech impairments\n",
        "\n",
        "- Chatbot therapy\n",
        "\n",
        "## **Types of NLP Techniques**\n",
        "\n",
        "Here's an overview of some commonly-used techniques in NLP:\n",
        "\n",
        "- **Bag of Words:** This basically counts the occurrence of each word in a text. The word frequencies can then be used to train a model, like a classifier (you might recognize this from DATA 8!).\n",
        "\n",
        "- **Stemming:** Stemming refers to removing the affixes of a word to get its stem. For example, \"helping\" is converted to \"help\" and \"learner\" is converted to \"learn\". Doing this improves the speed and performance of algorithms.\n",
        "\n",
        "- **Named Entity Recognition:** This involves identifying and classifying proper nouns (e.g. as a place, person, etc.).\n",
        "\n",
        "- **Topic Modelling:** This is a text mining technique used for discovering the topics that appear in documents.\n",
        "\n",
        "- **Sentiment Analysis:** This technique is used for identifying and classifying subjective information in text, such as the emotion or polarity.\n",
        "\n",
        "Let's take a closer look at sentiment analysis as that is the technique we will be using for our project."
      ]
    },
    {
      "cell_type": "markdown",
      "metadata": {
        "id": "mPCVyl8LXo2w"
      },
      "source": [
        "# **Sentiment Analysis**\n",
        "\n",
        "Essentially, sentiment analysis is a classifier that looks at a piece of text, analyzes patterns in the words, and classifies the text into a category of sentiment (e.g. positive or negative).\n",
        "\n",
        "## **Applications of Sentiment Analysis**\n",
        "\n",
        "Sentiment analysis has a lot of interesting applications such as:\n",
        "\n",
        "- **Identifying investor sentiment:** For example, CNN publishes the [Fear and Greed Index](https://money.cnn.com/data/fear-and-greed/) to measure the extent to which stock market investors are driven by green and fear.\n",
        "\n",
        "- **Idenitfying consumer sentiment:** Businesses use sentiment analysis to identify how their consumers (and the public in general) feel about their products and services. For example, they may apply sentiment analysis on Amazon product reviews to gauge whether they typically get positive or negative reviews. In general, sentiment analysis is widely used on voice of the consumer materials.\n",
        "\n",
        "- **Identifying sentiments towards a new policy/reform:** Some papers have conducted sentiment analysis on tweets about a new government policy or reform to understand how the public feels about it.\n",
        "\n",
        "You will be doing something similar for the final project, where you will perform sentiment analysis on tweets about the COVID-19 vaccination to gauge sentiments towards it. Governments may be interested in this kind of analysis as it could help them identify the level of support for the vaccination in different regions. The tweets can also be analyzed along with political data to see if the political leaning of a state is correlation with a paritcular type of sentiment.\n",
        "\n",
        "## **Types of Sentiment Analysis Algorithms**\n",
        "\n",
        "- **Rule-based approach:** A simple approach for performing sentiment analysis is a rule-based approach in which the algorithm analyzes the sentiment in a text based on a set of predefined rules. For example, you can define \"awesome,\" \"great,\" and \"interesting\" as corresponding to positive sentiments so when the sentiment analysis algorithm encouters high occurrences of these words in a text, it would classify the overall sentiment as positive.\n",
        "\n",
        "  While this approach is simple to implement, the downside is that it eliminates complexity and nuance from the analysis.\n",
        "\n",
        "- **Statistical models:** A more sophisticated type of sentiment analysis algorithms are statistical models that use machine learning techniques. This involves training the model on a large amount of training data then applying it on testing data.\n",
        "\n",
        "- **Hybrid models:** Hybrid models use a combination of rule-based and statistical techniques to create more accurate sentiment analysis algorithms.\n",
        "\n",
        "## **TextBlob**\n",
        "\n",
        "Python offers various pakacges for performing sentiment analysis (a popular one is NLTK). We will be using a beginner-friendly package called TextBlob for our analysis. Apart from sentiment analysis, TextBlob allows you to perform a variety of other NLP tasks such as noun phrase extraction, part-of-speech tagging and tokenization.\n",
        "\n",
        "TextBlob performs sentiment analysis across 2 dimensions: polarity and subjectivity. Polarity is a measure of positive/negative sentiment contained in the text. It is measured on a scale of -1 to 1 where 1 corresponds to extremely positive and -1 corresponds to extremely negative. Subjectivity is a measure of the amount of factual/subjective information in the text and is measured on a scale of 0 to 1, 1 being extremely subjective and 0 being completely objective."
      ]
    },
    {
      "cell_type": "markdown",
      "metadata": {
        "id": "BR1DSSEvtA_F"
      },
      "source": [
        "### **Tutorial**\n",
        "\n",
        "Below, we will be going over a tutorial on using TextBlob to perform sentiment analysis on YouTube comments. Let's start by importing some packages.\n",
        "\n",
        "This tutorial is adapted from [this Kaggle notebook](https://www.kaggle.com/adepvenugopal/sentiment-analysis-of-youtube-comments/notebook)."
      ]
    },
    {
      "cell_type": "code",
      "metadata": {
        "id": "J6gHk3_yobFW"
      },
      "source": [
        "import pandas as pd\n",
        "import numpy as np\n",
        "import matplotlib.pyplot as plt\n",
        "import seaborn as sns\n",
        "from textblob import TextBlob\n",
        "import warnings\n",
        "warnings.filterwarnings(\"ignore\")"
      ],
      "execution_count": null,
      "outputs": []
    },
    {
      "cell_type": "markdown",
      "metadata": {
        "id": "beJWGTXcoqpG"
      },
      "source": [
        "**TextBlob Example**\n",
        "\n",
        "Here's an example of anlayzing sentiment using TextBlob:"
      ]
    },
    {
      "cell_type": "code",
      "metadata": {
        "colab": {
          "base_uri": "https://localhost:8080/"
        },
        "id": "v5qHMn3to-fm",
        "outputId": "9d884c2c-0bb2-492e-8ff9-741efad437db"
      },
      "source": [
        "TextBlob(\"We loved the movie!\").sentiment"
      ],
      "execution_count": null,
      "outputs": [
        {
          "output_type": "execute_result",
          "data": {
            "text/plain": [
              "Sentiment(polarity=0.875, subjectivity=0.8)"
            ]
          },
          "metadata": {},
          "execution_count": 2
        }
      ]
    },
    {
      "cell_type": "markdown",
      "metadata": {
        "id": "osDOIc7wpIYB"
      },
      "source": [
        "The sentence has high polarity as well as subjectivity as it's very clearly expressing a positive sentiment. Consider a more neutral statement:"
      ]
    },
    {
      "cell_type": "code",
      "metadata": {
        "colab": {
          "base_uri": "https://localhost:8080/"
        },
        "id": "SGK38lZ8p-9B",
        "outputId": "4631be17-0966-4fe6-e6f4-1057402db147"
      },
      "source": [
        "TextBlob(\"I don't know.\").sentiment"
      ],
      "execution_count": null,
      "outputs": [
        {
          "output_type": "execute_result",
          "data": {
            "text/plain": [
              "Sentiment(polarity=0.0, subjectivity=0.0)"
            ]
          },
          "metadata": {},
          "execution_count": 3
        }
      ]
    },
    {
      "cell_type": "markdown",
      "metadata": {
        "id": "y_KTnJ59qVes"
      },
      "source": [
        "**YouTube Comments Dataset**\n",
        "\n",
        "Now let's import the comments dataset:"
      ]
    },
    {
      "cell_type": "code",
      "metadata": {
        "colab": {
          "base_uri": "https://localhost:8080/"
        },
        "id": "jQjOiXj4qZmM",
        "outputId": "68c57881-7a5c-4ffa-85b0-82fc0bf04bd5"
      },
      "source": [
        "from google.colab import drive\n",
        "drive.mount('/content/drive')"
      ],
      "execution_count": null,
      "outputs": [
        {
          "output_type": "stream",
          "name": "stdout",
          "text": [
            "Mounted at /content/drive\n"
          ]
        }
      ]
    },
    {
      "cell_type": "markdown",
      "metadata": {
        "id": "r2Y3ROk-sRqQ"
      },
      "source": [
        "To get the file path of the dataset, click on the Files icon from the side bar and go to the [DataGood project folder](https://drive.google.com/drive/u/0/folders/1XNXTSXFQbA4lEtkmS1nhmlm73b-54YQY). Open Datasets and click on the 3 vertical dots next to `UScomments.csv` to copy the file path."
      ]
    },
    {
      "cell_type": "code",
      "metadata": {
        "colab": {
          "base_uri": "https://localhost:8080/",
          "height": 341
        },
        "id": "ET1UuZzqrPRD",
        "outputId": "f12dc332-fa51-4335-b930-1f712bca874c"
      },
      "source": [
        "path = \"/content/drive/MyDrive/Copy of UScomments.csv\"\n",
        "yt_comments = pd.read_csv(path, encoding='utf8',error_bad_lines=False)"
      ],
      "execution_count": null,
      "outputs": [
        {
          "output_type": "error",
          "ename": "FileNotFoundError",
          "evalue": "ignored",
          "traceback": [
            "\u001b[0;31m---------------------------------------------------------------------------\u001b[0m",
            "\u001b[0;31mFileNotFoundError\u001b[0m                         Traceback (most recent call last)",
            "\u001b[0;32m<ipython-input-5-b9cec480e1e9>\u001b[0m in \u001b[0;36m<module>\u001b[0;34m\u001b[0m\n\u001b[1;32m      1\u001b[0m \u001b[0mpath\u001b[0m \u001b[0;34m=\u001b[0m \u001b[0;34m\"/content/drive/MyDrive/Copy of UScomments.csv\"\u001b[0m\u001b[0;34m\u001b[0m\u001b[0;34m\u001b[0m\u001b[0m\n\u001b[0;32m----> 2\u001b[0;31m \u001b[0myt_comments\u001b[0m \u001b[0;34m=\u001b[0m \u001b[0mpd\u001b[0m\u001b[0;34m.\u001b[0m\u001b[0mread_csv\u001b[0m\u001b[0;34m(\u001b[0m\u001b[0mpath\u001b[0m\u001b[0;34m,\u001b[0m \u001b[0mencoding\u001b[0m\u001b[0;34m=\u001b[0m\u001b[0;34m'utf8'\u001b[0m\u001b[0;34m,\u001b[0m\u001b[0merror_bad_lines\u001b[0m\u001b[0;34m=\u001b[0m\u001b[0;32mFalse\u001b[0m\u001b[0;34m)\u001b[0m\u001b[0;34m\u001b[0m\u001b[0;34m\u001b[0m\u001b[0m\n\u001b[0m",
            "\u001b[0;32m/usr/local/lib/python3.7/dist-packages/pandas/util/_decorators.py\u001b[0m in \u001b[0;36mwrapper\u001b[0;34m(*args, **kwargs)\u001b[0m\n\u001b[1;32m    309\u001b[0m                     \u001b[0mstacklevel\u001b[0m\u001b[0;34m=\u001b[0m\u001b[0mstacklevel\u001b[0m\u001b[0;34m,\u001b[0m\u001b[0;34m\u001b[0m\u001b[0;34m\u001b[0m\u001b[0m\n\u001b[1;32m    310\u001b[0m                 )\n\u001b[0;32m--> 311\u001b[0;31m             \u001b[0;32mreturn\u001b[0m \u001b[0mfunc\u001b[0m\u001b[0;34m(\u001b[0m\u001b[0;34m*\u001b[0m\u001b[0margs\u001b[0m\u001b[0;34m,\u001b[0m \u001b[0;34m**\u001b[0m\u001b[0mkwargs\u001b[0m\u001b[0;34m)\u001b[0m\u001b[0;34m\u001b[0m\u001b[0;34m\u001b[0m\u001b[0m\n\u001b[0m\u001b[1;32m    312\u001b[0m \u001b[0;34m\u001b[0m\u001b[0m\n\u001b[1;32m    313\u001b[0m         \u001b[0;32mreturn\u001b[0m \u001b[0mwrapper\u001b[0m\u001b[0;34m\u001b[0m\u001b[0;34m\u001b[0m\u001b[0m\n",
            "\u001b[0;32m/usr/local/lib/python3.7/dist-packages/pandas/io/parsers/readers.py\u001b[0m in \u001b[0;36mread_csv\u001b[0;34m(filepath_or_buffer, sep, delimiter, header, names, index_col, usecols, squeeze, prefix, mangle_dupe_cols, dtype, engine, converters, true_values, false_values, skipinitialspace, skiprows, skipfooter, nrows, na_values, keep_default_na, na_filter, verbose, skip_blank_lines, parse_dates, infer_datetime_format, keep_date_col, date_parser, dayfirst, cache_dates, iterator, chunksize, compression, thousands, decimal, lineterminator, quotechar, quoting, doublequote, escapechar, comment, encoding, encoding_errors, dialect, error_bad_lines, warn_bad_lines, on_bad_lines, delim_whitespace, low_memory, memory_map, float_precision, storage_options)\u001b[0m\n\u001b[1;32m    584\u001b[0m     \u001b[0mkwds\u001b[0m\u001b[0;34m.\u001b[0m\u001b[0mupdate\u001b[0m\u001b[0;34m(\u001b[0m\u001b[0mkwds_defaults\u001b[0m\u001b[0;34m)\u001b[0m\u001b[0;34m\u001b[0m\u001b[0;34m\u001b[0m\u001b[0m\n\u001b[1;32m    585\u001b[0m \u001b[0;34m\u001b[0m\u001b[0m\n\u001b[0;32m--> 586\u001b[0;31m     \u001b[0;32mreturn\u001b[0m \u001b[0m_read\u001b[0m\u001b[0;34m(\u001b[0m\u001b[0mfilepath_or_buffer\u001b[0m\u001b[0;34m,\u001b[0m \u001b[0mkwds\u001b[0m\u001b[0;34m)\u001b[0m\u001b[0;34m\u001b[0m\u001b[0;34m\u001b[0m\u001b[0m\n\u001b[0m\u001b[1;32m    587\u001b[0m \u001b[0;34m\u001b[0m\u001b[0m\n\u001b[1;32m    588\u001b[0m \u001b[0;34m\u001b[0m\u001b[0m\n",
            "\u001b[0;32m/usr/local/lib/python3.7/dist-packages/pandas/io/parsers/readers.py\u001b[0m in \u001b[0;36m_read\u001b[0;34m(filepath_or_buffer, kwds)\u001b[0m\n\u001b[1;32m    480\u001b[0m \u001b[0;34m\u001b[0m\u001b[0m\n\u001b[1;32m    481\u001b[0m     \u001b[0;31m# Create the parser.\u001b[0m\u001b[0;34m\u001b[0m\u001b[0;34m\u001b[0m\u001b[0;34m\u001b[0m\u001b[0m\n\u001b[0;32m--> 482\u001b[0;31m     \u001b[0mparser\u001b[0m \u001b[0;34m=\u001b[0m \u001b[0mTextFileReader\u001b[0m\u001b[0;34m(\u001b[0m\u001b[0mfilepath_or_buffer\u001b[0m\u001b[0;34m,\u001b[0m \u001b[0;34m**\u001b[0m\u001b[0mkwds\u001b[0m\u001b[0;34m)\u001b[0m\u001b[0;34m\u001b[0m\u001b[0;34m\u001b[0m\u001b[0m\n\u001b[0m\u001b[1;32m    483\u001b[0m \u001b[0;34m\u001b[0m\u001b[0m\n\u001b[1;32m    484\u001b[0m     \u001b[0;32mif\u001b[0m \u001b[0mchunksize\u001b[0m \u001b[0;32mor\u001b[0m \u001b[0miterator\u001b[0m\u001b[0;34m:\u001b[0m\u001b[0;34m\u001b[0m\u001b[0;34m\u001b[0m\u001b[0m\n",
            "\u001b[0;32m/usr/local/lib/python3.7/dist-packages/pandas/io/parsers/readers.py\u001b[0m in \u001b[0;36m__init__\u001b[0;34m(self, f, engine, **kwds)\u001b[0m\n\u001b[1;32m    809\u001b[0m             \u001b[0mself\u001b[0m\u001b[0;34m.\u001b[0m\u001b[0moptions\u001b[0m\u001b[0;34m[\u001b[0m\u001b[0;34m\"has_index_names\"\u001b[0m\u001b[0;34m]\u001b[0m \u001b[0;34m=\u001b[0m \u001b[0mkwds\u001b[0m\u001b[0;34m[\u001b[0m\u001b[0;34m\"has_index_names\"\u001b[0m\u001b[0;34m]\u001b[0m\u001b[0;34m\u001b[0m\u001b[0;34m\u001b[0m\u001b[0m\n\u001b[1;32m    810\u001b[0m \u001b[0;34m\u001b[0m\u001b[0m\n\u001b[0;32m--> 811\u001b[0;31m         \u001b[0mself\u001b[0m\u001b[0;34m.\u001b[0m\u001b[0m_engine\u001b[0m \u001b[0;34m=\u001b[0m \u001b[0mself\u001b[0m\u001b[0;34m.\u001b[0m\u001b[0m_make_engine\u001b[0m\u001b[0;34m(\u001b[0m\u001b[0mself\u001b[0m\u001b[0;34m.\u001b[0m\u001b[0mengine\u001b[0m\u001b[0;34m)\u001b[0m\u001b[0;34m\u001b[0m\u001b[0;34m\u001b[0m\u001b[0m\n\u001b[0m\u001b[1;32m    812\u001b[0m \u001b[0;34m\u001b[0m\u001b[0m\n\u001b[1;32m    813\u001b[0m     \u001b[0;32mdef\u001b[0m \u001b[0mclose\u001b[0m\u001b[0;34m(\u001b[0m\u001b[0mself\u001b[0m\u001b[0;34m)\u001b[0m\u001b[0;34m:\u001b[0m\u001b[0;34m\u001b[0m\u001b[0;34m\u001b[0m\u001b[0m\n",
            "\u001b[0;32m/usr/local/lib/python3.7/dist-packages/pandas/io/parsers/readers.py\u001b[0m in \u001b[0;36m_make_engine\u001b[0;34m(self, engine)\u001b[0m\n\u001b[1;32m   1038\u001b[0m             )\n\u001b[1;32m   1039\u001b[0m         \u001b[0;31m# error: Too many arguments for \"ParserBase\"\u001b[0m\u001b[0;34m\u001b[0m\u001b[0;34m\u001b[0m\u001b[0;34m\u001b[0m\u001b[0m\n\u001b[0;32m-> 1040\u001b[0;31m         \u001b[0;32mreturn\u001b[0m \u001b[0mmapping\u001b[0m\u001b[0;34m[\u001b[0m\u001b[0mengine\u001b[0m\u001b[0;34m]\u001b[0m\u001b[0;34m(\u001b[0m\u001b[0mself\u001b[0m\u001b[0;34m.\u001b[0m\u001b[0mf\u001b[0m\u001b[0;34m,\u001b[0m \u001b[0;34m**\u001b[0m\u001b[0mself\u001b[0m\u001b[0;34m.\u001b[0m\u001b[0moptions\u001b[0m\u001b[0;34m)\u001b[0m  \u001b[0;31m# type: ignore[call-arg]\u001b[0m\u001b[0;34m\u001b[0m\u001b[0;34m\u001b[0m\u001b[0m\n\u001b[0m\u001b[1;32m   1041\u001b[0m \u001b[0;34m\u001b[0m\u001b[0m\n\u001b[1;32m   1042\u001b[0m     \u001b[0;32mdef\u001b[0m \u001b[0m_failover_to_python\u001b[0m\u001b[0;34m(\u001b[0m\u001b[0mself\u001b[0m\u001b[0;34m)\u001b[0m\u001b[0;34m:\u001b[0m\u001b[0;34m\u001b[0m\u001b[0;34m\u001b[0m\u001b[0m\n",
            "\u001b[0;32m/usr/local/lib/python3.7/dist-packages/pandas/io/parsers/c_parser_wrapper.py\u001b[0m in \u001b[0;36m__init__\u001b[0;34m(self, src, **kwds)\u001b[0m\n\u001b[1;32m     49\u001b[0m \u001b[0;34m\u001b[0m\u001b[0m\n\u001b[1;32m     50\u001b[0m         \u001b[0;31m# open handles\u001b[0m\u001b[0;34m\u001b[0m\u001b[0;34m\u001b[0m\u001b[0;34m\u001b[0m\u001b[0m\n\u001b[0;32m---> 51\u001b[0;31m         \u001b[0mself\u001b[0m\u001b[0;34m.\u001b[0m\u001b[0m_open_handles\u001b[0m\u001b[0;34m(\u001b[0m\u001b[0msrc\u001b[0m\u001b[0;34m,\u001b[0m \u001b[0mkwds\u001b[0m\u001b[0;34m)\u001b[0m\u001b[0;34m\u001b[0m\u001b[0;34m\u001b[0m\u001b[0m\n\u001b[0m\u001b[1;32m     52\u001b[0m         \u001b[0;32massert\u001b[0m \u001b[0mself\u001b[0m\u001b[0;34m.\u001b[0m\u001b[0mhandles\u001b[0m \u001b[0;32mis\u001b[0m \u001b[0;32mnot\u001b[0m \u001b[0;32mNone\u001b[0m\u001b[0;34m\u001b[0m\u001b[0;34m\u001b[0m\u001b[0m\n\u001b[1;32m     53\u001b[0m \u001b[0;34m\u001b[0m\u001b[0m\n",
            "\u001b[0;32m/usr/local/lib/python3.7/dist-packages/pandas/io/parsers/base_parser.py\u001b[0m in \u001b[0;36m_open_handles\u001b[0;34m(self, src, kwds)\u001b[0m\n\u001b[1;32m    227\u001b[0m             \u001b[0mmemory_map\u001b[0m\u001b[0;34m=\u001b[0m\u001b[0mkwds\u001b[0m\u001b[0;34m.\u001b[0m\u001b[0mget\u001b[0m\u001b[0;34m(\u001b[0m\u001b[0;34m\"memory_map\"\u001b[0m\u001b[0;34m,\u001b[0m \u001b[0;32mFalse\u001b[0m\u001b[0;34m)\u001b[0m\u001b[0;34m,\u001b[0m\u001b[0;34m\u001b[0m\u001b[0;34m\u001b[0m\u001b[0m\n\u001b[1;32m    228\u001b[0m             \u001b[0mstorage_options\u001b[0m\u001b[0;34m=\u001b[0m\u001b[0mkwds\u001b[0m\u001b[0;34m.\u001b[0m\u001b[0mget\u001b[0m\u001b[0;34m(\u001b[0m\u001b[0;34m\"storage_options\"\u001b[0m\u001b[0;34m,\u001b[0m \u001b[0;32mNone\u001b[0m\u001b[0;34m)\u001b[0m\u001b[0;34m,\u001b[0m\u001b[0;34m\u001b[0m\u001b[0;34m\u001b[0m\u001b[0m\n\u001b[0;32m--> 229\u001b[0;31m             \u001b[0merrors\u001b[0m\u001b[0;34m=\u001b[0m\u001b[0mkwds\u001b[0m\u001b[0;34m.\u001b[0m\u001b[0mget\u001b[0m\u001b[0;34m(\u001b[0m\u001b[0;34m\"encoding_errors\"\u001b[0m\u001b[0;34m,\u001b[0m \u001b[0;34m\"strict\"\u001b[0m\u001b[0;34m)\u001b[0m\u001b[0;34m,\u001b[0m\u001b[0;34m\u001b[0m\u001b[0;34m\u001b[0m\u001b[0m\n\u001b[0m\u001b[1;32m    230\u001b[0m         )\n\u001b[1;32m    231\u001b[0m \u001b[0;34m\u001b[0m\u001b[0m\n",
            "\u001b[0;32m/usr/local/lib/python3.7/dist-packages/pandas/io/common.py\u001b[0m in \u001b[0;36mget_handle\u001b[0;34m(path_or_buf, mode, encoding, compression, memory_map, is_text, errors, storage_options)\u001b[0m\n\u001b[1;32m    705\u001b[0m                 \u001b[0mencoding\u001b[0m\u001b[0;34m=\u001b[0m\u001b[0mioargs\u001b[0m\u001b[0;34m.\u001b[0m\u001b[0mencoding\u001b[0m\u001b[0;34m,\u001b[0m\u001b[0;34m\u001b[0m\u001b[0;34m\u001b[0m\u001b[0m\n\u001b[1;32m    706\u001b[0m                 \u001b[0merrors\u001b[0m\u001b[0;34m=\u001b[0m\u001b[0merrors\u001b[0m\u001b[0;34m,\u001b[0m\u001b[0;34m\u001b[0m\u001b[0;34m\u001b[0m\u001b[0m\n\u001b[0;32m--> 707\u001b[0;31m                 \u001b[0mnewline\u001b[0m\u001b[0;34m=\u001b[0m\u001b[0;34m\"\"\u001b[0m\u001b[0;34m,\u001b[0m\u001b[0;34m\u001b[0m\u001b[0;34m\u001b[0m\u001b[0m\n\u001b[0m\u001b[1;32m    708\u001b[0m             )\n\u001b[1;32m    709\u001b[0m         \u001b[0;32melse\u001b[0m\u001b[0;34m:\u001b[0m\u001b[0;34m\u001b[0m\u001b[0;34m\u001b[0m\u001b[0m\n",
            "\u001b[0;31mFileNotFoundError\u001b[0m: [Errno 2] No such file or directory: '/content/drive/MyDrive/Copy of UScomments.csv'"
          ]
        }
      ]
    },
    {
      "cell_type": "code",
      "metadata": {
        "colab": {
          "base_uri": "https://localhost:8080/",
          "height": 200
        },
        "id": "PPXt-sP9s1io",
        "outputId": "def6f824-d722-4b05-a0f0-635a45b6d716"
      },
      "source": [
        "yt_comments.head()"
      ],
      "execution_count": null,
      "outputs": [
        {
          "output_type": "execute_result",
          "data": {
            "text/html": [
              "<div>\n",
              "<style scoped>\n",
              "    .dataframe tbody tr th:only-of-type {\n",
              "        vertical-align: middle;\n",
              "    }\n",
              "\n",
              "    .dataframe tbody tr th {\n",
              "        vertical-align: top;\n",
              "    }\n",
              "\n",
              "    .dataframe thead th {\n",
              "        text-align: right;\n",
              "    }\n",
              "</style>\n",
              "<table border=\"1\" class=\"dataframe\">\n",
              "  <thead>\n",
              "    <tr style=\"text-align: right;\">\n",
              "      <th></th>\n",
              "      <th>video_id</th>\n",
              "      <th>comment_text</th>\n",
              "      <th>likes</th>\n",
              "      <th>replies</th>\n",
              "    </tr>\n",
              "  </thead>\n",
              "  <tbody>\n",
              "    <tr>\n",
              "      <th>0</th>\n",
              "      <td>XpVt6Z1Gjjo</td>\n",
              "      <td>Logan Paul it's yo big day ‼️‼️‼️</td>\n",
              "      <td>4</td>\n",
              "      <td>0</td>\n",
              "    </tr>\n",
              "    <tr>\n",
              "      <th>1</th>\n",
              "      <td>XpVt6Z1Gjjo</td>\n",
              "      <td>I've been following you from the start of your...</td>\n",
              "      <td>3</td>\n",
              "      <td>0</td>\n",
              "    </tr>\n",
              "    <tr>\n",
              "      <th>2</th>\n",
              "      <td>XpVt6Z1Gjjo</td>\n",
              "      <td>Say hi to Kong and maverick for me</td>\n",
              "      <td>3</td>\n",
              "      <td>0</td>\n",
              "    </tr>\n",
              "    <tr>\n",
              "      <th>3</th>\n",
              "      <td>XpVt6Z1Gjjo</td>\n",
              "      <td>MY FAN . attendance</td>\n",
              "      <td>3</td>\n",
              "      <td>0</td>\n",
              "    </tr>\n",
              "    <tr>\n",
              "      <th>4</th>\n",
              "      <td>XpVt6Z1Gjjo</td>\n",
              "      <td>trending 😉</td>\n",
              "      <td>3</td>\n",
              "      <td>0</td>\n",
              "    </tr>\n",
              "  </tbody>\n",
              "</table>\n",
              "</div>"
            ],
            "text/plain": [
              "      video_id                                       comment_text likes replies\n",
              "0  XpVt6Z1Gjjo                  Logan Paul it's yo big day ‼️‼️‼️     4       0\n",
              "1  XpVt6Z1Gjjo  I've been following you from the start of your...     3       0\n",
              "2  XpVt6Z1Gjjo                 Say hi to Kong and maverick for me     3       0\n",
              "3  XpVt6Z1Gjjo                                MY FAN . attendance     3       0\n",
              "4  XpVt6Z1Gjjo                                         trending 😉     3       0"
            ]
          },
          "metadata": {},
          "execution_count": 11
        }
      ]
    },
    {
      "cell_type": "code",
      "metadata": {
        "colab": {
          "base_uri": "https://localhost:8080/"
        },
        "id": "SNyeHUpis6Q7",
        "outputId": "a1fd6c50-fd0f-481b-debb-58eba73c9385"
      },
      "source": [
        "yt_comments.info"
      ],
      "execution_count": null,
      "outputs": [
        {
          "output_type": "execute_result",
          "data": {
            "text/plain": [
              "<bound method DataFrame.info of            video_id  ... replies\n",
              "0       XpVt6Z1Gjjo  ...       0\n",
              "1       XpVt6Z1Gjjo  ...       0\n",
              "2       XpVt6Z1Gjjo  ...       0\n",
              "3       XpVt6Z1Gjjo  ...       0\n",
              "4       XpVt6Z1Gjjo  ...       0\n",
              "...             ...  ...     ...\n",
              "691395  EoejGgUNmVU  ...       0\n",
              "691396  EoejGgUNmVU  ...       0\n",
              "691397  EoejGgUNmVU  ...       0\n",
              "691398  EoejGgUNmVU  ...       0\n",
              "691399  EoejGgUNmVU  ...       0\n",
              "\n",
              "[691400 rows x 4 columns]>"
            ]
          },
          "metadata": {},
          "execution_count": 13
        }
      ]
    },
    {
      "cell_type": "markdown",
      "metadata": {
        "id": "cv3L9_ekttGq"
      },
      "source": [
        "**Sentiment Analysis**\n",
        "\n",
        "The dataset has 691,400 rows so let's take a smaller sample of 1000 rows to analyze. We're using the `sample()` method to generate a random sample from the dataframe."
      ]
    },
    {
      "cell_type": "code",
      "metadata": {
        "colab": {
          "base_uri": "https://localhost:8080/"
        },
        "id": "rtsgODO3t6dI",
        "outputId": "e1921728-460a-4cf2-bbe1-5a772aafdea8"
      },
      "source": [
        "yt_comments_sample = yt_comments.sample(1000)\n",
        "yt_comments_sample.shape"
      ],
      "execution_count": null,
      "outputs": [
        {
          "output_type": "execute_result",
          "data": {
            "text/plain": [
              "(1000, 4)"
            ]
          },
          "metadata": {},
          "execution_count": 15
        }
      ]
    },
    {
      "cell_type": "markdown",
      "metadata": {
        "id": "z78KTWBcucJ4"
      },
      "source": [
        "One thing we can do is calculate the polarity of each comment and use a histogram to visualize the distribution.\n",
        "\n",
        "**Question 1:** In this example, we're only analyzing the polarity of comments. Do you think we should also analyze their subjectivity? Why or why not?\n",
        "\n",
        "To start off, let's create a for loop to iterate through each comment and calculate its polarity."
      ]
    },
    {
      "cell_type": "code",
      "metadata": {
        "colab": {
          "base_uri": "https://localhost:8080/"
        },
        "id": "ylBKuRWzu0be",
        "outputId": "5c2b2a03-8b06-43ae-e6cb-651b57ce9579"
      },
      "source": [
        "pol_values = []\n",
        "for x in yt_comments_sample.comment_text.values: #This is another value of getting the values in a column\n",
        "   pol_value = TextBlob(x).sentiment.polarity\n",
        "   pol_values = np.append(pol_values, pol_value)\n",
        "\n",
        "print(pol_values[:5])\n",
        "print(len(pol_values))"
      ],
      "execution_count": null,
      "outputs": [
        {
          "output_type": "stream",
          "name": "stdout",
          "text": [
            "[ 0.          0.          0.35714286  0.5        -0.8       ]\n",
            "1000\n"
          ]
        }
      ]
    },
    {
      "cell_type": "markdown",
      "metadata": {
        "id": "cGYdMMRrwkHq"
      },
      "source": [
        "Now, we can create the histogram:"
      ]
    },
    {
      "cell_type": "code",
      "metadata": {
        "colab": {
          "base_uri": "https://localhost:8080/",
          "height": 482
        },
        "id": "1h_ztSHowmz_",
        "outputId": "a21a9f4a-613a-49ba-c65a-d06fd52b6207"
      },
      "source": [
        "plt.figure(figsize = (10, 8))\n",
        "sns.histplot(pol_values, stat = \"density\")\n",
        "plt.show()"
      ],
      "execution_count": null,
      "outputs": [
        {
          "output_type": "display_data",
          "data": {
            "image/png": "[encoded data removed]",
            "text/plain": [
              "<Figure size 720x576 with 1 Axes>"
            ]
          },
          "metadata": {
            "needs_background": "light"
          }
        }
      ]
    },
    {
      "cell_type": "markdown",
      "metadata": {
        "id": "60Aj-J0Z22EE"
      },
      "source": [
        "**Question 2:** Give a brief (2-3 sentences) interpretation of the histogram, talking about what it shows (with respect to distribution of polarity), any patterns you notice and anything else that stands out to you.\n",
        "\n",
        "We can also convert the polarity values to categories to get a better sense of the percentage of positive, negative and neutral comments. We can do this using conditional statements:"
      ]
    },
    {
      "cell_type": "code",
      "metadata": {
        "colab": {
          "base_uri": "https://localhost:8080/"
        },
        "id": "1stCHO9DxwQz",
        "outputId": "11d77e19-ed4b-4ec6-c86b-582c6db7395e"
      },
      "source": [
        "pol_categories = []\n",
        "for x in pol_values:\n",
        "  if x == 0:\n",
        "    pol_categories = np.append(pol_categories, 0)\n",
        "  elif x > 0:\n",
        "    pol_categories = np.append(pol_categories, 1)\n",
        "  elif x < 0:\n",
        "    pol_categories = np.append(pol_categories, -1)\n",
        "\n",
        "print(pol_categories[:5])\n",
        "print(len(pol_categories))"
      ],
      "execution_count": null,
      "outputs": [
        {
          "output_type": "stream",
          "name": "stdout",
          "text": [
            "[ 0.  0.  1.  1. -1.]\n",
            "1000\n"
          ]
        }
      ]
    },
    {
      "cell_type": "markdown",
      "metadata": {
        "id": "8J0piTMJzTwX"
      },
      "source": [
        "We can add this as a column to `yt_comments_sample`:"
      ]
    },
    {
      "cell_type": "code",
      "metadata": {
        "id": "Twnptw02zaS1"
      },
      "source": [
        "yt_comments_sample[\"polarity\"] = pol_categories"
      ],
      "execution_count": null,
      "outputs": []
    },
    {
      "cell_type": "code",
      "metadata": {
        "colab": {
          "base_uri": "https://localhost:8080/",
          "height": 408
        },
        "id": "EET51NLi0UCa",
        "outputId": "877ff80c-d3ba-406c-df4b-787001036273"
      },
      "source": [
        "#Positive comments\n",
        "yt_comments_sample[yt_comments_sample[\"polarity\"] > 0]"
      ],
      "execution_count": null,
      "outputs": [
        {
          "output_type": "execute_result",
          "data": {
            "text/html": [
              "<div>\n",
              "<style scoped>\n",
              "    .dataframe tbody tr th:only-of-type {\n",
              "        vertical-align: middle;\n",
              "    }\n",
              "\n",
              "    .dataframe tbody tr th {\n",
              "        vertical-align: top;\n",
              "    }\n",
              "\n",
              "    .dataframe thead th {\n",
              "        text-align: right;\n",
              "    }\n",
              "</style>\n",
              "<table border=\"1\" class=\"dataframe\">\n",
              "  <thead>\n",
              "    <tr style=\"text-align: right;\">\n",
              "      <th></th>\n",
              "      <th>video_id</th>\n",
              "      <th>comment_text</th>\n",
              "      <th>likes</th>\n",
              "      <th>replies</th>\n",
              "      <th>polarity</th>\n",
              "    </tr>\n",
              "  </thead>\n",
              "  <tbody>\n",
              "    <tr>\n",
              "      <th>549277</th>\n",
              "      <td>rJTkHGXMdb0</td>\n",
              "      <td>But once a portion of the population gets used...</td>\n",
              "      <td>0</td>\n",
              "      <td>0</td>\n",
              "      <td>1.0</td>\n",
              "    </tr>\n",
              "    <tr>\n",
              "      <th>99904</th>\n",
              "      <td>Xqpf1FxU2q4</td>\n",
              "      <td>inspirational</td>\n",
              "      <td>0</td>\n",
              "      <td>0</td>\n",
              "      <td>1.0</td>\n",
              "    </tr>\n",
              "    <tr>\n",
              "      <th>99787</th>\n",
              "      <td>TdH_NL35Nbw</td>\n",
              "      <td>The wink sound effect😂😂😂</td>\n",
              "      <td>0</td>\n",
              "      <td>0</td>\n",
              "      <td>1.0</td>\n",
              "    </tr>\n",
              "    <tr>\n",
              "      <th>316382</th>\n",
              "      <td>WfjZ1otkS3o</td>\n",
              "      <td>As a former NAPSter (Naval Academy Preparatory...</td>\n",
              "      <td>1</td>\n",
              "      <td>2</td>\n",
              "      <td>1.0</td>\n",
              "    </tr>\n",
              "    <tr>\n",
              "      <th>372917</th>\n",
              "      <td>q2KehxKQ3Zk</td>\n",
              "      <td>all puertan ricans should sell their homes to ...</td>\n",
              "      <td>1</td>\n",
              "      <td>0</td>\n",
              "      <td>1.0</td>\n",
              "    </tr>\n",
              "    <tr>\n",
              "      <th>...</th>\n",
              "      <td>...</td>\n",
              "      <td>...</td>\n",
              "      <td>...</td>\n",
              "      <td>...</td>\n",
              "      <td>...</td>\n",
              "    </tr>\n",
              "    <tr>\n",
              "      <th>287996</th>\n",
              "      <td>ckXN4Tc6-c8</td>\n",
              "      <td>Your skin is flawless</td>\n",
              "      <td>0</td>\n",
              "      <td>0</td>\n",
              "      <td>1.0</td>\n",
              "    </tr>\n",
              "    <tr>\n",
              "      <th>271592</th>\n",
              "      <td>S_9OSktlm6s</td>\n",
              "      <td>Yes so much yes</td>\n",
              "      <td>0</td>\n",
              "      <td>0</td>\n",
              "      <td>1.0</td>\n",
              "    </tr>\n",
              "    <tr>\n",
              "      <th>87416</th>\n",
              "      <td>mYphOR0Jegw</td>\n",
              "      <td>Now thats a perfect Intro!!!!!!!!!!!!!!!!!!!!!!</td>\n",
              "      <td>0</td>\n",
              "      <td>0</td>\n",
              "      <td>1.0</td>\n",
              "    </tr>\n",
              "    <tr>\n",
              "      <th>75258</th>\n",
              "      <td>pOZ5FrTMQMA</td>\n",
              "      <td>#fanderwallsinceday1 ❤️💜💚💙💛 love u grace.</td>\n",
              "      <td>0</td>\n",
              "      <td>0</td>\n",
              "      <td>1.0</td>\n",
              "    </tr>\n",
              "    <tr>\n",
              "      <th>222829</th>\n",
              "      <td>PJsJ96yyVk8</td>\n",
              "      <td>This is such a beautiful message.</td>\n",
              "      <td>0</td>\n",
              "      <td>0</td>\n",
              "      <td>1.0</td>\n",
              "    </tr>\n",
              "  </tbody>\n",
              "</table>\n",
              "<p>396 rows × 5 columns</p>\n",
              "</div>"
            ],
            "text/plain": [
              "           video_id  ... polarity\n",
              "549277  rJTkHGXMdb0  ...      1.0\n",
              "99904   Xqpf1FxU2q4  ...      1.0\n",
              "99787   TdH_NL35Nbw  ...      1.0\n",
              "316382  WfjZ1otkS3o  ...      1.0\n",
              "372917  q2KehxKQ3Zk  ...      1.0\n",
              "...             ...  ...      ...\n",
              "287996  ckXN4Tc6-c8  ...      1.0\n",
              "271592  S_9OSktlm6s  ...      1.0\n",
              "87416   mYphOR0Jegw  ...      1.0\n",
              "75258   pOZ5FrTMQMA  ...      1.0\n",
              "222829  PJsJ96yyVk8  ...      1.0\n",
              "\n",
              "[396 rows x 5 columns]"
            ]
          },
          "metadata": {},
          "execution_count": 51
        }
      ]
    },
    {
      "cell_type": "code",
      "metadata": {
        "colab": {
          "base_uri": "https://localhost:8080/",
          "height": 408
        },
        "id": "Xe36mz7m0NkP",
        "outputId": "b8fee11d-7bb3-44f3-bdb7-d67c14264689"
      },
      "source": [
        "#Negative comments\n",
        "yt_comments_sample[yt_comments_sample[\"polarity\"] < 0]"
      ],
      "execution_count": null,
      "outputs": [
        {
          "output_type": "execute_result",
          "data": {
            "text/html": [
              "<div>\n",
              "<style scoped>\n",
              "    .dataframe tbody tr th:only-of-type {\n",
              "        vertical-align: middle;\n",
              "    }\n",
              "\n",
              "    .dataframe tbody tr th {\n",
              "        vertical-align: top;\n",
              "    }\n",
              "\n",
              "    .dataframe thead th {\n",
              "        text-align: right;\n",
              "    }\n",
              "</style>\n",
              "<table border=\"1\" class=\"dataframe\">\n",
              "  <thead>\n",
              "    <tr style=\"text-align: right;\">\n",
              "      <th></th>\n",
              "      <th>video_id</th>\n",
              "      <th>comment_text</th>\n",
              "      <th>likes</th>\n",
              "      <th>replies</th>\n",
              "      <th>polarity</th>\n",
              "    </tr>\n",
              "  </thead>\n",
              "  <tbody>\n",
              "    <tr>\n",
              "      <th>250310</th>\n",
              "      <td>00P112HXoK0</td>\n",
              "      <td>LeBron = stupid dribbler</td>\n",
              "      <td>0</td>\n",
              "      <td>0</td>\n",
              "      <td>-1.0</td>\n",
              "    </tr>\n",
              "    <tr>\n",
              "      <th>615920</th>\n",
              "      <td>2HcqS508lIo</td>\n",
              "      <td>The second biggest boondoggle after the F-35\\n...</td>\n",
              "      <td>0</td>\n",
              "      <td>0</td>\n",
              "      <td>-1.0</td>\n",
              "    </tr>\n",
              "    <tr>\n",
              "      <th>257486</th>\n",
              "      <td>ofz2cHLkiRI</td>\n",
              "      <td>that time you buy a samsung qi charger for you...</td>\n",
              "      <td>0</td>\n",
              "      <td>0</td>\n",
              "      <td>-1.0</td>\n",
              "    </tr>\n",
              "    <tr>\n",
              "      <th>626073</th>\n",
              "      <td>S0G5EloK3LE</td>\n",
              "      <td>Literally queen of Halloween !!!!! I’m obsessed!!</td>\n",
              "      <td>0</td>\n",
              "      <td>1</td>\n",
              "      <td>-1.0</td>\n",
              "    </tr>\n",
              "    <tr>\n",
              "      <th>380047</th>\n",
              "      <td>JhyTKIwar1k</td>\n",
              "      <td>Just randomly facetiming a stranger in your bra</td>\n",
              "      <td>0</td>\n",
              "      <td>0</td>\n",
              "      <td>-1.0</td>\n",
              "    </tr>\n",
              "    <tr>\n",
              "      <th>...</th>\n",
              "      <td>...</td>\n",
              "      <td>...</td>\n",
              "      <td>...</td>\n",
              "      <td>...</td>\n",
              "      <td>...</td>\n",
              "    </tr>\n",
              "    <tr>\n",
              "      <th>510693</th>\n",
              "      <td>iZFWRi3npiA</td>\n",
              "      <td>All of the people in the comment section have ...</td>\n",
              "      <td>0</td>\n",
              "      <td>0</td>\n",
              "      <td>-1.0</td>\n",
              "    </tr>\n",
              "    <tr>\n",
              "      <th>103352</th>\n",
              "      <td>SjZWJoNYpHI</td>\n",
              "      <td>Heaven got a little louder today. RIP Grant Hart.</td>\n",
              "      <td>2</td>\n",
              "      <td>0</td>\n",
              "      <td>-1.0</td>\n",
              "    </tr>\n",
              "    <tr>\n",
              "      <th>639202</th>\n",
              "      <td>iALfvFpcItE</td>\n",
              "      <td>WHAT THE HELL Man?!?!?!... I've always dealt w...</td>\n",
              "      <td>0</td>\n",
              "      <td>0</td>\n",
              "      <td>-1.0</td>\n",
              "    </tr>\n",
              "    <tr>\n",
              "      <th>648350</th>\n",
              "      <td>8Wb9KYnNxUc</td>\n",
              "      <td>Talking all that shit but karma came back and ...</td>\n",
              "      <td>1</td>\n",
              "      <td>0</td>\n",
              "      <td>-1.0</td>\n",
              "    </tr>\n",
              "    <tr>\n",
              "      <th>193934</th>\n",
              "      <td>G_SjnHwxWMU</td>\n",
              "      <td>This is horrible, I'm sorry. She really can't ...</td>\n",
              "      <td>0</td>\n",
              "      <td>0</td>\n",
              "      <td>-1.0</td>\n",
              "    </tr>\n",
              "  </tbody>\n",
              "</table>\n",
              "<p>186 rows × 5 columns</p>\n",
              "</div>"
            ],
            "text/plain": [
              "           video_id  ... polarity\n",
              "250310  00P112HXoK0  ...     -1.0\n",
              "615920  2HcqS508lIo  ...     -1.0\n",
              "257486  ofz2cHLkiRI  ...     -1.0\n",
              "626073  S0G5EloK3LE  ...     -1.0\n",
              "380047  JhyTKIwar1k  ...     -1.0\n",
              "...             ...  ...      ...\n",
              "510693  iZFWRi3npiA  ...     -1.0\n",
              "103352  SjZWJoNYpHI  ...     -1.0\n",
              "639202  iALfvFpcItE  ...     -1.0\n",
              "648350  8Wb9KYnNxUc  ...     -1.0\n",
              "193934  G_SjnHwxWMU  ...     -1.0\n",
              "\n",
              "[186 rows x 5 columns]"
            ]
          },
          "metadata": {},
          "execution_count": 52
        }
      ]
    },
    {
      "cell_type": "code",
      "metadata": {
        "colab": {
          "base_uri": "https://localhost:8080/",
          "height": 408
        },
        "id": "JAuP6_xe0N7X",
        "outputId": "980092b9-bd72-4032-9808-8ae9217eb8cd"
      },
      "source": [
        "#Neutral comments\n",
        "yt_comments_sample[yt_comments_sample[\"polarity\"] == 0]"
      ],
      "execution_count": null,
      "outputs": [
        {
          "output_type": "execute_result",
          "data": {
            "text/html": [
              "<div>\n",
              "<style scoped>\n",
              "    .dataframe tbody tr th:only-of-type {\n",
              "        vertical-align: middle;\n",
              "    }\n",
              "\n",
              "    .dataframe tbody tr th {\n",
              "        vertical-align: top;\n",
              "    }\n",
              "\n",
              "    .dataframe thead th {\n",
              "        text-align: right;\n",
              "    }\n",
              "</style>\n",
              "<table border=\"1\" class=\"dataframe\">\n",
              "  <thead>\n",
              "    <tr style=\"text-align: right;\">\n",
              "      <th></th>\n",
              "      <th>video_id</th>\n",
              "      <th>comment_text</th>\n",
              "      <th>likes</th>\n",
              "      <th>replies</th>\n",
              "      <th>polarity</th>\n",
              "    </tr>\n",
              "  </thead>\n",
              "  <tbody>\n",
              "    <tr>\n",
              "      <th>268773</th>\n",
              "      <td>aVsOXRgjeeU</td>\n",
              "      <td>FAT AMY YOOO 😂😂</td>\n",
              "      <td>0</td>\n",
              "      <td>0</td>\n",
              "      <td>0.0</td>\n",
              "    </tr>\n",
              "    <tr>\n",
              "      <th>325963</th>\n",
              "      <td>NSFXDaMFUN4</td>\n",
              "      <td>WHERE ARE YOU THEN?!</td>\n",
              "      <td>0</td>\n",
              "      <td>0</td>\n",
              "      <td>0.0</td>\n",
              "    </tr>\n",
              "    <tr>\n",
              "      <th>100994</th>\n",
              "      <td>iIYXR4axaJY</td>\n",
              "      <td>GURL WHATS THAT MEAL WE NEED A VLOG OF U MAKIN...</td>\n",
              "      <td>0</td>\n",
              "      <td>0</td>\n",
              "      <td>0.0</td>\n",
              "    </tr>\n",
              "    <tr>\n",
              "      <th>316421</th>\n",
              "      <td>2eAuJIGlp9I</td>\n",
              "      <td>I hope segal finds you one night and shuts you...</td>\n",
              "      <td>0</td>\n",
              "      <td>0</td>\n",
              "      <td>0.0</td>\n",
              "    </tr>\n",
              "    <tr>\n",
              "      <th>214754</th>\n",
              "      <td>dt__kig8PVU</td>\n",
              "      <td>i just noticed it has bill Murray in it</td>\n",
              "      <td>0</td>\n",
              "      <td>0</td>\n",
              "      <td>0.0</td>\n",
              "    </tr>\n",
              "    <tr>\n",
              "      <th>...</th>\n",
              "      <td>...</td>\n",
              "      <td>...</td>\n",
              "      <td>...</td>\n",
              "      <td>...</td>\n",
              "      <td>...</td>\n",
              "    </tr>\n",
              "    <tr>\n",
              "      <th>368136</th>\n",
              "      <td>wAcD3mIjZcc</td>\n",
              "      <td>IM A DOG PERSON AND TRUSTWORTHY!</td>\n",
              "      <td>0</td>\n",
              "      <td>0</td>\n",
              "      <td>0.0</td>\n",
              "    </tr>\n",
              "    <tr>\n",
              "      <th>206785</th>\n",
              "      <td>RIGgn1s3AvI</td>\n",
              "      <td>Hermosa</td>\n",
              "      <td>0</td>\n",
              "      <td>0</td>\n",
              "      <td>0.0</td>\n",
              "    </tr>\n",
              "    <tr>\n",
              "      <th>552291</th>\n",
              "      <td>I4qv0c2-lfw</td>\n",
              "      <td>lay off the cigarettes</td>\n",
              "      <td>0</td>\n",
              "      <td>0</td>\n",
              "      <td>0.0</td>\n",
              "    </tr>\n",
              "    <tr>\n",
              "      <th>589602</th>\n",
              "      <td>hkA2a4_tNOs</td>\n",
              "      <td>KILL THE EMOJIES</td>\n",
              "      <td>0</td>\n",
              "      <td>0</td>\n",
              "      <td>0.0</td>\n",
              "    </tr>\n",
              "    <tr>\n",
              "      <th>412553</th>\n",
              "      <td>YqqJFqj5xQQ</td>\n",
              "      <td>White power wooo jk</td>\n",
              "      <td>0</td>\n",
              "      <td>0</td>\n",
              "      <td>0.0</td>\n",
              "    </tr>\n",
              "  </tbody>\n",
              "</table>\n",
              "<p>418 rows × 5 columns</p>\n",
              "</div>"
            ],
            "text/plain": [
              "           video_id  ... polarity\n",
              "268773  aVsOXRgjeeU  ...      0.0\n",
              "325963  NSFXDaMFUN4  ...      0.0\n",
              "100994  iIYXR4axaJY  ...      0.0\n",
              "316421  2eAuJIGlp9I  ...      0.0\n",
              "214754  dt__kig8PVU  ...      0.0\n",
              "...             ...  ...      ...\n",
              "368136  wAcD3mIjZcc  ...      0.0\n",
              "206785  RIGgn1s3AvI  ...      0.0\n",
              "552291  I4qv0c2-lfw  ...      0.0\n",
              "589602  hkA2a4_tNOs  ...      0.0\n",
              "412553  YqqJFqj5xQQ  ...      0.0\n",
              "\n",
              "[418 rows x 5 columns]"
            ]
          },
          "metadata": {},
          "execution_count": 53
        }
      ]
    },
    {
      "cell_type": "markdown",
      "metadata": {
        "id": "d-9-2uKb4YpE"
      },
      "source": [
        "**Question 3:** Look at more rows from the 3 tables above (you can use `.head(20)`). Do you notice a disconnect between the polarity that TextBlob assigned to the comments and the actual sentiment of the comments? For example, did it assign a neutral rating to a comment that is in reality negative? Talk a little about what you see."
      ]
    },
    {
      "cell_type": "markdown",
      "metadata": {
        "id": "m-rMczpWyhD0"
      },
      "source": [
        "We can now create a bar chart to visualize this distribution:"
      ]
    },
    {
      "cell_type": "code",
      "metadata": {
        "colab": {
          "base_uri": "https://localhost:8080/",
          "height": 265
        },
        "id": "yJp6YnTVy4mQ",
        "outputId": "a2dec57f-bc32-4c30-e1d0-6cdd48b974da"
      },
      "source": [
        "category = yt_comments_sample[\"polarity\"].value_counts().index\n",
        "values = yt_comments_sample[\"polarity\"].value_counts().values\n",
        "sns.barplot(x = category, y = values, palette = \"flare\")\n",
        "plt.show()"
      ],
      "execution_count": null,
      "outputs": [
        {
          "output_type": "display_data",
          "data": {
            "image/png": "[encoded data removed]",
            "text/plain": [
              "<Figure size 432x288 with 1 Axes>"
            ]
          },
          "metadata": {
            "needs_background": "light"
          }
        }
      ]
    },
    {
      "cell_type": "markdown",
      "metadata": {
        "id": "YbD4QPvf5hqx"
      },
      "source": [
        "**Question 4:** What do you notice about the bar chart? Is it misleading in any way (you can compare it to the histogram)?\n",
        "\n",
        "**Question 5:** Replicate this analysis (find the polarity categories and create a bar chart) for another random sample of 1000 rows. Compare your graphs to the ones in the example above. Do you notice a significant difference? Is this what you expected?"
      ]
    },
    {
      "cell_type": "markdown",
      "metadata": {
        "id": "ixAoiv5UToc8"
      },
      "source": [
        "# **Resources**\n",
        "\n",
        "1. [Your Guide to Natural Language Processing (NLP)](https://towardsdatascience.com/your-guide-to-natural-language-processing-nlp-48ea2511f6e1)\n",
        "2. [Official TextBlob Documentation](https://textblob.readthedocs.io/en/dev/#)"
      ]
    },
    {
      "cell_type": "markdown",
      "metadata": {
        "id": "w5oTNHbETrsg"
      },
      "source": [
        "# **Project Tasks**\n",
        "\n",
        "1. Sentiment Analysis:\n",
        "\n",
        "  a. Use TextBlob to analyze the polarity of the tweets in the vaccines dataset.\n",
        "      - Write a for loop to find the polarity of each tweet and store the results in a list.\n",
        "      - Add the list to the dataset.\n",
        "      - Convert the values in the list to categorical data and store this in a different list.\n",
        "      - Add the list to the dataset (so your data should have both continuous and categorical data for polarity).\n",
        "\n",
        "  b. Use TextBlob to analyze the subjectivity of the tweets in the vaccines dataset.\n",
        "      - Write a for loop to find the subjectivity of each tweet and store the results in a list (hint: you would use `subjectivity` instead of `polarity`).\n",
        "      - Add the list to the dataset.\n",
        "      - Convert the values in the list to categorical data and store this in a different list.\n",
        "      - Add the list to the dataset (so your data should have both continuous and categorical data for subjectivity).\n",
        "\n",
        "2. Interpretation:\n",
        "\n",
        "  a. Filter the dataset based on polarity (one dataset for each category of polarity). Look at a few entries (about 15-20) and talk about whether you think the polarity TextBlob gave to the tweet is accurate.\n",
        "\n",
        "  b. Filter the dataset based on subjectivity (one dataset for each category of polarity). Look at a few entries (about 15-20) and talk about whether you think the polarity TextBlob gave to the tweet is accurate.\n",
        "\n",
        "3. Data Visualization:\n",
        "\n",
        "  a. Polarity: Create each of the following visualizations and write up a brief analysis (~2 sentences) on them.\n",
        "     - Create a histogram to visualize continuous polarity. \n",
        "     - Create a bar chart to visualize categorical polarity.\n",
        "     - Create a visualization involving another variable in the dataset (e.g. you could create a scatter plot to visualize correlation between polarity and another variable).\n",
        "\n",
        "  b. Subjectivity: Create each of the following visualizations and write up a brief analysis (~2 sentences) on them.\n",
        "     - Create a histogram to visualize continuous subjectivity. \n",
        "     - Create a bar chart to visualize categorical subjectivity.\n",
        "     - Create a visualization involving another variable in the dataset (e.g. you could create a scatter plot to visualize correlation between subjectivity and another variable)."
      ]
    },
    {
      "cell_type": "markdown",
      "metadata": {
        "id": "vVJQD9u9TxJ8"
      },
      "source": [
        "# Written by Vaidehi Bulusu\n",
        "\n",
        "---"
      ]
    }
  ]
}